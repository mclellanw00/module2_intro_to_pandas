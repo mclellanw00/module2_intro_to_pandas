{
  "cells": [
    {
      "cell_type": "markdown",
      "metadata": {
        "colab_type": "text",
        "id": "view-in-github"
      },
      "source": [
        "<a href=\"https://colab.research.google.com/github/mclellanw00/module2_intro_to_pandas/blob/main/2_2_dataframe_verbs_select_filter_mutate.ipynb\" target=\"_parent\"><img src=\"https://colab.research.google.com/assets/colab-badge.svg\" alt=\"Open In Colab\"/></a>"
      ]
    },
    {
      "cell_type": "code",
      "execution_count": 1,
      "metadata": {
        "colab": {
          "base_uri": "https://localhost:8080/"
        },
        "id": "HZQFZhdFcyyr",
        "outputId": "9ddacfa9-55db-45cb-aa04-4971c71a0a75"
      },
      "outputs": [
        {
          "name": "stdout",
          "output_type": "stream",
          "text": [
            "Requirement already satisfied: dfply in /home/wil/.pyenv/versions/anaconda3-2022.05/lib/python3.9/site-packages (0.3.3)\n",
            "Requirement already satisfied: numpy in /home/wil/.pyenv/versions/anaconda3-2022.05/lib/python3.9/site-packages (from dfply) (1.21.5)\n",
            "Requirement already satisfied: pandas in /home/wil/.pyenv/versions/anaconda3-2022.05/lib/python3.9/site-packages (from dfply) (1.4.2)\n",
            "Requirement already satisfied: python-dateutil>=2.8.1 in /home/wil/.pyenv/versions/anaconda3-2022.05/lib/python3.9/site-packages (from pandas->dfply) (2.8.2)\n",
            "Requirement already satisfied: pytz>=2020.1 in /home/wil/.pyenv/versions/anaconda3-2022.05/lib/python3.9/site-packages (from pandas->dfply) (2021.3)\n",
            "Requirement already satisfied: six>=1.5 in /home/wil/.pyenv/versions/anaconda3-2022.05/lib/python3.9/site-packages (from python-dateutil>=2.8.1->pandas->dfply) (1.16.0)\n"
          ]
        }
      ],
      "source": [
        "# Be sure you installed dfply\n",
        "!pip install dfply"
      ]
    },
    {
      "cell_type": "markdown",
      "metadata": {
        "id": "SlRLRuaEcyys"
      },
      "source": [
        "## <font color=\"red\"> With the currect version of anaconda3 [2022.05], this won't work on newer M1 Mac's.  If this describes you, please skip over all R code/installations.</font>"
      ]
    },
    {
      "cell_type": "code",
      "execution_count": 2,
      "metadata": {
        "colab": {
          "base_uri": "https://localhost:8080/"
        },
        "id": "S2MVRvYPcyyt",
        "outputId": "6cd92d2e-a962-4bef-ab36-9ef962a650ec"
      },
      "outputs": [
        {
          "name": "stdout",
          "output_type": "stream",
          "text": [
            "Running `brew update --auto-update`...\n",
            "\u001b[34m==>\u001b[0m \u001b[1mHomebrew is run entirely by unpaid volunteers. Please consider donating:\u001b[0m\n",
            "  \u001b[4mhttps://github.com/Homebrew/brew#donations\u001b[24m\n",
            "\n",
            "\u001b[34m==>\u001b[0m \u001b[1mAuto-updated Homebrew!\u001b[0m\n",
            "Updated 1 tap (homebrew/core).\n",
            "\u001b[34m==>\u001b[0m \u001b[1mNew Formulae\u001b[0m\n",
            "c                   gator               libff               popeye\n",
            "distrobox           hof                 libplacebo          taplo\n",
            "echidna             kubesess            licenseplist\n",
            "\n",
            "You have \u001b[1m2\u001b[0m outdated formulae installed.\n",
            "You can upgrade them with \u001b[1mbrew upgrade\u001b[0m\n",
            "or list them with \u001b[1mbrew outdated\u001b[0m.\n",
            "\n",
            "\u001b[34m==>\u001b[0m \u001b[1mDownloading https://ghcr.io/v2/homebrew/core/libpng/manifests/1.6.37\u001b[0m\n",
            "######################################################################## 100.0%\n",
            "\u001b[34m==>\u001b[0m \u001b[1mDownloading https://ghcr.io/v2/homebrew/core/libpng/blobs/sha256:aeb238f8b62\u001b[0m\n",
            "\u001b[34m==>\u001b[0m \u001b[1mDownloading from https://pkg-containers.githubusercontent.com/ghcr1/blobs/sh\u001b[0m\n",
            "######################################################################## 100.0%\n",
            "\u001b[34m==>\u001b[0m \u001b[1mDownloading https://ghcr.io/v2/homebrew/core/freetype/manifests/2.12.1\u001b[0m\n",
            "######################################################################## 100.0%\n",
            "\u001b[34m==>\u001b[0m \u001b[1mDownloading https://ghcr.io/v2/homebrew/core/freetype/blobs/sha256:43be70d09\u001b[0m\n",
            "\u001b[34m==>\u001b[0m \u001b[1mDownloading from https://pkg-containers.githubusercontent.com/ghcr1/blobs/sh\u001b[0m\n",
            "######################################################################## 100.0%\n",
            "\u001b[34m==>\u001b[0m \u001b[1mDownloading https://ghcr.io/v2/homebrew/core/icu4c/manifests/71.1\u001b[0m\n",
            "######################################################################## 100.0%\n",
            "\u001b[34m==>\u001b[0m \u001b[1mDownloading https://ghcr.io/v2/homebrew/core/icu4c/blobs/sha256:89bcfb2f075f\u001b[0m\n",
            "\u001b[34m==>\u001b[0m \u001b[1mDownloading from https://pkg-containers.githubusercontent.com/ghcr1/blobs/sh\u001b[0m\n",
            "######################################################################## 100.0%\n",
            "\u001b[34m==>\u001b[0m \u001b[1mDownloading https://ghcr.io/v2/homebrew/core/libxml2/manifests/2.10.2_1\u001b[0m\n",
            "######################################################################## 100.0%\n",
            "\u001b[34m==>\u001b[0m \u001b[1mDownloading https://ghcr.io/v2/homebrew/core/libxml2/blobs/sha256:7c53fce421\u001b[0m\n",
            "\u001b[34m==>\u001b[0m \u001b[1mDownloading from https://pkg-containers.githubusercontent.com/ghcr1/blobs/sh\u001b[0m\n",
            "######################################################################## 100.0%\n",
            "\u001b[34m==>\u001b[0m \u001b[1mDownloading https://ghcr.io/v2/homebrew/core/gettext/manifests/0.21\u001b[0m\n",
            "######################################################################## 100.0%\n",
            "\u001b[34m==>\u001b[0m \u001b[1mDownloading https://ghcr.io/v2/homebrew/core/gettext/blobs/sha256:33f840e667\u001b[0m\n",
            "\u001b[34m==>\u001b[0m \u001b[1mDownloading from https://pkg-containers.githubusercontent.com/ghcr1/blobs/sh\u001b[0m\n",
            "######################################################################## 100.0%\n",
            "\u001b[34m==>\u001b[0m \u001b[1mDownloading https://ghcr.io/v2/homebrew/core/libxcrypt/manifests/4.4.28\u001b[0m\n",
            "######################################################################## 100.0%\n",
            "\u001b[34m==>\u001b[0m \u001b[1mDownloading https://ghcr.io/v2/homebrew/core/libxcrypt/blobs/sha256:84269a82\u001b[0m\n",
            "\u001b[34m==>\u001b[0m \u001b[1mDownloading from https://pkg-containers.githubusercontent.com/ghcr1/blobs/sh\u001b[0m\n",
            "######################################################################## 100.0%\n",
            "\u001b[34m==>\u001b[0m \u001b[1mDownloading https://ghcr.io/v2/homebrew/core/util-linux/manifests/2.38.1\u001b[0m\n",
            "######################################################################## 100.0%\n",
            "\u001b[34m==>\u001b[0m \u001b[1mDownloading https://ghcr.io/v2/homebrew/core/util-linux/blobs/sha256:27177c2\u001b[0m\n",
            "\u001b[34m==>\u001b[0m \u001b[1mDownloading from https://pkg-containers.githubusercontent.com/ghcr1/blobs/sh\u001b[0m\n",
            "######################################################################## 100.0%\n",
            "\u001b[34m==>\u001b[0m \u001b[1mDownloading https://ghcr.io/v2/homebrew/core/fontconfig/manifests/2.14.0\u001b[0m\n",
            "######################################################################## 100.0%\n",
            "\u001b[34m==>\u001b[0m \u001b[1mDownloading https://ghcr.io/v2/homebrew/core/fontconfig/blobs/sha256:1c1706b\u001b[0m\n",
            "\u001b[34m==>\u001b[0m \u001b[1mDownloading from https://pkg-containers.githubusercontent.com/ghcr1/blobs/sh\u001b[0m\n",
            "######################################################################## 100.0%\n",
            "\u001b[34m==>\u001b[0m \u001b[1mDownloading https://ghcr.io/v2/homebrew/core/pcre/manifests/8.45\u001b[0m\n",
            "######################################################################## 100.0%\n",
            "\u001b[34m==>\u001b[0m \u001b[1mDownloading https://ghcr.io/v2/homebrew/core/pcre/blobs/sha256:296026b6d5430\u001b[0m\n",
            "\u001b[34m==>\u001b[0m \u001b[1mDownloading from https://pkg-containers.githubusercontent.com/ghcr1/blobs/sh\u001b[0m\n",
            "######################################################################## 100.0%\n",
            "\u001b[34m==>\u001b[0m \u001b[1mDownloading https://ghcr.io/v2/homebrew/core/mpdecimal/manifests/2.5.1\u001b[0m\n",
            "######################################################################## 100.0%\n",
            "\u001b[34m==>\u001b[0m \u001b[1mDownloading https://ghcr.io/v2/homebrew/core/mpdecimal/blobs/sha256:c5d64a4d\u001b[0m\n",
            "\u001b[34m==>\u001b[0m \u001b[1mDownloading from https://pkg-containers.githubusercontent.com/ghcr1/blobs/sh\u001b[0m\n",
            "######################################################################## 100.0%\n",
            "\u001b[34m==>\u001b[0m \u001b[1mDownloading https://ghcr.io/v2/homebrew/core/sqlite/manifests/3.39.3\u001b[0m\n",
            "######################################################################## 100.0%\n",
            "\u001b[34m==>\u001b[0m \u001b[1mDownloading https://ghcr.io/v2/homebrew/core/sqlite/blobs/sha256:32b13296bfb\u001b[0m\n",
            "\u001b[34m==>\u001b[0m \u001b[1mDownloading from https://pkg-containers.githubusercontent.com/ghcr1/blobs/sh\u001b[0m\n",
            "######################################################################## 100.0%\n",
            "\u001b[34m==>\u001b[0m \u001b[1mDownloading https://ghcr.io/v2/homebrew/core/unzip/manifests/6.0_8\u001b[0m\n",
            "######################################################################## 100.0%\n",
            "\u001b[34m==>\u001b[0m \u001b[1mDownloading https://ghcr.io/v2/homebrew/core/unzip/blobs/sha256:baf15e19852a\u001b[0m\n",
            "\u001b[34m==>\u001b[0m \u001b[1mDownloading from https://pkg-containers.githubusercontent.com/ghcr1/blobs/sh\u001b[0m\n",
            "######################################################################## 100.0%\n",
            "\u001b[34m==>\u001b[0m \u001b[1mDownloading https://ghcr.io/v2/homebrew/core/bison/manifests/3.8.2\u001b[0m\n",
            "######################################################################## 100.0%\n",
            "\u001b[34m==>\u001b[0m \u001b[1mDownloading https://ghcr.io/v2/homebrew/core/bison/blobs/sha256:d708c29c7e44\u001b[0m\n",
            "\u001b[34m==>\u001b[0m \u001b[1mDownloading from https://pkg-containers.githubusercontent.com/ghcr1/blobs/sh\u001b[0m\n",
            "######################################################################## 100.0%\n",
            "\u001b[34m==>\u001b[0m \u001b[1mDownloading https://ghcr.io/v2/homebrew/core/krb5/manifests/1.20\u001b[0m\n",
            "######################################################################## 100.0%\n",
            "\u001b[34m==>\u001b[0m \u001b[1mDownloading https://ghcr.io/v2/homebrew/core/krb5/blobs/sha256:17c3f6518fc7f\u001b[0m\n",
            "\u001b[34m==>\u001b[0m \u001b[1mDownloading from https://pkg-containers.githubusercontent.com/ghcr1/blobs/sh\u001b[0m\n",
            "######################################################################## 100.0%\n",
            "\u001b[34m==>\u001b[0m \u001b[1mDownloading https://ghcr.io/v2/homebrew/core/libtirpc/manifests/1.3.3\u001b[0m\n",
            "######################################################################## 100.0%\n",
            "\u001b[34m==>\u001b[0m \u001b[1mDownloading https://ghcr.io/v2/homebrew/core/libtirpc/blobs/sha256:26371c5e6\u001b[0m\n",
            "\u001b[34m==>\u001b[0m \u001b[1mDownloading from https://pkg-containers.githubusercontent.com/ghcr1/blobs/sh\u001b[0m\n",
            "######################################################################## 100.0%\n",
            "\u001b[34m==>\u001b[0m \u001b[1mDownloading https://ghcr.io/v2/homebrew/core/libnsl/manifests/2.0.0_1\u001b[0m\n",
            "######################################################################## 100.0%\n",
            "\u001b[34m==>\u001b[0m \u001b[1mDownloading https://ghcr.io/v2/homebrew/core/libnsl/blobs/sha256:ed70b285939\u001b[0m\n",
            "\u001b[34m==>\u001b[0m \u001b[1mDownloading from https://pkg-containers.githubusercontent.com/ghcr1/blobs/sh\u001b[0m\n",
            "######################################################################## 100.0%\n",
            "\u001b[34m==>\u001b[0m \u001b[1mDownloading https://ghcr.io/v2/homebrew/core/python/3.10/manifests/3.10.6_2\u001b[0m\n",
            "######################################################################## 100.0%\n",
            "\u001b[34m==>\u001b[0m \u001b[1mDownloading https://ghcr.io/v2/homebrew/core/python/3.10/blobs/sha256:bdeff1\u001b[0m\n",
            "\u001b[34m==>\u001b[0m \u001b[1mDownloading from https://pkg-containers.githubusercontent.com/ghcr1/blobs/sh\u001b[0m\n",
            "######################################################################## 100.0%\n",
            "\u001b[34m==>\u001b[0m \u001b[1mDownloading https://ghcr.io/v2/homebrew/core/glib/manifests/2.72.3_1-1\u001b[0m\n",
            "######################################################################## 100.0%\n",
            "\u001b[34m==>\u001b[0m \u001b[1mDownloading https://ghcr.io/v2/homebrew/core/glib/blobs/sha256:ab7f5656408ca\u001b[0m\n",
            "\u001b[34m==>\u001b[0m \u001b[1mDownloading from https://pkg-containers.githubusercontent.com/ghcr1/blobs/sh\u001b[0m\n",
            "######################################################################## 100.0%\n",
            "\u001b[34m==>\u001b[0m \u001b[1mDownloading https://ghcr.io/v2/homebrew/core/libpthread-stubs/manifests/0.4\u001b[0m\n",
            "######################################################################## 100.0%\n",
            "\u001b[34m==>\u001b[0m \u001b[1mDownloading https://ghcr.io/v2/homebrew/core/libpthread-stubs/blobs/sha256:0\u001b[0m\n",
            "\u001b[34m==>\u001b[0m \u001b[1mDownloading from https://pkg-containers.githubusercontent.com/ghcr1/blobs/sh\u001b[0m\n",
            "######################################################################## 100.0%\n",
            "\u001b[34m==>\u001b[0m \u001b[1mDownloading https://ghcr.io/v2/homebrew/core/xorgproto/manifests/2022.2\u001b[0m\n",
            "######################################################################## 100.0%\n",
            "\u001b[34m==>\u001b[0m \u001b[1mDownloading https://ghcr.io/v2/homebrew/core/xorgproto/blobs/sha256:75179278\u001b[0m\n",
            "\u001b[34m==>\u001b[0m \u001b[1mDownloading from https://pkg-containers.githubusercontent.com/ghcr1/blobs/sh\u001b[0m\n",
            "######################################################################## 100.0%\n",
            "\u001b[34m==>\u001b[0m \u001b[1mDownloading https://ghcr.io/v2/homebrew/core/libxau/manifests/1.0.10\u001b[0m\n",
            "######################################################################## 100.0%\n",
            "\u001b[34m==>\u001b[0m \u001b[1mDownloading https://ghcr.io/v2/homebrew/core/libxau/blobs/sha256:a5d57f6bed7\u001b[0m\n",
            "\u001b[34m==>\u001b[0m \u001b[1mDownloading from https://pkg-containers.githubusercontent.com/ghcr1/blobs/sh\u001b[0m\n",
            "######################################################################## 100.0%\n",
            "\u001b[34m==>\u001b[0m \u001b[1mDownloading https://ghcr.io/v2/homebrew/core/libxdmcp/manifests/1.1.3\u001b[0m\n",
            "######################################################################## 100.0%\n",
            "\u001b[34m==>\u001b[0m \u001b[1mDownloading https://ghcr.io/v2/homebrew/core/libxdmcp/blobs/sha256:15c87cc0f\u001b[0m\n",
            "\u001b[34m==>\u001b[0m \u001b[1mDownloading from https://pkg-containers.githubusercontent.com/ghcr1/blobs/sh\u001b[0m\n",
            "######################################################################## 100.0%\n",
            "\u001b[34m==>\u001b[0m \u001b[1mDownloading https://ghcr.io/v2/homebrew/core/libxcb/manifests/1.15\u001b[0m\n",
            "######################################################################## 100.0%\n",
            "\u001b[34m==>\u001b[0m \u001b[1mDownloading https://ghcr.io/v2/homebrew/core/libxcb/blobs/sha256:993d37bb436\u001b[0m\n",
            "\u001b[34m==>\u001b[0m \u001b[1mDownloading from https://pkg-containers.githubusercontent.com/ghcr1/blobs/sh\u001b[0m\n",
            "######################################################################## 100.0%\n",
            "\u001b[34m==>\u001b[0m \u001b[1mDownloading https://ghcr.io/v2/homebrew/core/libx11/manifests/1.8.1\u001b[0m\n",
            "######################################################################## 100.0%\n",
            "\u001b[34m==>\u001b[0m \u001b[1mDownloading https://ghcr.io/v2/homebrew/core/libx11/blobs/sha256:1a0f30a63d5\u001b[0m\n",
            "\u001b[34m==>\u001b[0m \u001b[1mDownloading from https://pkg-containers.githubusercontent.com/ghcr1/blobs/sh\u001b[0m\n",
            "######################################################################## 100.0%\n",
            "\u001b[34m==>\u001b[0m \u001b[1mDownloading https://ghcr.io/v2/homebrew/core/libxext/manifests/1.3.4\u001b[0m\n",
            "######################################################################## 100.0%\n",
            "\u001b[34m==>\u001b[0m \u001b[1mDownloading https://ghcr.io/v2/homebrew/core/libxext/blobs/sha256:dc7d5b80cf\u001b[0m\n",
            "\u001b[34m==>\u001b[0m \u001b[1mDownloading from https://pkg-containers.githubusercontent.com/ghcr1/blobs/sh\u001b[0m\n",
            "######################################################################## 100.0%\n",
            "\u001b[34m==>\u001b[0m \u001b[1mDownloading https://ghcr.io/v2/homebrew/core/libxrender/manifests/0.9.10\u001b[0m\n",
            "######################################################################## 100.0%\n",
            "\u001b[34m==>\u001b[0m \u001b[1mDownloading https://ghcr.io/v2/homebrew/core/libxrender/blobs/sha256:10b4f9c\u001b[0m\n",
            "\u001b[34m==>\u001b[0m \u001b[1mDownloading from https://pkg-containers.githubusercontent.com/ghcr1/blobs/sh\u001b[0m\n",
            "######################################################################## 100.0%\n",
            "\u001b[34m==>\u001b[0m \u001b[1mDownloading https://ghcr.io/v2/homebrew/core/lzo/manifests/2.10\u001b[0m\n",
            "######################################################################## 100.0%\n",
            "\u001b[34m==>\u001b[0m \u001b[1mDownloading https://ghcr.io/v2/homebrew/core/lzo/blobs/sha256:8413f94bb69f33\u001b[0m\n",
            "\u001b[34m==>\u001b[0m \u001b[1mDownloading from https://pkg-containers.githubusercontent.com/ghcr1/blobs/sh\u001b[0m\n",
            "######################################################################## 100.0%\n",
            "\u001b[34m==>\u001b[0m \u001b[1mDownloading https://ghcr.io/v2/homebrew/core/pixman/manifests/0.40.0\u001b[0m\n",
            "######################################################################## 100.0%\n",
            "\u001b[34m==>\u001b[0m \u001b[1mDownloading https://ghcr.io/v2/homebrew/core/pixman/blobs/sha256:b24ecddb5e7\u001b[0m\n",
            "\u001b[34m==>\u001b[0m \u001b[1mDownloading from https://pkg-containers.githubusercontent.com/ghcr1/blobs/sh\u001b[0m\n",
            "######################################################################## 100.0%\n",
            "\u001b[34m==>\u001b[0m \u001b[1mDownloading https://ghcr.io/v2/homebrew/core/cairo/manifests/1.16.0_5\u001b[0m\n",
            "######################################################################## 100.0%\n",
            "\u001b[34m==>\u001b[0m \u001b[1mDownloading https://ghcr.io/v2/homebrew/core/cairo/blobs/sha256:678c795a1113\u001b[0m\n",
            "\u001b[34m==>\u001b[0m \u001b[1mDownloading from https://pkg-containers.githubusercontent.com/ghcr1/blobs/sh\u001b[0m\n",
            "######################################################################## 100.0%\n",
            "\u001b[34m==>\u001b[0m \u001b[1mDownloading https://ghcr.io/v2/homebrew/core/isl/manifests/0.25\u001b[0m\n",
            "######################################################################## 100.0%\n",
            "\u001b[34m==>\u001b[0m \u001b[1mDownloading https://ghcr.io/v2/homebrew/core/isl/blobs/sha256:c0244c95ed9cc8\u001b[0m\n",
            "\u001b[34m==>\u001b[0m \u001b[1mDownloading from https://pkg-containers.githubusercontent.com/ghcr1/blobs/sh\u001b[0m\n",
            "######################################################################## 100.0%\n",
            "\u001b[34m==>\u001b[0m \u001b[1mDownloading https://ghcr.io/v2/homebrew/core/lz4/manifests/1.9.4\u001b[0m\n",
            "######################################################################## 100.0%\n",
            "\u001b[34m==>\u001b[0m \u001b[1mDownloading https://ghcr.io/v2/homebrew/core/lz4/blobs/sha256:1757fefc3840e1\u001b[0m\n",
            "\u001b[34m==>\u001b[0m \u001b[1mDownloading from https://pkg-containers.githubusercontent.com/ghcr1/blobs/sh\u001b[0m\n",
            "######################################################################## 100.0%\n",
            "\u001b[34m==>\u001b[0m \u001b[1mDownloading https://ghcr.io/v2/homebrew/core/zstd/manifests/1.5.2-3\u001b[0m\n",
            "######################################################################## 100.0%\n",
            "\u001b[34m==>\u001b[0m \u001b[1mDownloading https://ghcr.io/v2/homebrew/core/zstd/blobs/sha256:006b5ab6a4616\u001b[0m\n",
            "\u001b[34m==>\u001b[0m \u001b[1mDownloading from https://pkg-containers.githubusercontent.com/ghcr1/blobs/sh\u001b[0m\n",
            "######################################################################## 100.0%\n",
            "\u001b[34m==>\u001b[0m \u001b[1mDownloading https://ghcr.io/v2/homebrew/core/gcc/manifests/12.2.0-1\u001b[0m\n",
            "######################################################################## 100.0%\n",
            "\u001b[34m==>\u001b[0m \u001b[1mDownloading https://ghcr.io/v2/homebrew/core/gcc/blobs/sha256:c7f773f9af5607\u001b[0m\n",
            "\u001b[34m==>\u001b[0m \u001b[1mDownloading from https://pkg-containers.githubusercontent.com/ghcr1/blobs/sh\u001b[0m\n",
            "######################################################################## 100.0%\n",
            "\u001b[34m==>\u001b[0m \u001b[1mDownloading https://ghcr.io/v2/homebrew/core/jpeg-turbo/manifests/2.1.4\u001b[0m\n",
            "######################################################################## 100.0%\n",
            "\u001b[34m==>\u001b[0m \u001b[1mDownloading https://ghcr.io/v2/homebrew/core/jpeg-turbo/blobs/sha256:dda8e2a\u001b[0m\n",
            "\u001b[34m==>\u001b[0m \u001b[1mDownloading from https://pkg-containers.githubusercontent.com/ghcr1/blobs/sh\u001b[0m\n",
            "######################################################################## 100.0%\n",
            "\u001b[34m==>\u001b[0m \u001b[1mDownloading https://ghcr.io/v2/homebrew/core/openblas/manifests/0.3.21\u001b[0m\n",
            "######################################################################## 100.0%\n",
            "\u001b[34m==>\u001b[0m \u001b[1mDownloading https://ghcr.io/v2/homebrew/core/openblas/blobs/sha256:12a3cb268\u001b[0m\n",
            "\u001b[34m==>\u001b[0m \u001b[1mDownloading from https://pkg-containers.githubusercontent.com/ghcr1/blobs/sh\u001b[0m\n",
            "######################################################################## 100.0%\n",
            "\u001b[34m==>\u001b[0m \u001b[1mDownloading https://ghcr.io/v2/homebrew/core/pcre2/manifests/10.40\u001b[0m\n",
            "######################################################################## 100.0%\n",
            "\u001b[34m==>\u001b[0m \u001b[1mDownloading https://ghcr.io/v2/homebrew/core/pcre2/blobs/sha256:a3b73a0c4061\u001b[0m\n",
            "\u001b[34m==>\u001b[0m \u001b[1mDownloading from https://pkg-containers.githubusercontent.com/ghcr1/blobs/sh\u001b[0m\n",
            "######################################################################## 100.0%\n",
            "\u001b[34m==>\u001b[0m \u001b[1mDownloading https://ghcr.io/v2/homebrew/core/tcl-tk/manifests/8.6.12_1\u001b[0m\n",
            "######################################################################## 100.0%\n",
            "\u001b[34m==>\u001b[0m \u001b[1mDownloading https://ghcr.io/v2/homebrew/core/tcl-tk/blobs/sha256:9be465cbb13\u001b[0m\n",
            "\u001b[34m==>\u001b[0m \u001b[1mDownloading from https://pkg-containers.githubusercontent.com/ghcr1/blobs/sh\u001b[0m\n",
            "######################################################################## 100.0%\n",
            "\u001b[34m==>\u001b[0m \u001b[1mDownloading https://ghcr.io/v2/homebrew/core/brotli/manifests/1.0.9\u001b[0m\n",
            "######################################################################## 100.0%\n",
            "\u001b[34m==>\u001b[0m \u001b[1mDownloading https://ghcr.io/v2/homebrew/core/brotli/blobs/sha256:97756cdd4ee\u001b[0m\n",
            "\u001b[34m==>\u001b[0m \u001b[1mDownloading from https://pkg-containers.githubusercontent.com/ghcr1/blobs/sh\u001b[0m\n",
            "######################################################################## 100.0%\n",
            "\u001b[34m==>\u001b[0m \u001b[1mDownloading https://ghcr.io/v2/homebrew/core/libunistring/manifests/1.0\u001b[0m\n",
            "######################################################################## 100.0%\n",
            "\u001b[34m==>\u001b[0m \u001b[1mDownloading https://ghcr.io/v2/homebrew/core/libunistring/blobs/sha256:b1d76\u001b[0m\n",
            "\u001b[34m==>\u001b[0m \u001b[1mDownloading from https://pkg-containers.githubusercontent.com/ghcr1/blobs/sh\u001b[0m\n",
            "######################################################################## 100.0%\n",
            "\u001b[34m==>\u001b[0m \u001b[1mDownloading https://ghcr.io/v2/homebrew/core/libidn2/manifests/2.3.3\u001b[0m\n",
            "######################################################################## 100.0%\n",
            "\u001b[34m==>\u001b[0m \u001b[1mDownloading https://ghcr.io/v2/homebrew/core/libidn2/blobs/sha256:0ceff03509\u001b[0m\n",
            "\u001b[34m==>\u001b[0m \u001b[1mDownloading from https://pkg-containers.githubusercontent.com/ghcr1/blobs/sh\u001b[0m\n",
            "######################################################################## 100.0%\n",
            "\u001b[34m==>\u001b[0m \u001b[1mDownloading https://ghcr.io/v2/homebrew/core/libnghttp2/manifests/1.49.0\u001b[0m\n",
            "######################################################################## 100.0%\n",
            "\u001b[34m==>\u001b[0m \u001b[1mDownloading https://ghcr.io/v2/homebrew/core/libnghttp2/blobs/sha256:b39e519\u001b[0m\n",
            "\u001b[34m==>\u001b[0m \u001b[1mDownloading from https://pkg-containers.githubusercontent.com/ghcr1/blobs/sh\u001b[0m\n",
            "######################################################################## 100.0%\n",
            "\u001b[34m==>\u001b[0m \u001b[1mDownloading https://ghcr.io/v2/homebrew/core/libssh2/manifests/1.10.0\u001b[0m\n",
            "######################################################################## 100.0%\n",
            "\u001b[34m==>\u001b[0m \u001b[1mDownloading https://ghcr.io/v2/homebrew/core/libssh2/blobs/sha256:2ff0fe65fb\u001b[0m\n",
            "\u001b[34m==>\u001b[0m \u001b[1mDownloading from https://pkg-containers.githubusercontent.com/ghcr1/blobs/sh\u001b[0m\n",
            "######################################################################## 100.0%\n",
            "\u001b[34m==>\u001b[0m \u001b[1mDownloading https://ghcr.io/v2/homebrew/core/openldap/manifests/2.6.3\u001b[0m\n",
            "######################################################################## 100.0%\n",
            "\u001b[34m==>\u001b[0m \u001b[1mDownloading https://ghcr.io/v2/homebrew/core/openldap/blobs/sha256:236b263f5\u001b[0m\n",
            "\u001b[34m==>\u001b[0m \u001b[1mDownloading from https://pkg-containers.githubusercontent.com/ghcr1/blobs/sh\u001b[0m\n",
            "######################################################################## 100.0%\n",
            "\u001b[34m==>\u001b[0m \u001b[1mDownloading https://ghcr.io/v2/homebrew/core/rtmpdump/manifests/2.4.20151223\u001b[0m\n",
            "######################################################################## 100.0%\n",
            "\u001b[34m==>\u001b[0m \u001b[1mDownloading https://ghcr.io/v2/homebrew/core/rtmpdump/blobs/sha256:c1d50c3dc\u001b[0m\n",
            "\u001b[34m==>\u001b[0m \u001b[1mDownloading from https://pkg-containers.githubusercontent.com/ghcr1/blobs/sh\u001b[0m\n",
            "######################################################################## 100.0%\n",
            "\u001b[34m==>\u001b[0m \u001b[1mDownloading https://ghcr.io/v2/homebrew/core/curl/manifests/7.85.0\u001b[0m\n",
            "######################################################################## 100.0%\n",
            "\u001b[34m==>\u001b[0m \u001b[1mDownloading https://ghcr.io/v2/homebrew/core/curl/blobs/sha256:70821b581c24e\u001b[0m\n",
            "\u001b[34m==>\u001b[0m \u001b[1mDownloading from https://pkg-containers.githubusercontent.com/ghcr1/blobs/sh\u001b[0m\n",
            "######################################################################## 100.0%\n",
            "\u001b[34m==>\u001b[0m \u001b[1mDownloading https://ghcr.io/v2/homebrew/core/libice/manifests/1.0.10\u001b[0m\n",
            "######################################################################## 100.0%\n",
            "\u001b[34m==>\u001b[0m \u001b[1mDownloading https://ghcr.io/v2/homebrew/core/libice/blobs/sha256:6a4f7025e87\u001b[0m\n",
            "\u001b[34m==>\u001b[0m \u001b[1mDownloading from https://pkg-containers.githubusercontent.com/ghcr1/blobs/sh\u001b[0m\n",
            "######################################################################## 100.0%\n",
            "\u001b[34m==>\u001b[0m \u001b[1mDownloading https://ghcr.io/v2/homebrew/core/libsm/manifests/1.2.3\u001b[0m\n",
            "######################################################################## 100.0%\n",
            "\u001b[34m==>\u001b[0m \u001b[1mDownloading https://ghcr.io/v2/homebrew/core/libsm/blobs/sha256:fd4bc0900857\u001b[0m\n",
            "\u001b[34m==>\u001b[0m \u001b[1mDownloading from https://pkg-containers.githubusercontent.com/ghcr1/blobs/sh\u001b[0m\n",
            "######################################################################## 100.0%\n",
            "\u001b[34m==>\u001b[0m \u001b[1mDownloading https://ghcr.io/v2/homebrew/core/libxt/manifests/1.2.1\u001b[0m\n",
            "######################################################################## 100.0%\n",
            "\u001b[34m==>\u001b[0m \u001b[1mDownloading https://ghcr.io/v2/homebrew/core/libxt/blobs/sha256:637ae200e033\u001b[0m\n",
            "\u001b[34m==>\u001b[0m \u001b[1mDownloading from https://pkg-containers.githubusercontent.com/ghcr1/blobs/sh\u001b[0m\n",
            "######################################################################## 100.0%\n",
            "\u001b[34m==>\u001b[0m \u001b[1mDownloading https://ghcr.io/v2/homebrew/core/fribidi/manifests/1.0.12\u001b[0m\n",
            "######################################################################## 100.0%\n",
            "\u001b[34m==>\u001b[0m \u001b[1mDownloading https://ghcr.io/v2/homebrew/core/fribidi/blobs/sha256:89141837e7\u001b[0m\n",
            "\u001b[34m==>\u001b[0m \u001b[1mDownloading from https://pkg-containers.githubusercontent.com/ghcr1/blobs/sh\u001b[0m\n",
            "######################################################################## 100.0%\n",
            "\u001b[34m==>\u001b[0m \u001b[1mDownloading https://ghcr.io/v2/homebrew/core/graphite2/manifests/1.3.14\u001b[0m\n",
            "######################################################################## 100.0%\n",
            "\u001b[34m==>\u001b[0m \u001b[1mDownloading https://ghcr.io/v2/homebrew/core/graphite2/blobs/sha256:0e811b07\u001b[0m\n",
            "\u001b[34m==>\u001b[0m \u001b[1mDownloading from https://pkg-containers.githubusercontent.com/ghcr1/blobs/sh\u001b[0m\n",
            "######################################################################## 100.0%\n",
            "\u001b[34m==>\u001b[0m \u001b[1mDownloading https://ghcr.io/v2/homebrew/core/harfbuzz/manifests/5.1.0_1\u001b[0m\n",
            "######################################################################## 100.0%\n",
            "\u001b[34m==>\u001b[0m \u001b[1mDownloading https://ghcr.io/v2/homebrew/core/harfbuzz/blobs/sha256:249b5e97c\u001b[0m\n",
            "\u001b[34m==>\u001b[0m \u001b[1mDownloading from https://pkg-containers.githubusercontent.com/ghcr1/blobs/sh\u001b[0m\n",
            "######################################################################## 100.0%\n",
            "\u001b[34m==>\u001b[0m \u001b[1mDownloading https://ghcr.io/v2/homebrew/core/pango/manifests/1.50.9\u001b[0m\n",
            "######################################################################## 100.0%\n",
            "\u001b[34m==>\u001b[0m \u001b[1mDownloading https://ghcr.io/v2/homebrew/core/pango/blobs/sha256:983cf9007b6d\u001b[0m\n",
            "\u001b[34m==>\u001b[0m \u001b[1mDownloading from https://pkg-containers.githubusercontent.com/ghcr1/blobs/sh\u001b[0m\n",
            "######################################################################## 100.0%\n",
            "\u001b[34m==>\u001b[0m \u001b[1mDownloading https://ghcr.io/v2/homebrew/core/r/manifests/4.2.1_3\u001b[0m\n",
            "######################################################################## 100.0%\n",
            "\u001b[34m==>\u001b[0m \u001b[1mDownloading https://ghcr.io/v2/homebrew/core/r/blobs/sha256:013c967a31390c78\u001b[0m\n",
            "\u001b[34m==>\u001b[0m \u001b[1mDownloading from https://pkg-containers.githubusercontent.com/ghcr1/blobs/sh\u001b[0m\n",
            "######################################################################## 100.0%\n",
            "\u001b[32m==>\u001b[0m \u001b[1mInstalling dependencies for r: \u001b[32mlibpng\u001b[39m, \u001b[32mfreetype\u001b[39m, \u001b[32micu4c\u001b[39m, \u001b[32mlibxml2\u001b[39m, \u001b[32mgettext\u001b[39m, \u001b[32mlibxcrypt\u001b[39m, \u001b[32mutil-linux\u001b[39m, \u001b[32mfontconfig\u001b[39m, \u001b[32mpcre\u001b[39m, \u001b[32mmpdecimal\u001b[39m, \u001b[32msqlite\u001b[39m, \u001b[32munzip\u001b[39m, \u001b[32mbison\u001b[39m, \u001b[32mkrb5\u001b[39m, \u001b[32mlibtirpc\u001b[39m, \u001b[32mlibnsl\u001b[39m, \u001b[32mpython\u001b[39m, \u001b[32mglib\u001b[39m, \u001b[32mlibpthread-stubs\u001b[39m, \u001b[32mxorgproto\u001b[39m, \u001b[32mlibxau\u001b[39m, \u001b[32mlibxdmcp\u001b[39m, \u001b[32mlibxcb\u001b[39m, \u001b[32mlibx11\u001b[39m, \u001b[32mlibxext\u001b[39m, \u001b[32mlibxrender\u001b[39m, \u001b[32mlzo\u001b[39m, \u001b[32mpixman\u001b[39m, \u001b[32mcairo\u001b[39m, \u001b[32misl\u001b[39m, \u001b[32mlz4\u001b[39m, \u001b[32mzstd\u001b[39m, \u001b[32mgcc\u001b[39m, \u001b[32mjpeg-turbo\u001b[39m, \u001b[32mopenblas\u001b[39m, \u001b[32mpcre2\u001b[39m, \u001b[32mtcl-tk\u001b[39m, \u001b[32mbrotli\u001b[39m, \u001b[32mlibunistring\u001b[39m, \u001b[32mlibidn2\u001b[39m, \u001b[32mlibnghttp2\u001b[39m, \u001b[32mlibssh2\u001b[39m, \u001b[32mopenldap\u001b[39m, \u001b[32mrtmpdump\u001b[39m, \u001b[32mcurl\u001b[39m, \u001b[32mlibice\u001b[39m, \u001b[32mlibsm\u001b[39m, \u001b[32mlibxt\u001b[39m, \u001b[32mfribidi\u001b[39m, \u001b[32mgraphite2\u001b[39m, \u001b[32mharfbuzz\u001b[39m and \u001b[32mpango\u001b[39m\u001b[0m\n",
            "\u001b[32m==>\u001b[0m \u001b[1mInstalling r dependency: \u001b[32mlibpng\u001b[39m\u001b[0m\n",
            "\u001b[34m==>\u001b[0m \u001b[1mPouring libpng--1.6.37.x86_64_linux.bottle.tar.gz\u001b[0m\n",
            "🍺  /home/linuxbrew/.linuxbrew/Cellar/libpng/1.6.37: 28 files, 1.4MB\n",
            "\u001b[32m==>\u001b[0m \u001b[1mInstalling r dependency: \u001b[32mfreetype\u001b[39m\u001b[0m\n",
            "\u001b[34m==>\u001b[0m \u001b[1mPouring freetype--2.12.1.x86_64_linux.bottle.tar.gz\u001b[0m\n",
            "🍺  /home/linuxbrew/.linuxbrew/Cellar/freetype/2.12.1: 68 files, 2.8MB\n",
            "\u001b[32m==>\u001b[0m \u001b[1mInstalling r dependency: \u001b[32micu4c\u001b[39m\u001b[0m\n",
            "\u001b[34m==>\u001b[0m \u001b[1mPouring icu4c--71.1.x86_64_linux.bottle.tar.gz\u001b[0m\n",
            "🍺  /home/linuxbrew/.linuxbrew/Cellar/icu4c/71.1: 262 files, 82.7MB\n",
            "\u001b[32m==>\u001b[0m \u001b[1mInstalling r dependency: \u001b[32mlibxml2\u001b[39m\u001b[0m\n",
            "\u001b[34m==>\u001b[0m \u001b[1mPouring libxml2--2.10.2_1.x86_64_linux.bottle.tar.gz\u001b[0m\n",
            "🍺  /home/linuxbrew/.linuxbrew/Cellar/libxml2/2.10.2_1: 200 files, 8.2MB\n",
            "\u001b[32m==>\u001b[0m \u001b[1mInstalling r dependency: \u001b[32mgettext\u001b[39m\u001b[0m\n",
            "\u001b[34m==>\u001b[0m \u001b[1mPouring gettext--0.21.x86_64_linux.bottle.tar.gz\u001b[0m\n",
            "🍺  /home/linuxbrew/.linuxbrew/Cellar/gettext/0.21: 1,952 files, 21.5MB\n",
            "\u001b[32m==>\u001b[0m \u001b[1mInstalling r dependency: \u001b[32mlibxcrypt\u001b[39m\u001b[0m\n",
            "\u001b[34m==>\u001b[0m \u001b[1mPouring libxcrypt--4.4.28.x86_64_linux.bottle.tar.gz\u001b[0m\n",
            "🍺  /home/linuxbrew/.linuxbrew/Cellar/libxcrypt/4.4.28: 24 files, 361.8KB\n",
            "\u001b[32m==>\u001b[0m \u001b[1mInstalling r dependency: \u001b[32mutil-linux\u001b[39m\u001b[0m\n",
            "\u001b[34m==>\u001b[0m \u001b[1mPouring util-linux--2.38.1.x86_64_linux.bottle.tar.gz\u001b[0m\n",
            "🍺  /home/linuxbrew/.linuxbrew/Cellar/util-linux/2.38.1: 398 files, 20.3MB\n",
            "\u001b[32m==>\u001b[0m \u001b[1mInstalling r dependency: \u001b[32mfontconfig\u001b[39m\u001b[0m\n",
            "\u001b[34m==>\u001b[0m \u001b[1mPouring fontconfig--2.14.0.x86_64_linux.bottle.tar.gz\u001b[0m\n",
            "\u001b[34m==>\u001b[0m \u001b[1mRegenerating font cache, this may take a while\u001b[0m\n",
            "\u001b[34m==>\u001b[0m \u001b[1m/home/linuxbrew/.linuxbrew/Cellar/fontconfig/2.14.0/bin/fc-cache -frv\u001b[0m\n",
            "🍺  /home/linuxbrew/.linuxbrew/Cellar/fontconfig/2.14.0: 87 files, 2.4MB\n",
            "\u001b[32m==>\u001b[0m \u001b[1mInstalling r dependency: \u001b[32mpcre\u001b[39m\u001b[0m\n",
            "\u001b[34m==>\u001b[0m \u001b[1mPouring pcre--8.45.x86_64_linux.bottle.tar.gz\u001b[0m\n",
            "🍺  /home/linuxbrew/.linuxbrew/Cellar/pcre/8.45: 209 files, 4.9MB\n",
            "\u001b[32m==>\u001b[0m \u001b[1mInstalling r dependency: \u001b[32mmpdecimal\u001b[39m\u001b[0m\n",
            "\u001b[34m==>\u001b[0m \u001b[1mPouring mpdecimal--2.5.1.x86_64_linux.bottle.tar.gz\u001b[0m\n",
            "🍺  /home/linuxbrew/.linuxbrew/Cellar/mpdecimal/2.5.1: 71 files, 2.4MB\n",
            "\u001b[32m==>\u001b[0m \u001b[1mInstalling r dependency: \u001b[32msqlite\u001b[39m\u001b[0m\n",
            "\u001b[34m==>\u001b[0m \u001b[1mPouring sqlite--3.39.3.x86_64_linux.bottle.tar.gz\u001b[0m\n",
            "🍺  /home/linuxbrew/.linuxbrew/Cellar/sqlite/3.39.3: 12 files, 5.2MB\n",
            "\u001b[32m==>\u001b[0m \u001b[1mInstalling r dependency: \u001b[32munzip\u001b[39m\u001b[0m\n",
            "\u001b[34m==>\u001b[0m \u001b[1mPouring unzip--6.0_8.x86_64_linux.bottle.tar.gz\u001b[0m\n",
            "🍺  /home/linuxbrew/.linuxbrew/Cellar/unzip/6.0_8: 16 files, 597.1KB\n",
            "\u001b[32m==>\u001b[0m \u001b[1mInstalling r dependency: \u001b[32mbison\u001b[39m\u001b[0m\n",
            "\u001b[34m==>\u001b[0m \u001b[1mPouring bison--3.8.2.x86_64_linux.bottle.tar.gz\u001b[0m\n",
            "🍺  /home/linuxbrew/.linuxbrew/Cellar/bison/3.8.2: 208 files, 5.0MB\n",
            "\u001b[32m==>\u001b[0m \u001b[1mInstalling r dependency: \u001b[32mkrb5\u001b[39m\u001b[0m\n",
            "\u001b[34m==>\u001b[0m \u001b[1mPouring krb5--1.20.x86_64_linux.bottle.tar.gz\u001b[0m\n",
            "🍺  /home/linuxbrew/.linuxbrew/Cellar/krb5/1.20: 165 files, 5.2MB\n",
            "\u001b[32m==>\u001b[0m \u001b[1mInstalling r dependency: \u001b[32mlibtirpc\u001b[39m\u001b[0m\n",
            "\u001b[34m==>\u001b[0m \u001b[1mPouring libtirpc--1.3.3.x86_64_linux.bottle.tar.gz\u001b[0m\n",
            "🍺  /home/linuxbrew/.linuxbrew/Cellar/libtirpc/1.3.3: 85 files, 1MB\n",
            "\u001b[32m==>\u001b[0m \u001b[1mInstalling r dependency: \u001b[32mlibnsl\u001b[39m\u001b[0m\n",
            "\u001b[34m==>\u001b[0m \u001b[1mPouring libnsl--2.0.0_1.x86_64_linux.bottle.tar.gz\u001b[0m\n",
            "🍺  /home/linuxbrew/.linuxbrew/Cellar/libnsl/2.0.0_1: 18 files, 182.2KB\n",
            "\u001b[32m==>\u001b[0m \u001b[1mInstalling r dependency: \u001b[32mpython\u001b[39m\u001b[0m\n",
            "\u001b[34m==>\u001b[0m \u001b[1mPouring python@3.10--3.10.6_2.x86_64_linux.bottle.tar.gz\u001b[0m\n",
            "\u001b[34m==>\u001b[0m \u001b[1m/home/linuxbrew/.linuxbrew/Cellar/python@3.10/3.10.6_2/bin/python3.10 -m ens\u001b[0m\n",
            "\u001b[34m==>\u001b[0m \u001b[1m/home/linuxbrew/.linuxbrew/Cellar/python@3.10/3.10.6_2/bin/python3.10 -m pip\u001b[0m\n",
            "🍺  /home/linuxbrew/.linuxbrew/Cellar/python@3.10/3.10.6_2: 2,665 files, 80.8MB\n",
            "\u001b[32m==>\u001b[0m \u001b[1mInstalling r dependency: \u001b[32mglib\u001b[39m\u001b[0m\n",
            "\u001b[34m==>\u001b[0m \u001b[1mPouring glib--2.72.3_1.x86_64_linux.bottle.1.tar.gz\u001b[0m\n",
            "🍺  /home/linuxbrew/.linuxbrew/Cellar/glib/2.72.3_1: 455 files, 25.1MB\n",
            "\u001b[32m==>\u001b[0m \u001b[1mInstalling r dependency: \u001b[32mlibpthread-stubs\u001b[39m\u001b[0m\n",
            "\u001b[34m==>\u001b[0m \u001b[1mPouring libpthread-stubs--0.4.x86_64_linux.bottle.tar.gz\u001b[0m\n",
            "🍺  /home/linuxbrew/.linuxbrew/Cellar/libpthread-stubs/0.4: 5 files, 22.4KB\n",
            "\u001b[32m==>\u001b[0m \u001b[1mInstalling r dependency: \u001b[32mxorgproto\u001b[39m\u001b[0m\n",
            "\u001b[34m==>\u001b[0m \u001b[1mPouring xorgproto--2022.2.x86_64_linux.bottle.tar.gz\u001b[0m\n",
            "🍺  /home/linuxbrew/.linuxbrew/Cellar/xorgproto/2022.2: 268 files, 4.0MB\n",
            "\u001b[32m==>\u001b[0m \u001b[1mInstalling r dependency: \u001b[32mlibxau\u001b[39m\u001b[0m\n",
            "\u001b[34m==>\u001b[0m \u001b[1mPouring libxau--1.0.10.x86_64_linux.bottle.tar.gz\u001b[0m\n",
            "🍺  /home/linuxbrew/.linuxbrew/Cellar/libxau/1.0.10: 21 files, 135KB\n",
            "\u001b[32m==>\u001b[0m \u001b[1mInstalling r dependency: \u001b[32mlibxdmcp\u001b[39m\u001b[0m\n",
            "\u001b[34m==>\u001b[0m \u001b[1mPouring libxdmcp--1.1.3.x86_64_linux.bottle.tar.gz\u001b[0m\n",
            "🍺  /home/linuxbrew/.linuxbrew/Cellar/libxdmcp/1.1.3: 12 files, 136KB\n",
            "\u001b[32m==>\u001b[0m \u001b[1mInstalling r dependency: \u001b[32mlibxcb\u001b[39m\u001b[0m\n",
            "\u001b[34m==>\u001b[0m \u001b[1mPouring libxcb--1.15.x86_64_linux.bottle.tar.gz\u001b[0m\n",
            "🍺  /home/linuxbrew/.linuxbrew/Cellar/libxcb/1.15: 2,459 files, 6.7MB\n",
            "\u001b[32m==>\u001b[0m \u001b[1mInstalling r dependency: \u001b[32mlibx11\u001b[39m\u001b[0m\n",
            "\u001b[34m==>\u001b[0m \u001b[1mPouring libx11--1.8.1.x86_64_linux.bottle.tar.gz\u001b[0m\n",
            "🍺  /home/linuxbrew/.linuxbrew/Cellar/libx11/1.8.1: 1,062 files, 8MB\n",
            "\u001b[32m==>\u001b[0m \u001b[1mInstalling r dependency: \u001b[32mlibxext\u001b[39m\u001b[0m\n",
            "\u001b[34m==>\u001b[0m \u001b[1mPouring libxext--1.3.4.x86_64_linux.bottle.tar.gz\u001b[0m\n",
            "🍺  /home/linuxbrew/.linuxbrew/Cellar/libxext/1.3.4: 88 files, 488.7KB\n",
            "\u001b[32m==>\u001b[0m \u001b[1mInstalling r dependency: \u001b[32mlibxrender\u001b[39m\u001b[0m\n",
            "\u001b[34m==>\u001b[0m \u001b[1mPouring libxrender--0.9.10.x86_64_linux.bottle.tar.gz\u001b[0m\n",
            "🍺  /home/linuxbrew/.linuxbrew/Cellar/libxrender/0.9.10: 13 files, 209.9KB\n",
            "\u001b[32m==>\u001b[0m \u001b[1mInstalling r dependency: \u001b[32mlzo\u001b[39m\u001b[0m\n",
            "\u001b[34m==>\u001b[0m \u001b[1mPouring lzo--2.10.x86_64_linux.bottle.tar.gz\u001b[0m\n",
            "🍺  /home/linuxbrew/.linuxbrew/Cellar/lzo/2.10: 32 files, 688.5KB\n",
            "\u001b[32m==>\u001b[0m \u001b[1mInstalling r dependency: \u001b[32mpixman\u001b[39m\u001b[0m\n",
            "\u001b[34m==>\u001b[0m \u001b[1mPouring pixman--0.40.0.x86_64_linux.bottle.tar.gz\u001b[0m\n",
            "🍺  /home/linuxbrew/.linuxbrew/Cellar/pixman/0.40.0: 11 files, 1.7MB\n",
            "\u001b[32m==>\u001b[0m \u001b[1mInstalling r dependency: \u001b[32mcairo\u001b[39m\u001b[0m\n",
            "\u001b[34m==>\u001b[0m \u001b[1mPouring cairo--1.16.0_5.x86_64_linux.bottle.tar.gz\u001b[0m\n",
            "🍺  /home/linuxbrew/.linuxbrew/Cellar/cairo/1.16.0_5: 124 files, 7.2MB\n",
            "\u001b[32m==>\u001b[0m \u001b[1mInstalling r dependency: \u001b[32misl\u001b[39m\u001b[0m\n",
            "\u001b[34m==>\u001b[0m \u001b[1mPouring isl--0.25.x86_64_linux.bottle.tar.gz\u001b[0m\n",
            "🍺  /home/linuxbrew/.linuxbrew/Cellar/isl/0.25: 74 files, 9.2MB\n",
            "\u001b[32m==>\u001b[0m \u001b[1mInstalling r dependency: \u001b[32mlz4\u001b[39m\u001b[0m\n",
            "\u001b[34m==>\u001b[0m \u001b[1mPouring lz4--1.9.4.x86_64_linux.bottle.tar.gz\u001b[0m\n",
            "🍺  /home/linuxbrew/.linuxbrew/Cellar/lz4/1.9.4: 22 files, 695.3KB\n",
            "\u001b[32m==>\u001b[0m \u001b[1mInstalling r dependency: \u001b[32mzstd\u001b[39m\u001b[0m\n",
            "\u001b[34m==>\u001b[0m \u001b[1mPouring zstd--1.5.2.x86_64_linux.bottle.3.tar.gz\u001b[0m\n",
            "🍺  /home/linuxbrew/.linuxbrew/Cellar/zstd/1.5.2: 31 files, 2.6MB\n",
            "\u001b[32m==>\u001b[0m \u001b[1mInstalling r dependency: \u001b[32mgcc\u001b[39m\u001b[0m\n",
            "\u001b[34m==>\u001b[0m \u001b[1mPouring gcc--12.2.0.x86_64_linux.bottle.1.tar.gz\u001b[0m\n",
            "\u001b[33mWarning:\u001b[0m The post-install step did not complete successfully\n",
            "You can try again using:\n",
            "  brew postinstall gcc\n",
            "\u001b[34m==>\u001b[0m \u001b[1mSummary\u001b[0m\n",
            "🍺  /home/linuxbrew/.linuxbrew/Cellar/gcc/12.2.0: 1,623 files, 306.4MB\n",
            "\u001b[32m==>\u001b[0m \u001b[1mInstalling r dependency: \u001b[32mjpeg-turbo\u001b[39m\u001b[0m\n",
            "\u001b[34m==>\u001b[0m \u001b[1mPouring jpeg-turbo--2.1.4.x86_64_linux.bottle.tar.gz\u001b[0m\n",
            "🍺  /home/linuxbrew/.linuxbrew/Cellar/jpeg-turbo/2.1.4: 44 files, 4MB\n",
            "\u001b[32m==>\u001b[0m \u001b[1mInstalling r dependency: \u001b[32mopenblas\u001b[39m\u001b[0m\n",
            "\u001b[34m==>\u001b[0m \u001b[1mPouring openblas--0.3.21.x86_64_linux.bottle.tar.gz\u001b[0m\n",
            "🍺  /home/linuxbrew/.linuxbrew/Cellar/openblas/0.3.21: 23 files, 44.2MB\n",
            "\u001b[32m==>\u001b[0m \u001b[1mInstalling r dependency: \u001b[32mpcre2\u001b[39m\u001b[0m\n",
            "\u001b[34m==>\u001b[0m \u001b[1mPouring pcre2--10.40.x86_64_linux.bottle.tar.gz\u001b[0m\n",
            "🍺  /home/linuxbrew/.linuxbrew/Cellar/pcre2/10.40: 234 files, 7MB\n",
            "\u001b[32m==>\u001b[0m \u001b[1mInstalling r dependency: \u001b[32mtcl-tk\u001b[39m\u001b[0m\n",
            "\u001b[34m==>\u001b[0m \u001b[1mPouring tcl-tk--8.6.12_1.x86_64_linux.bottle.tar.gz\u001b[0m\n",
            "🍺  /home/linuxbrew/.linuxbrew/Cellar/tcl-tk/8.6.12_1: 3,029 files, 53.1MB\n",
            "\u001b[32m==>\u001b[0m \u001b[1mInstalling r dependency: \u001b[32mbrotli\u001b[39m\u001b[0m\n",
            "\u001b[34m==>\u001b[0m \u001b[1mPouring brotli--1.0.9.x86_64_linux.bottle.tar.gz\u001b[0m\n",
            "🍺  /home/linuxbrew/.linuxbrew/Cellar/brotli/1.0.9: 25 files, 2.5MB\n",
            "\u001b[32m==>\u001b[0m \u001b[1mInstalling r dependency: \u001b[32mlibunistring\u001b[39m\u001b[0m\n",
            "\u001b[34m==>\u001b[0m \u001b[1mPouring libunistring--1.0.x86_64_linux.bottle.tar.gz\u001b[0m\n",
            "🍺  /home/linuxbrew/.linuxbrew/Cellar/libunistring/1.0: 57 files, 5.5MB\n",
            "\u001b[32m==>\u001b[0m \u001b[1mInstalling r dependency: \u001b[32mlibidn2\u001b[39m\u001b[0m\n",
            "\u001b[34m==>\u001b[0m \u001b[1mPouring libidn2--2.3.3.x86_64_linux.bottle.tar.gz\u001b[0m\n",
            "🍺  /home/linuxbrew/.linuxbrew/Cellar/libidn2/2.3.3: 79 files, 1.2MB\n",
            "\u001b[32m==>\u001b[0m \u001b[1mInstalling r dependency: \u001b[32mlibnghttp2\u001b[39m\u001b[0m\n",
            "\u001b[34m==>\u001b[0m \u001b[1mPouring libnghttp2--1.49.0.x86_64_linux.bottle.tar.gz\u001b[0m\n",
            "🍺  /home/linuxbrew/.linuxbrew/Cellar/libnghttp2/1.49.0: 14 files, 830.4KB\n",
            "\u001b[32m==>\u001b[0m \u001b[1mInstalling r dependency: \u001b[32mlibssh2\u001b[39m\u001b[0m\n",
            "\u001b[34m==>\u001b[0m \u001b[1mPouring libssh2--1.10.0.x86_64_linux.bottle.tar.gz\u001b[0m\n",
            "🍺  /home/linuxbrew/.linuxbrew/Cellar/libssh2/1.10.0: 185 files, 1.2MB\n",
            "\u001b[32m==>\u001b[0m \u001b[1mInstalling r dependency: \u001b[32mopenldap\u001b[39m\u001b[0m\n",
            "\u001b[34m==>\u001b[0m \u001b[1mPouring openldap--2.6.3.x86_64_linux.bottle.tar.gz\u001b[0m\n",
            "🍺  /home/linuxbrew/.linuxbrew/Cellar/openldap/2.6.3: 85 files, 7.3MB\n",
            "\u001b[32m==>\u001b[0m \u001b[1mInstalling r dependency: \u001b[32mrtmpdump\u001b[39m\u001b[0m\n",
            "\u001b[34m==>\u001b[0m \u001b[1mPouring rtmpdump--2.4+20151223_1.x86_64_linux.bottle.tar.gz\u001b[0m\n",
            "🍺  /home/linuxbrew/.linuxbrew/Cellar/rtmpdump/2.4+20151223_1: 20 files, 591KB\n",
            "\u001b[32m==>\u001b[0m \u001b[1mInstalling r dependency: \u001b[32mcurl\u001b[39m\u001b[0m\n",
            "\u001b[34m==>\u001b[0m \u001b[1mPouring curl--7.85.0.x86_64_linux.bottle.tar.gz\u001b[0m\n",
            "🍺  /home/linuxbrew/.linuxbrew/Cellar/curl/7.85.0: 505 files, 4.6MB\n",
            "\u001b[32m==>\u001b[0m \u001b[1mInstalling r dependency: \u001b[32mlibice\u001b[39m\u001b[0m\n",
            "\u001b[34m==>\u001b[0m \u001b[1mPouring libice--1.0.10.x86_64_linux.bottle.tar.gz\u001b[0m\n",
            "🍺  /home/linuxbrew/.linuxbrew/Cellar/libice/1.0.10: 17 files, 404.7KB\n",
            "\u001b[32m==>\u001b[0m \u001b[1mInstalling r dependency: \u001b[32mlibsm\u001b[39m\u001b[0m\n",
            "\u001b[34m==>\u001b[0m \u001b[1mPouring libsm--1.2.3.x86_64_linux.bottle.tar.gz\u001b[0m\n",
            "🍺  /home/linuxbrew/.linuxbrew/Cellar/libsm/1.2.3: 14 files, 196.7KB\n",
            "\u001b[32m==>\u001b[0m \u001b[1mInstalling r dependency: \u001b[32mlibxt\u001b[39m\u001b[0m\n",
            "\u001b[34m==>\u001b[0m \u001b[1mPouring libxt--1.2.1.x86_64_linux.bottle.tar.gz\u001b[0m\n",
            "🍺  /home/linuxbrew/.linuxbrew/Cellar/libxt/1.2.1: 311 files, 2.0MB\n",
            "\u001b[32m==>\u001b[0m \u001b[1mInstalling r dependency: \u001b[32mfribidi\u001b[39m\u001b[0m\n",
            "\u001b[34m==>\u001b[0m \u001b[1mPouring fribidi--1.0.12.x86_64_linux.bottle.tar.gz\u001b[0m\n",
            "🍺  /home/linuxbrew/.linuxbrew/Cellar/fribidi/1.0.12: 68 files, 632.1KB\n",
            "\u001b[32m==>\u001b[0m \u001b[1mInstalling r dependency: \u001b[32mgraphite2\u001b[39m\u001b[0m\n",
            "\u001b[34m==>\u001b[0m \u001b[1mPouring graphite2--1.3.14.x86_64_linux.bottle.tar.gz\u001b[0m\n",
            "🍺  /home/linuxbrew/.linuxbrew/Cellar/graphite2/1.3.14: 18 files, 327.4KB\n",
            "\u001b[32m==>\u001b[0m \u001b[1mInstalling r dependency: \u001b[32mharfbuzz\u001b[39m\u001b[0m\n",
            "\u001b[34m==>\u001b[0m \u001b[1mPouring harfbuzz--5.1.0_1.x86_64_linux.bottle.tar.gz\u001b[0m\n",
            "🍺  /home/linuxbrew/.linuxbrew/Cellar/harfbuzz/5.1.0_1: 71 files, 10.3MB\n",
            "\u001b[32m==>\u001b[0m \u001b[1mInstalling r dependency: \u001b[32mpango\u001b[39m\u001b[0m\n",
            "\u001b[34m==>\u001b[0m \u001b[1mPouring pango--1.50.9.x86_64_linux.bottle.tar.gz\u001b[0m\n",
            "🍺  /home/linuxbrew/.linuxbrew/Cellar/pango/1.50.9: 71 files, 3.5MB\n",
            "\u001b[32m==>\u001b[0m \u001b[1mInstalling \u001b[32mr\u001b[39m\u001b[0m\n",
            "\u001b[34m==>\u001b[0m \u001b[1mPouring r--4.2.1_3.x86_64_linux.bottle.tar.gz\u001b[0m\n",
            "🍺  /home/linuxbrew/.linuxbrew/Cellar/r/4.2.1_3: 1,685 files, 75MB\n",
            "\u001b[34m==>\u001b[0m \u001b[1mRunning `brew cleanup r`...\u001b[0m\n",
            "Disable this behaviour by setting HOMEBREW_NO_INSTALL_CLEANUP.\n",
            "Hide these hints with HOMEBREW_NO_ENV_HINTS (see `man brew`).\n",
            "\u001b[34m==>\u001b[0m \u001b[1mNo outdated dependents to upgrade!\u001b[0m\n",
            "\u001b[32m==>\u001b[0m \u001b[1mChecking for dependents of upgraded formulae...\u001b[0m\n",
            "Disable this behaviour by setting HOMEBREW_NO_INSTALLED_DEPENDENTS_CHECK.\n",
            "Hide these hints with HOMEBREW_NO_ENV_HINTS (see `man brew`).\n",
            "\u001b[34m==>\u001b[0m \u001b[1mReinstalling 2 dependents with broken linkage from source:\u001b[0m\n",
            "gettext, openblas\n"
          ]
        }
      ],
      "source": [
        "#First, make sure you have R installed ... this could take a while ;P\n",
        "!brew install R"
      ]
    },
    {
      "cell_type": "code",
      "execution_count": 3,
      "metadata": {
        "colab": {
          "base_uri": "https://localhost:8080/"
        },
        "id": "rM-TBjRccyyt",
        "outputId": "548176c1-c461-4789-959a-281af8f3867a"
      },
      "outputs": [
        {
          "name": "stdout",
          "output_type": "stream",
          "text": [
            "Collecting rpy2\n",
            "  Downloading rpy2-3.5.4.tar.gz (208 kB)\n",
            "\u001b[K     |████████████████████████████████| 208 kB 4.0 MB/s eta 0:00:01\n",
            "\u001b[?25hRequirement already satisfied: cffi>=1.10.0 in /home/wil/.pyenv/versions/anaconda3-2022.05/lib/python3.9/site-packages (from rpy2) (1.15.0)\n",
            "Requirement already satisfied: jinja2 in /home/wil/.pyenv/versions/anaconda3-2022.05/lib/python3.9/site-packages (from rpy2) (2.11.3)\n",
            "Requirement already satisfied: pytz in /home/wil/.pyenv/versions/anaconda3-2022.05/lib/python3.9/site-packages (from rpy2) (2021.3)\n",
            "Collecting tzlocal\n",
            "  Downloading tzlocal-4.2-py3-none-any.whl (19 kB)\n",
            "Requirement already satisfied: pycparser in /home/wil/.pyenv/versions/anaconda3-2022.05/lib/python3.9/site-packages (from cffi>=1.10.0->rpy2) (2.21)\n",
            "Requirement already satisfied: MarkupSafe>=0.23 in /home/wil/.pyenv/versions/anaconda3-2022.05/lib/python3.9/site-packages (from jinja2->rpy2) (2.0.1)\n",
            "Collecting pytz-deprecation-shim\n",
            "  Downloading pytz_deprecation_shim-0.1.0.post0-py2.py3-none-any.whl (15 kB)\n",
            "Collecting tzdata\n",
            "  Downloading tzdata-2022.2-py2.py3-none-any.whl (336 kB)\n",
            "\u001b[K     |████████████████████████████████| 336 kB 5.2 MB/s eta 0:00:01\n",
            "\u001b[?25hBuilding wheels for collected packages: rpy2\n",
            "  Building wheel for rpy2 (setup.py) ... \u001b[?25ldone\n",
            "\u001b[?25h  Created wheel for rpy2: filename=rpy2-3.5.4-py3-none-any.whl size=212022 sha256=3941e29b5bcadd7b870fa481afdcaaae7cdb701d3c63420b09285c470857a1b5\n",
            "  Stored in directory: /home/wil/.cache/pip/wheels/da/6b/34/b327cb8b513f8905ab94607f67b91c3cb7dc07824d2a6d8d40\n",
            "Successfully built rpy2\n",
            "Installing collected packages: tzdata, pytz-deprecation-shim, tzlocal, rpy2\n",
            "Successfully installed pytz-deprecation-shim-0.1.0.post0 rpy2-3.5.4 tzdata-2022.2 tzlocal-4.2\n"
          ]
        }
      ],
      "source": [
        "# Next, we install rpy2 to allow running R code in a notebook\n",
        "!pip install rpy2"
      ]
    },
    {
      "cell_type": "code",
      "execution_count": 4,
      "metadata": {
        "id": "SkkQoJd5cyyu"
      },
      "outputs": [
        {
          "name": "stderr",
          "output_type": "stream",
          "text": [
            "Unable to determine R library path: Command '('/home/linuxbrew/.linuxbrew/Cellar/r/4.2.1_3/lib/R/bin/Rscript', '-e', 'cat(Sys.getenv(\"LD_LIBRARY_PATH\"))')' returned non-zero exit status 127.\n"
          ]
        },
        {
          "ename": "OSError",
          "evalue": "cannot load library '/home/linuxbrew/.linuxbrew/Cellar/r/4.2.1_3/lib/R/lib/libR.so': libopenblas.so.0: cannot open shared object file: No such file or directory",
          "output_type": "error",
          "traceback": [
            "\u001b[0;31m---------------------------------------------------------------------------\u001b[0m",
            "\u001b[0;31mOSError\u001b[0m                                   Traceback (most recent call last)",
            "\u001b[1;32m/home/wil/module2_intro_to_pandas/2_2_dataframe_verbs_select_filter_mutate.ipynb Cell 6\u001b[0m in \u001b[0;36m<cell line: 3>\u001b[0;34m()\u001b[0m\n\u001b[1;32m      <a href='vscode-notebook-cell://wsl%2Bubuntu-20.04/home/wil/module2_intro_to_pandas/2_2_dataframe_verbs_select_filter_mutate.ipynb#W5sdnNjb2RlLXJlbW90ZQ%3D%3D?line=0'>1</a>\u001b[0m \u001b[39m#Load rpy2 and R magic commands\u001b[39;00m\n\u001b[1;32m      <a href='vscode-notebook-cell://wsl%2Bubuntu-20.04/home/wil/module2_intro_to_pandas/2_2_dataframe_verbs_select_filter_mutate.ipynb#W5sdnNjb2RlLXJlbW90ZQ%3D%3D?line=1'>2</a>\u001b[0m \u001b[39mimport\u001b[39;00m \u001b[39mrpy2\u001b[39;00m\n\u001b[0;32m----> <a href='vscode-notebook-cell://wsl%2Bubuntu-20.04/home/wil/module2_intro_to_pandas/2_2_dataframe_verbs_select_filter_mutate.ipynb#W5sdnNjb2RlLXJlbW90ZQ%3D%3D?line=2'>3</a>\u001b[0m get_ipython()\u001b[39m.\u001b[39;49mrun_line_magic(\u001b[39m'\u001b[39;49m\u001b[39mload_ext\u001b[39;49m\u001b[39m'\u001b[39;49m, \u001b[39m'\u001b[39;49m\u001b[39mrpy2.ipython\u001b[39;49m\u001b[39m'\u001b[39;49m)\n",
            "File \u001b[0;32m~/.pyenv/versions/anaconda3-2022.05/lib/python3.9/site-packages/IPython/core/interactiveshell.py:2294\u001b[0m, in \u001b[0;36mInteractiveShell.run_line_magic\u001b[0;34m(self, magic_name, line, _stack_depth)\u001b[0m\n\u001b[1;32m   2292\u001b[0m     kwargs[\u001b[39m'\u001b[39m\u001b[39mlocal_ns\u001b[39m\u001b[39m'\u001b[39m] \u001b[39m=\u001b[39m \u001b[39mself\u001b[39m\u001b[39m.\u001b[39mget_local_scope(stack_depth)\n\u001b[1;32m   2293\u001b[0m \u001b[39mwith\u001b[39;00m \u001b[39mself\u001b[39m\u001b[39m.\u001b[39mbuiltin_trap:\n\u001b[0;32m-> 2294\u001b[0m     result \u001b[39m=\u001b[39m fn(\u001b[39m*\u001b[39;49margs, \u001b[39m*\u001b[39;49m\u001b[39m*\u001b[39;49mkwargs)\n\u001b[1;32m   2295\u001b[0m \u001b[39mreturn\u001b[39;00m result\n",
            "File \u001b[0;32m~/.pyenv/versions/anaconda3-2022.05/lib/python3.9/site-packages/IPython/core/magics/extension.py:33\u001b[0m, in \u001b[0;36mExtensionMagics.load_ext\u001b[0;34m(self, module_str)\u001b[0m\n\u001b[1;32m     31\u001b[0m \u001b[39mif\u001b[39;00m \u001b[39mnot\u001b[39;00m module_str:\n\u001b[1;32m     32\u001b[0m     \u001b[39mraise\u001b[39;00m UsageError(\u001b[39m'\u001b[39m\u001b[39mMissing module name.\u001b[39m\u001b[39m'\u001b[39m)\n\u001b[0;32m---> 33\u001b[0m res \u001b[39m=\u001b[39m \u001b[39mself\u001b[39;49m\u001b[39m.\u001b[39;49mshell\u001b[39m.\u001b[39;49mextension_manager\u001b[39m.\u001b[39;49mload_extension(module_str)\n\u001b[1;32m     35\u001b[0m \u001b[39mif\u001b[39;00m res \u001b[39m==\u001b[39m \u001b[39m'\u001b[39m\u001b[39malready loaded\u001b[39m\u001b[39m'\u001b[39m:\n\u001b[1;32m     36\u001b[0m     \u001b[39mprint\u001b[39m(\u001b[39m\"\u001b[39m\u001b[39mThe \u001b[39m\u001b[39m%s\u001b[39;00m\u001b[39m extension is already loaded. To reload it, use:\u001b[39m\u001b[39m\"\u001b[39m \u001b[39m%\u001b[39m module_str)\n",
            "File \u001b[0;32m~/.pyenv/versions/anaconda3-2022.05/lib/python3.9/site-packages/IPython/core/extensions.py:76\u001b[0m, in \u001b[0;36mExtensionManager.load_extension\u001b[0;34m(self, module_str)\u001b[0m\n\u001b[1;32m     69\u001b[0m \u001b[39m\"\"\"Load an IPython extension by its module name.\u001b[39;00m\n\u001b[1;32m     70\u001b[0m \n\u001b[1;32m     71\u001b[0m \u001b[39mReturns the string \"already loaded\" if the extension is already loaded,\u001b[39;00m\n\u001b[1;32m     72\u001b[0m \u001b[39m\"no load function\" if the module doesn't have a load_ipython_extension\u001b[39;00m\n\u001b[1;32m     73\u001b[0m \u001b[39mfunction, or None if it succeeded.\u001b[39;00m\n\u001b[1;32m     74\u001b[0m \u001b[39m\"\"\"\u001b[39;00m\n\u001b[1;32m     75\u001b[0m \u001b[39mtry\u001b[39;00m:\n\u001b[0;32m---> 76\u001b[0m     \u001b[39mreturn\u001b[39;00m \u001b[39mself\u001b[39;49m\u001b[39m.\u001b[39;49m_load_extension(module_str)\n\u001b[1;32m     77\u001b[0m \u001b[39mexcept\u001b[39;00m \u001b[39mModuleNotFoundError\u001b[39;00m:\n\u001b[1;32m     78\u001b[0m     \u001b[39mif\u001b[39;00m module_str \u001b[39min\u001b[39;00m BUILTINS_EXTS:\n",
            "File \u001b[0;32m~/.pyenv/versions/anaconda3-2022.05/lib/python3.9/site-packages/IPython/core/extensions.py:92\u001b[0m, in \u001b[0;36mExtensionManager._load_extension\u001b[0;34m(self, module_str)\u001b[0m\n\u001b[1;32m     90\u001b[0m \u001b[39mif\u001b[39;00m module_str \u001b[39mnot\u001b[39;00m \u001b[39min\u001b[39;00m sys\u001b[39m.\u001b[39mmodules:\n\u001b[1;32m     91\u001b[0m     \u001b[39mwith\u001b[39;00m prepended_to_syspath(\u001b[39mself\u001b[39m\u001b[39m.\u001b[39mipython_extension_dir):\n\u001b[0;32m---> 92\u001b[0m         mod \u001b[39m=\u001b[39m import_module(module_str)\n\u001b[1;32m     93\u001b[0m         \u001b[39mif\u001b[39;00m mod\u001b[39m.\u001b[39m\u001b[39m__file__\u001b[39m\u001b[39m.\u001b[39mstartswith(\u001b[39mself\u001b[39m\u001b[39m.\u001b[39mipython_extension_dir):\n\u001b[1;32m     94\u001b[0m             \u001b[39mprint\u001b[39m((\u001b[39m\"\u001b[39m\u001b[39mLoading extensions from \u001b[39m\u001b[39m{dir}\u001b[39;00m\u001b[39m is deprecated. \u001b[39m\u001b[39m\"\u001b[39m\n\u001b[1;32m     95\u001b[0m                    \u001b[39m\"\u001b[39m\u001b[39mWe recommend managing extensions like any \u001b[39m\u001b[39m\"\u001b[39m\n\u001b[1;32m     96\u001b[0m                    \u001b[39m\"\u001b[39m\u001b[39mother Python packages, in site-packages.\u001b[39m\u001b[39m\"\u001b[39m)\u001b[39m.\u001b[39mformat(\n\u001b[1;32m     97\u001b[0m                   \u001b[39mdir\u001b[39m\u001b[39m=\u001b[39mcompress_user(\u001b[39mself\u001b[39m\u001b[39m.\u001b[39mipython_extension_dir)))\n",
            "File \u001b[0;32m~/.pyenv/versions/anaconda3-2022.05/lib/python3.9/importlib/__init__.py:127\u001b[0m, in \u001b[0;36mimport_module\u001b[0;34m(name, package)\u001b[0m\n\u001b[1;32m    125\u001b[0m             \u001b[39mbreak\u001b[39;00m\n\u001b[1;32m    126\u001b[0m         level \u001b[39m+\u001b[39m\u001b[39m=\u001b[39m \u001b[39m1\u001b[39m\n\u001b[0;32m--> 127\u001b[0m \u001b[39mreturn\u001b[39;00m _bootstrap\u001b[39m.\u001b[39;49m_gcd_import(name[level:], package, level)\n",
            "File \u001b[0;32m<frozen importlib._bootstrap>:1030\u001b[0m, in \u001b[0;36m_gcd_import\u001b[0;34m(name, package, level)\u001b[0m\n",
            "File \u001b[0;32m<frozen importlib._bootstrap>:1007\u001b[0m, in \u001b[0;36m_find_and_load\u001b[0;34m(name, import_)\u001b[0m\n",
            "File \u001b[0;32m<frozen importlib._bootstrap>:986\u001b[0m, in \u001b[0;36m_find_and_load_unlocked\u001b[0;34m(name, import_)\u001b[0m\n",
            "File \u001b[0;32m<frozen importlib._bootstrap>:680\u001b[0m, in \u001b[0;36m_load_unlocked\u001b[0;34m(spec)\u001b[0m\n",
            "File \u001b[0;32m<frozen importlib._bootstrap_external>:850\u001b[0m, in \u001b[0;36mexec_module\u001b[0;34m(self, module)\u001b[0m\n",
            "File \u001b[0;32m<frozen importlib._bootstrap>:228\u001b[0m, in \u001b[0;36m_call_with_frames_removed\u001b[0;34m(f, *args, **kwds)\u001b[0m\n",
            "File \u001b[0;32m~/.pyenv/versions/anaconda3-2022.05/lib/python3.9/site-packages/rpy2/ipython/__init__.py:1\u001b[0m, in \u001b[0;36m<module>\u001b[0;34m\u001b[0m\n\u001b[0;32m----> 1\u001b[0m \u001b[39mfrom\u001b[39;00m \u001b[39m.\u001b[39;00m \u001b[39mimport\u001b[39;00m rmagic\n\u001b[1;32m      3\u001b[0m load_ipython_extension \u001b[39m=\u001b[39m rmagic\u001b[39m.\u001b[39mload_ipython_extension\n",
            "File \u001b[0;32m~/.pyenv/versions/anaconda3-2022.05/lib/python3.9/site-packages/rpy2/ipython/rmagic.py:55\u001b[0m, in \u001b[0;36m<module>\u001b[0;34m\u001b[0m\n\u001b[1;32m     51\u001b[0m \u001b[39mimport\u001b[39;00m \u001b[39mtextwrap\u001b[39;00m\n\u001b[1;32m     53\u001b[0m \u001b[39m# numpy and rpy2 imports\u001b[39;00m\n\u001b[0;32m---> 55\u001b[0m \u001b[39mimport\u001b[39;00m \u001b[39mrpy2\u001b[39;00m\u001b[39m.\u001b[39;00m\u001b[39mrinterface\u001b[39;00m \u001b[39mas\u001b[39;00m \u001b[39mri\u001b[39;00m\n\u001b[1;32m     56\u001b[0m \u001b[39mimport\u001b[39;00m \u001b[39mrpy2\u001b[39;00m\u001b[39m.\u001b[39;00m\u001b[39mrinterface_lib\u001b[39;00m\u001b[39m.\u001b[39;00m\u001b[39mcallbacks\u001b[39;00m\n\u001b[1;32m     57\u001b[0m \u001b[39mimport\u001b[39;00m \u001b[39mrpy2\u001b[39;00m\u001b[39m.\u001b[39;00m\u001b[39mrobjects\u001b[39;00m \u001b[39mas\u001b[39;00m \u001b[39mro\u001b[39;00m\n",
            "File \u001b[0;32m~/.pyenv/versions/anaconda3-2022.05/lib/python3.9/site-packages/rpy2/rinterface.py:16\u001b[0m, in \u001b[0;36m<module>\u001b[0;34m\u001b[0m\n\u001b[1;32m     14\u001b[0m \u001b[39mimport\u001b[39;00m \u001b[39mwarnings\u001b[39;00m\n\u001b[1;32m     15\u001b[0m \u001b[39mfrom\u001b[39;00m \u001b[39mtyping\u001b[39;00m \u001b[39mimport\u001b[39;00m Union\n\u001b[0;32m---> 16\u001b[0m \u001b[39mfrom\u001b[39;00m \u001b[39mrpy2\u001b[39;00m\u001b[39m.\u001b[39;00m\u001b[39mrinterface_lib\u001b[39;00m \u001b[39mimport\u001b[39;00m openrlib\n\u001b[1;32m     17\u001b[0m \u001b[39mimport\u001b[39;00m \u001b[39mrpy2\u001b[39;00m\u001b[39m.\u001b[39;00m\u001b[39mrinterface_lib\u001b[39;00m\u001b[39m.\u001b[39;00m\u001b[39m_rinterface_capi\u001b[39;00m \u001b[39mas\u001b[39;00m \u001b[39m_rinterface\u001b[39;00m\n\u001b[1;32m     18\u001b[0m \u001b[39mimport\u001b[39;00m \u001b[39mrpy2\u001b[39;00m\u001b[39m.\u001b[39;00m\u001b[39mrinterface_lib\u001b[39;00m\u001b[39m.\u001b[39;00m\u001b[39membedded\u001b[39;00m \u001b[39mas\u001b[39;00m \u001b[39membedded\u001b[39;00m\n",
            "File \u001b[0;32m~/.pyenv/versions/anaconda3-2022.05/lib/python3.9/site-packages/rpy2/rinterface_lib/openrlib.py:54\u001b[0m, in \u001b[0;36m<module>\u001b[0;34m\u001b[0m\n\u001b[1;32m     52\u001b[0m     rlib \u001b[39m=\u001b[39m _rinterface_cffi\u001b[39m.\u001b[39mlib\n\u001b[1;32m     53\u001b[0m \u001b[39melse\u001b[39;00m:\n\u001b[0;32m---> 54\u001b[0m     rlib \u001b[39m=\u001b[39m _dlopen_rlib(R_HOME)\n\u001b[1;32m     57\u001b[0m \u001b[39m# R macros and functions\u001b[39;00m\n\u001b[1;32m     58\u001b[0m \u001b[39mdef\u001b[39;00m \u001b[39m_get_symbol_or_fallback\u001b[39m(symbol: \u001b[39mstr\u001b[39m, fallback: typing\u001b[39m.\u001b[39mAny):\n",
            "File \u001b[0;32m~/.pyenv/versions/anaconda3-2022.05/lib/python3.9/site-packages/rpy2/rinterface_lib/openrlib.py:47\u001b[0m, in \u001b[0;36m_dlopen_rlib\u001b[0;34m(r_home)\u001b[0m\n\u001b[1;32m     45\u001b[0m     \u001b[39mraise\u001b[39;00m \u001b[39mValueError\u001b[39;00m(\u001b[39m'\u001b[39m\u001b[39mThe library path cannot be None.\u001b[39m\u001b[39m'\u001b[39m)\n\u001b[1;32m     46\u001b[0m \u001b[39melse\u001b[39;00m:\n\u001b[0;32m---> 47\u001b[0m     rlib \u001b[39m=\u001b[39m ffi\u001b[39m.\u001b[39;49mdlopen(lib_path)\n\u001b[1;32m     48\u001b[0m \u001b[39mreturn\u001b[39;00m rlib\n",
            "\u001b[0;31mOSError\u001b[0m: cannot load library '/home/linuxbrew/.linuxbrew/Cellar/r/4.2.1_3/lib/R/lib/libR.so': libopenblas.so.0: cannot open shared object file: No such file or directory"
          ]
        }
      ],
      "source": [
        "#Load rpy2 and R magic commands\n",
        "import rpy2\n",
        "%load_ext rpy2.ipython"
      ]
    },
    {
      "cell_type": "markdown",
      "metadata": {
        "id": "ixPsNHWrcyyu"
      },
      "source": [
        "# Select, Filter, and Mutate\n",
        "\n",
        "In this lecture, we will look at three important actions used to process data frames.  While each framework uses different names for these functions, we will use the names from the `R` library `dplyr`, namely `select`, `mutate`, and `filter`.  The most important takeaway will be that, regardless of framework or scale, we can process data frames in the same way by applying the same sequence of data verbs."
      ]
    },
    {
      "cell_type": "markdown",
      "metadata": {
        "id": "IwAdDugxcyyu"
      },
      "source": [
        "## R and Python can interact!"
      ]
    },
    {
      "cell_type": "code",
      "execution_count": 5,
      "metadata": {
        "id": "LZPcREcocyyv"
      },
      "outputs": [],
      "source": [
        "import warnings\n",
        "warnings.filterwarnings('ignore')"
      ]
    },
    {
      "cell_type": "code",
      "execution_count": 6,
      "metadata": {
        "colab": {
          "base_uri": "https://localhost:8080/"
        },
        "id": "4kDX4E3Icyyv",
        "outputId": "44075787-798d-41b4-90d9-ef8c1c96894c"
      },
      "outputs": [
        {
          "name": "stderr",
          "output_type": "stream",
          "text": [
            "UsageError: Cell magic `%%R` not found.\n"
          ]
        }
      ],
      "source": [
        "%%R\n",
        "rnorm(5, 2, 3)"
      ]
    },
    {
      "cell_type": "markdown",
      "metadata": {
        "id": "UCf2hf1jcyyw"
      },
      "source": [
        "## We love dplyr!"
      ]
    },
    {
      "cell_type": "code",
      "execution_count": 9,
      "metadata": {
        "colab": {
          "base_uri": "https://localhost:8080/",
          "height": 710
        },
        "id": "fRDNC11Fcyyw",
        "outputId": "0a1fc5e8-adb1-44c6-9dc0-c5a7727b5103",
        "scrolled": true
      },
      "outputs": [
        {
          "name": "stderr",
          "output_type": "stream",
          "text": [
            "WARNING:rpy2.rinterface_lib.callbacks:R[write to console]: Error in file(file, \"rt\") : cannot open the connection\n",
            "\n",
            "WARNING:rpy2.rinterface_lib.callbacks:R[write to console]: In addition: \n",
            "WARNING:rpy2.rinterface_lib.callbacks:R[write to console]: Warning message:\n",
            "\n",
            "WARNING:rpy2.rinterface_lib.callbacks:R[write to console]: In file(file, \"rt\") :\n",
            "WARNING:rpy2.rinterface_lib.callbacks:R[write to console]: \n",
            " \n",
            "WARNING:rpy2.rinterface_lib.callbacks:R[write to console]:  cannot open file './data/Artists.csv': No such file or directory\n",
            "\n"
          ]
        },
        {
          "name": "stdout",
          "output_type": "stream",
          "text": [
            "\n",
            "Error in file(file, \"rt\") : cannot open the connection\n"
          ]
        },
        {
          "ename": "RInterpreterError",
          "evalue": "ignored",
          "output_type": "error",
          "traceback": [
            "\u001b[0;31m---------------------------------------------------------------------------\u001b[0m",
            "\u001b[0;31mRRuntimeError\u001b[0m                             Traceback (most recent call last)",
            "\u001b[0;32m/usr/local/lib/python3.7/dist-packages/rpy2/ipython/rmagic.py\u001b[0m in \u001b[0;36meval\u001b[0;34m(self, code)\u001b[0m\n\u001b[1;32m    267\u001b[0m                 \u001b[0;31m# Need the newline in case the last line in code is a comment.\u001b[0m\u001b[0;34m\u001b[0m\u001b[0;34m\u001b[0m\u001b[0;34m\u001b[0m\u001b[0m\n\u001b[0;32m--> 268\u001b[0;31m                 \u001b[0mvalue\u001b[0m\u001b[0;34m,\u001b[0m \u001b[0mvisible\u001b[0m \u001b[0;34m=\u001b[0m \u001b[0mro\u001b[0m\u001b[0;34m.\u001b[0m\u001b[0mr\u001b[0m\u001b[0;34m(\u001b[0m\u001b[0;34m\"withVisible({%s\\n})\"\u001b[0m \u001b[0;34m%\u001b[0m \u001b[0mcode\u001b[0m\u001b[0;34m)\u001b[0m\u001b[0;34m\u001b[0m\u001b[0;34m\u001b[0m\u001b[0m\n\u001b[0m\u001b[1;32m    269\u001b[0m             \u001b[0;32mexcept\u001b[0m \u001b[0;34m(\u001b[0m\u001b[0mri\u001b[0m\u001b[0;34m.\u001b[0m\u001b[0membedded\u001b[0m\u001b[0;34m.\u001b[0m\u001b[0mRRuntimeError\u001b[0m\u001b[0;34m,\u001b[0m \u001b[0mValueError\u001b[0m\u001b[0;34m)\u001b[0m \u001b[0;32mas\u001b[0m \u001b[0mexception\u001b[0m\u001b[0;34m:\u001b[0m\u001b[0;34m\u001b[0m\u001b[0;34m\u001b[0m\u001b[0m\n",
            "\u001b[0;32m/usr/local/lib/python3.7/dist-packages/rpy2/robjects/__init__.py\u001b[0m in \u001b[0;36m__call__\u001b[0;34m(self, string)\u001b[0m\n\u001b[1;32m    437\u001b[0m         \u001b[0mp\u001b[0m \u001b[0;34m=\u001b[0m \u001b[0mrinterface\u001b[0m\u001b[0;34m.\u001b[0m\u001b[0mparse\u001b[0m\u001b[0;34m(\u001b[0m\u001b[0mstring\u001b[0m\u001b[0;34m)\u001b[0m\u001b[0;34m\u001b[0m\u001b[0;34m\u001b[0m\u001b[0m\n\u001b[0;32m--> 438\u001b[0;31m         \u001b[0mres\u001b[0m \u001b[0;34m=\u001b[0m \u001b[0mself\u001b[0m\u001b[0;34m.\u001b[0m\u001b[0meval\u001b[0m\u001b[0;34m(\u001b[0m\u001b[0mp\u001b[0m\u001b[0;34m)\u001b[0m\u001b[0;34m\u001b[0m\u001b[0;34m\u001b[0m\u001b[0m\n\u001b[0m\u001b[1;32m    439\u001b[0m         \u001b[0;32mreturn\u001b[0m \u001b[0mconversion\u001b[0m\u001b[0;34m.\u001b[0m\u001b[0mrpy2py\u001b[0m\u001b[0;34m(\u001b[0m\u001b[0mres\u001b[0m\u001b[0;34m)\u001b[0m\u001b[0;34m\u001b[0m\u001b[0;34m\u001b[0m\u001b[0m\n",
            "\u001b[0;32m/usr/local/lib/python3.7/dist-packages/rpy2/robjects/functions.py\u001b[0m in \u001b[0;36m__call__\u001b[0;34m(self, *args, **kwargs)\u001b[0m\n\u001b[1;32m    198\u001b[0m         return (super(SignatureTranslatedFunction, self)\n\u001b[0;32m--> 199\u001b[0;31m                 .__call__(*args, **kwargs))\n\u001b[0m\u001b[1;32m    200\u001b[0m \u001b[0;34m\u001b[0m\u001b[0m\n",
            "\u001b[0;32m/usr/local/lib/python3.7/dist-packages/rpy2/robjects/functions.py\u001b[0m in \u001b[0;36m__call__\u001b[0;34m(self, *args, **kwargs)\u001b[0m\n\u001b[1;32m    124\u001b[0m                 \u001b[0mnew_kwargs\u001b[0m\u001b[0;34m[\u001b[0m\u001b[0mk\u001b[0m\u001b[0;34m]\u001b[0m \u001b[0;34m=\u001b[0m \u001b[0mconversion\u001b[0m\u001b[0;34m.\u001b[0m\u001b[0mpy2rpy\u001b[0m\u001b[0;34m(\u001b[0m\u001b[0mv\u001b[0m\u001b[0;34m)\u001b[0m\u001b[0;34m\u001b[0m\u001b[0;34m\u001b[0m\u001b[0m\n\u001b[0;32m--> 125\u001b[0;31m         \u001b[0mres\u001b[0m \u001b[0;34m=\u001b[0m \u001b[0msuper\u001b[0m\u001b[0;34m(\u001b[0m\u001b[0mFunction\u001b[0m\u001b[0;34m,\u001b[0m \u001b[0mself\u001b[0m\u001b[0;34m)\u001b[0m\u001b[0;34m.\u001b[0m\u001b[0m__call__\u001b[0m\u001b[0;34m(\u001b[0m\u001b[0;34m*\u001b[0m\u001b[0mnew_args\u001b[0m\u001b[0;34m,\u001b[0m \u001b[0;34m**\u001b[0m\u001b[0mnew_kwargs\u001b[0m\u001b[0;34m)\u001b[0m\u001b[0;34m\u001b[0m\u001b[0;34m\u001b[0m\u001b[0m\n\u001b[0m\u001b[1;32m    126\u001b[0m         \u001b[0mres\u001b[0m \u001b[0;34m=\u001b[0m \u001b[0mconversion\u001b[0m\u001b[0;34m.\u001b[0m\u001b[0mrpy2py\u001b[0m\u001b[0;34m(\u001b[0m\u001b[0mres\u001b[0m\u001b[0;34m)\u001b[0m\u001b[0;34m\u001b[0m\u001b[0;34m\u001b[0m\u001b[0m\n",
            "\u001b[0;32m/usr/local/lib/python3.7/dist-packages/rpy2/rinterface_lib/conversion.py\u001b[0m in \u001b[0;36m_\u001b[0;34m(*args, **kwargs)\u001b[0m\n\u001b[1;32m     44\u001b[0m     \u001b[0;32mdef\u001b[0m \u001b[0m_\u001b[0m\u001b[0;34m(\u001b[0m\u001b[0;34m*\u001b[0m\u001b[0margs\u001b[0m\u001b[0;34m,\u001b[0m \u001b[0;34m**\u001b[0m\u001b[0mkwargs\u001b[0m\u001b[0;34m)\u001b[0m\u001b[0;34m:\u001b[0m\u001b[0;34m\u001b[0m\u001b[0;34m\u001b[0m\u001b[0m\n\u001b[0;32m---> 45\u001b[0;31m         \u001b[0mcdata\u001b[0m \u001b[0;34m=\u001b[0m \u001b[0mfunction\u001b[0m\u001b[0;34m(\u001b[0m\u001b[0;34m*\u001b[0m\u001b[0margs\u001b[0m\u001b[0;34m,\u001b[0m \u001b[0;34m**\u001b[0m\u001b[0mkwargs\u001b[0m\u001b[0;34m)\u001b[0m\u001b[0;34m\u001b[0m\u001b[0;34m\u001b[0m\u001b[0m\n\u001b[0m\u001b[1;32m     46\u001b[0m         \u001b[0;31m# TODO: test cdata is of the expected CType\u001b[0m\u001b[0;34m\u001b[0m\u001b[0;34m\u001b[0m\u001b[0;34m\u001b[0m\u001b[0m\n",
            "\u001b[0;32m/usr/local/lib/python3.7/dist-packages/rpy2/rinterface.py\u001b[0m in \u001b[0;36m__call__\u001b[0;34m(self, *args, **kwargs)\u001b[0m\n\u001b[1;32m    679\u001b[0m             \u001b[0;32mif\u001b[0m \u001b[0merror_occured\u001b[0m\u001b[0;34m[\u001b[0m\u001b[0;36m0\u001b[0m\u001b[0;34m]\u001b[0m\u001b[0;34m:\u001b[0m\u001b[0;34m\u001b[0m\u001b[0;34m\u001b[0m\u001b[0m\n\u001b[0;32m--> 680\u001b[0;31m                 \u001b[0;32mraise\u001b[0m \u001b[0membedded\u001b[0m\u001b[0;34m.\u001b[0m\u001b[0mRRuntimeError\u001b[0m\u001b[0;34m(\u001b[0m\u001b[0m_rinterface\u001b[0m\u001b[0;34m.\u001b[0m\u001b[0m_geterrmessage\u001b[0m\u001b[0;34m(\u001b[0m\u001b[0;34m)\u001b[0m\u001b[0;34m)\u001b[0m\u001b[0;34m\u001b[0m\u001b[0;34m\u001b[0m\u001b[0m\n\u001b[0m\u001b[1;32m    681\u001b[0m         \u001b[0;32mreturn\u001b[0m \u001b[0mres\u001b[0m\u001b[0;34m\u001b[0m\u001b[0;34m\u001b[0m\u001b[0m\n",
            "\u001b[0;31mRRuntimeError\u001b[0m: Error in file(file, \"rt\") : cannot open the connection\n",
            "\nDuring handling of the above exception, another exception occurred:\n",
            "\u001b[0;31mRInterpreterError\u001b[0m                         Traceback (most recent call last)",
            "\u001b[0;32m<ipython-input-9-c65579beffb8>\u001b[0m in \u001b[0;36m<module>\u001b[0;34m\u001b[0m\n\u001b[0;32m----> 1\u001b[0;31m \u001b[0mget_ipython\u001b[0m\u001b[0;34m(\u001b[0m\u001b[0;34m)\u001b[0m\u001b[0;34m.\u001b[0m\u001b[0mrun_cell_magic\u001b[0m\u001b[0;34m(\u001b[0m\u001b[0;34m'R'\u001b[0m\u001b[0;34m,\u001b[0m \u001b[0;34m''\u001b[0m\u001b[0;34m,\u001b[0m \u001b[0;34m\"library(dplyr)\\nartists <- read.csv('./data/Artists.csv')\\n\\n(artists %>%\\n  select(BeginDate, \\n         DisplayName, \\n         Nationality) %>%\\n  filter(BeginDate > 0) %>%\\n  head) -> output\\noutput\\n\"\u001b[0m\u001b[0;34m)\u001b[0m\u001b[0;34m\u001b[0m\u001b[0;34m\u001b[0m\u001b[0m\n\u001b[0m",
            "\u001b[0;32m/usr/local/lib/python3.7/dist-packages/IPython/core/interactiveshell.py\u001b[0m in \u001b[0;36mrun_cell_magic\u001b[0;34m(self, magic_name, line, cell)\u001b[0m\n\u001b[1;32m   2357\u001b[0m             \u001b[0;32mwith\u001b[0m \u001b[0mself\u001b[0m\u001b[0;34m.\u001b[0m\u001b[0mbuiltin_trap\u001b[0m\u001b[0;34m:\u001b[0m\u001b[0;34m\u001b[0m\u001b[0;34m\u001b[0m\u001b[0m\n\u001b[1;32m   2358\u001b[0m                 \u001b[0margs\u001b[0m \u001b[0;34m=\u001b[0m \u001b[0;34m(\u001b[0m\u001b[0mmagic_arg_s\u001b[0m\u001b[0;34m,\u001b[0m \u001b[0mcell\u001b[0m\u001b[0;34m)\u001b[0m\u001b[0;34m\u001b[0m\u001b[0;34m\u001b[0m\u001b[0m\n\u001b[0;32m-> 2359\u001b[0;31m                 \u001b[0mresult\u001b[0m \u001b[0;34m=\u001b[0m \u001b[0mfn\u001b[0m\u001b[0;34m(\u001b[0m\u001b[0;34m*\u001b[0m\u001b[0margs\u001b[0m\u001b[0;34m,\u001b[0m \u001b[0;34m**\u001b[0m\u001b[0mkwargs\u001b[0m\u001b[0;34m)\u001b[0m\u001b[0;34m\u001b[0m\u001b[0;34m\u001b[0m\u001b[0m\n\u001b[0m\u001b[1;32m   2360\u001b[0m             \u001b[0;32mreturn\u001b[0m \u001b[0mresult\u001b[0m\u001b[0;34m\u001b[0m\u001b[0;34m\u001b[0m\u001b[0m\n\u001b[1;32m   2361\u001b[0m \u001b[0;34m\u001b[0m\u001b[0m\n",
            "\u001b[0;32m<decorator-gen-122>\u001b[0m in \u001b[0;36mR\u001b[0;34m(self, line, cell, local_ns)\u001b[0m\n",
            "\u001b[0;32m/usr/local/lib/python3.7/dist-packages/IPython/core/magic.py\u001b[0m in \u001b[0;36m<lambda>\u001b[0;34m(f, *a, **k)\u001b[0m\n\u001b[1;32m    185\u001b[0m     \u001b[0;31m# but it's overkill for just that one bit of state.\u001b[0m\u001b[0;34m\u001b[0m\u001b[0;34m\u001b[0m\u001b[0;34m\u001b[0m\u001b[0m\n\u001b[1;32m    186\u001b[0m     \u001b[0;32mdef\u001b[0m \u001b[0mmagic_deco\u001b[0m\u001b[0;34m(\u001b[0m\u001b[0marg\u001b[0m\u001b[0;34m)\u001b[0m\u001b[0;34m:\u001b[0m\u001b[0;34m\u001b[0m\u001b[0;34m\u001b[0m\u001b[0m\n\u001b[0;32m--> 187\u001b[0;31m         \u001b[0mcall\u001b[0m \u001b[0;34m=\u001b[0m \u001b[0;32mlambda\u001b[0m \u001b[0mf\u001b[0m\u001b[0;34m,\u001b[0m \u001b[0;34m*\u001b[0m\u001b[0ma\u001b[0m\u001b[0;34m,\u001b[0m \u001b[0;34m**\u001b[0m\u001b[0mk\u001b[0m\u001b[0;34m:\u001b[0m \u001b[0mf\u001b[0m\u001b[0;34m(\u001b[0m\u001b[0;34m*\u001b[0m\u001b[0ma\u001b[0m\u001b[0;34m,\u001b[0m \u001b[0;34m**\u001b[0m\u001b[0mk\u001b[0m\u001b[0;34m)\u001b[0m\u001b[0;34m\u001b[0m\u001b[0;34m\u001b[0m\u001b[0m\n\u001b[0m\u001b[1;32m    188\u001b[0m \u001b[0;34m\u001b[0m\u001b[0m\n\u001b[1;32m    189\u001b[0m         \u001b[0;32mif\u001b[0m \u001b[0mcallable\u001b[0m\u001b[0;34m(\u001b[0m\u001b[0marg\u001b[0m\u001b[0;34m)\u001b[0m\u001b[0;34m:\u001b[0m\u001b[0;34m\u001b[0m\u001b[0;34m\u001b[0m\u001b[0m\n",
            "\u001b[0;32m/usr/local/lib/python3.7/dist-packages/rpy2/ipython/rmagic.py\u001b[0m in \u001b[0;36mR\u001b[0;34m(self, line, cell, local_ns)\u001b[0m\n\u001b[1;32m    781\u001b[0m             \u001b[0;32mif\u001b[0m \u001b[0;32mnot\u001b[0m \u001b[0me\u001b[0m\u001b[0;34m.\u001b[0m\u001b[0mstdout\u001b[0m\u001b[0;34m.\u001b[0m\u001b[0mendswith\u001b[0m\u001b[0;34m(\u001b[0m\u001b[0me\u001b[0m\u001b[0;34m.\u001b[0m\u001b[0merr\u001b[0m\u001b[0;34m)\u001b[0m\u001b[0;34m:\u001b[0m\u001b[0;34m\u001b[0m\u001b[0;34m\u001b[0m\u001b[0m\n\u001b[1;32m    782\u001b[0m                 \u001b[0mprint\u001b[0m\u001b[0;34m(\u001b[0m\u001b[0me\u001b[0m\u001b[0;34m.\u001b[0m\u001b[0merr\u001b[0m\u001b[0;34m)\u001b[0m\u001b[0;34m\u001b[0m\u001b[0;34m\u001b[0m\u001b[0m\n\u001b[0;32m--> 783\u001b[0;31m             \u001b[0;32mraise\u001b[0m \u001b[0me\u001b[0m\u001b[0;34m\u001b[0m\u001b[0;34m\u001b[0m\u001b[0m\n\u001b[0m\u001b[1;32m    784\u001b[0m         \u001b[0;32mfinally\u001b[0m\u001b[0;34m:\u001b[0m\u001b[0;34m\u001b[0m\u001b[0;34m\u001b[0m\u001b[0m\n\u001b[1;32m    785\u001b[0m             \u001b[0;32mif\u001b[0m \u001b[0mself\u001b[0m\u001b[0;34m.\u001b[0m\u001b[0mdevice\u001b[0m \u001b[0;32min\u001b[0m \u001b[0;34m[\u001b[0m\u001b[0;34m'png'\u001b[0m\u001b[0;34m,\u001b[0m \u001b[0;34m'svg'\u001b[0m\u001b[0;34m]\u001b[0m\u001b[0;34m:\u001b[0m\u001b[0;34m\u001b[0m\u001b[0;34m\u001b[0m\u001b[0m\n",
            "\u001b[0;32m/usr/local/lib/python3.7/dist-packages/rpy2/ipython/rmagic.py\u001b[0m in \u001b[0;36mR\u001b[0;34m(self, line, cell, local_ns)\u001b[0m\n\u001b[1;32m    761\u001b[0m                     \u001b[0mreturn_output\u001b[0m \u001b[0;34m=\u001b[0m \u001b[0;32mFalse\u001b[0m\u001b[0;34m\u001b[0m\u001b[0;34m\u001b[0m\u001b[0m\n\u001b[1;32m    762\u001b[0m             \u001b[0;32melse\u001b[0m\u001b[0;34m:\u001b[0m\u001b[0;34m\u001b[0m\u001b[0;34m\u001b[0m\u001b[0m\n\u001b[0;32m--> 763\u001b[0;31m                 \u001b[0mtext_result\u001b[0m\u001b[0;34m,\u001b[0m \u001b[0mresult\u001b[0m\u001b[0;34m,\u001b[0m \u001b[0mvisible\u001b[0m \u001b[0;34m=\u001b[0m \u001b[0mself\u001b[0m\u001b[0;34m.\u001b[0m\u001b[0meval\u001b[0m\u001b[0;34m(\u001b[0m\u001b[0mcode\u001b[0m\u001b[0;34m)\u001b[0m\u001b[0;34m\u001b[0m\u001b[0;34m\u001b[0m\u001b[0m\n\u001b[0m\u001b[1;32m    764\u001b[0m                 \u001b[0mtext_output\u001b[0m \u001b[0;34m+=\u001b[0m \u001b[0mtext_result\u001b[0m\u001b[0;34m\u001b[0m\u001b[0;34m\u001b[0m\u001b[0m\n\u001b[1;32m    765\u001b[0m                 \u001b[0;32mif\u001b[0m \u001b[0mvisible\u001b[0m\u001b[0;34m:\u001b[0m\u001b[0;34m\u001b[0m\u001b[0;34m\u001b[0m\u001b[0m\n",
            "\u001b[0;32m/usr/local/lib/python3.7/dist-packages/rpy2/ipython/rmagic.py\u001b[0m in \u001b[0;36meval\u001b[0;34m(self, code)\u001b[0m\n\u001b[1;32m    271\u001b[0m                 \u001b[0mwarning_or_other_msg\u001b[0m \u001b[0;34m=\u001b[0m \u001b[0mself\u001b[0m\u001b[0;34m.\u001b[0m\u001b[0mflush\u001b[0m\u001b[0;34m(\u001b[0m\u001b[0;34m)\u001b[0m\u001b[0;34m\u001b[0m\u001b[0;34m\u001b[0m\u001b[0m\n\u001b[1;32m    272\u001b[0m                 raise RInterpreterError(code, str(exception),\n\u001b[0;32m--> 273\u001b[0;31m                                         warning_or_other_msg)\n\u001b[0m\u001b[1;32m    274\u001b[0m             \u001b[0mtext_output\u001b[0m \u001b[0;34m=\u001b[0m \u001b[0mself\u001b[0m\u001b[0;34m.\u001b[0m\u001b[0mflush\u001b[0m\u001b[0;34m(\u001b[0m\u001b[0;34m)\u001b[0m\u001b[0;34m\u001b[0m\u001b[0;34m\u001b[0m\u001b[0m\n\u001b[1;32m    275\u001b[0m             \u001b[0;32mreturn\u001b[0m \u001b[0mtext_output\u001b[0m\u001b[0;34m,\u001b[0m \u001b[0mvalue\u001b[0m\u001b[0;34m,\u001b[0m \u001b[0mvisible\u001b[0m\u001b[0;34m[\u001b[0m\u001b[0;36m0\u001b[0m\u001b[0;34m]\u001b[0m\u001b[0;34m\u001b[0m\u001b[0;34m\u001b[0m\u001b[0m\n",
            "\u001b[0;31mRInterpreterError\u001b[0m: Failed to parse and evaluate line \"library(dplyr)\\nartists <- read.csv('./data/Artists.csv')\\n\\n(artists %>%\\n  select(BeginDate, \\n         DisplayName, \\n         Nationality) %>%\\n  filter(BeginDate > 0) %>%\\n  head) -> output\\noutput\\n\".\nR error message: 'Error in file(file, \"rt\") : cannot open the connection'"
          ]
        }
      ],
      "source": [
        "%%R \n",
        "library(dplyr)\n",
        "artists <- read.csv('./data/Artists.csv')\n",
        "\n",
        "(artists %>%\n",
        "  select(BeginDate, \n",
        "         DisplayName, \n",
        "         Nationality) %>%\n",
        "  filter(BeginDate > 0) %>%\n",
        "  head) -> output\n",
        "output"
      ]
    },
    {
      "cell_type": "markdown",
      "metadata": {
        "id": "YS9MKbVBcyyw"
      },
      "source": [
        "## What makes `dplyr` so great?\n",
        "\n",
        "* Focus on data verbs\n",
        "* Pipes lead to code that is\n",
        "    * More readable\n",
        "    * Easy to compose and debug"
      ]
    },
    {
      "cell_type": "markdown",
      "metadata": {
        "id": "a2ce7gmmcyyw"
      },
      "source": [
        "## Set up\n",
        "\n",
        "Let's read in a data set in each of the three frameworks"
      ]
    },
    {
      "cell_type": "code",
      "execution_count": 2,
      "metadata": {
        "colab": {
          "base_uri": "https://localhost:8080/",
          "height": 206
        },
        "id": "LXyobuM2cyyx",
        "outputId": "a77029d8-17a5-4dec-c2db-5860cb9da83e"
      },
      "outputs": [
        {
          "data": {
            "text/html": [
              "<div>\n",
              "<style scoped>\n",
              "    .dataframe tbody tr th:only-of-type {\n",
              "        vertical-align: middle;\n",
              "    }\n",
              "\n",
              "    .dataframe tbody tr th {\n",
              "        vertical-align: top;\n",
              "    }\n",
              "\n",
              "    .dataframe thead th {\n",
              "        text-align: right;\n",
              "    }\n",
              "</style>\n",
              "<table border=\"1\" class=\"dataframe\">\n",
              "  <thead>\n",
              "    <tr style=\"text-align: right;\">\n",
              "      <th></th>\n",
              "      <th>Unnamed: 0</th>\n",
              "      <th>name</th>\n",
              "      <th>Gender</th>\n",
              "      <th>Eye color</th>\n",
              "      <th>Race</th>\n",
              "      <th>Hair color</th>\n",
              "      <th>Height</th>\n",
              "      <th>Publisher</th>\n",
              "      <th>Skin color</th>\n",
              "      <th>Alignment</th>\n",
              "      <th>Weight</th>\n",
              "    </tr>\n",
              "  </thead>\n",
              "  <tbody>\n",
              "    <tr>\n",
              "      <th>0</th>\n",
              "      <td>0</td>\n",
              "      <td>A-Bomb</td>\n",
              "      <td>Male</td>\n",
              "      <td>yellow</td>\n",
              "      <td>Human</td>\n",
              "      <td>No Hair</td>\n",
              "      <td>203.0</td>\n",
              "      <td>Marvel Comics</td>\n",
              "      <td>-</td>\n",
              "      <td>good</td>\n",
              "      <td>441.0</td>\n",
              "    </tr>\n",
              "    <tr>\n",
              "      <th>1</th>\n",
              "      <td>1</td>\n",
              "      <td>Abe Sapien</td>\n",
              "      <td>Male</td>\n",
              "      <td>blue</td>\n",
              "      <td>Icthyo Sapien</td>\n",
              "      <td>No Hair</td>\n",
              "      <td>191.0</td>\n",
              "      <td>Dark Horse Comics</td>\n",
              "      <td>blue</td>\n",
              "      <td>good</td>\n",
              "      <td>65.0</td>\n",
              "    </tr>\n",
              "    <tr>\n",
              "      <th>2</th>\n",
              "      <td>2</td>\n",
              "      <td>Abin Sur</td>\n",
              "      <td>Male</td>\n",
              "      <td>blue</td>\n",
              "      <td>Ungaran</td>\n",
              "      <td>No Hair</td>\n",
              "      <td>185.0</td>\n",
              "      <td>DC Comics</td>\n",
              "      <td>red</td>\n",
              "      <td>good</td>\n",
              "      <td>90.0</td>\n",
              "    </tr>\n",
              "    <tr>\n",
              "      <th>3</th>\n",
              "      <td>3</td>\n",
              "      <td>Abomination</td>\n",
              "      <td>Male</td>\n",
              "      <td>green</td>\n",
              "      <td>Human / Radiation</td>\n",
              "      <td>No Hair</td>\n",
              "      <td>203.0</td>\n",
              "      <td>Marvel Comics</td>\n",
              "      <td>-</td>\n",
              "      <td>bad</td>\n",
              "      <td>441.0</td>\n",
              "    </tr>\n",
              "    <tr>\n",
              "      <th>4</th>\n",
              "      <td>4</td>\n",
              "      <td>Abraxas</td>\n",
              "      <td>Male</td>\n",
              "      <td>blue</td>\n",
              "      <td>Cosmic Entity</td>\n",
              "      <td>Black</td>\n",
              "      <td>-99.0</td>\n",
              "      <td>Marvel Comics</td>\n",
              "      <td>-</td>\n",
              "      <td>bad</td>\n",
              "      <td>-99.0</td>\n",
              "    </tr>\n",
              "  </tbody>\n",
              "</table>\n",
              "</div>"
            ],
            "text/plain": [
              "   Unnamed: 0         name Gender Eye color               Race Hair color  \\\n",
              "0           0       A-Bomb   Male    yellow              Human    No Hair   \n",
              "1           1   Abe Sapien   Male      blue      Icthyo Sapien    No Hair   \n",
              "2           2     Abin Sur   Male      blue            Ungaran    No Hair   \n",
              "3           3  Abomination   Male     green  Human / Radiation    No Hair   \n",
              "4           4      Abraxas   Male      blue      Cosmic Entity      Black   \n",
              "\n",
              "   Height          Publisher Skin color Alignment  Weight  \n",
              "0   203.0      Marvel Comics          -      good   441.0  \n",
              "1   191.0  Dark Horse Comics       blue      good    65.0  \n",
              "2   185.0          DC Comics        red      good    90.0  \n",
              "3   203.0      Marvel Comics          -       bad   441.0  \n",
              "4   -99.0      Marvel Comics          -       bad   -99.0  "
            ]
          },
          "execution_count": 2,
          "metadata": {},
          "output_type": "execute_result"
        }
      ],
      "source": [
        "import pandas as pd\n",
        "from dfply import *\n",
        "heroes = pd.read_csv('https://raw.githubusercontent.com/mclellanw00/module2_intro_to_pandas/main/data/heroes_information.csv')\n",
        "heroes.head()"
      ]
    },
    {
      "cell_type": "code",
      "execution_count": 3,
      "metadata": {
        "colab": {
          "base_uri": "https://localhost:8080/"
        },
        "id": "knhPKiDfe5LF",
        "outputId": "453f6d9f-6fb3-4349-ece7-58d3d9317799"
      },
      "outputs": [
        {
          "data": {
            "text/plain": [
              "Unnamed: 0      int64\n",
              "name           object\n",
              "Gender         object\n",
              "Eye color      object\n",
              "Race           object\n",
              "Hair color     object\n",
              "Height        float64\n",
              "Publisher      object\n",
              "Skin color     object\n",
              "Alignment      object\n",
              "Weight        float64\n",
              "dtype: object"
            ]
          },
          "execution_count": 3,
          "metadata": {},
          "output_type": "execute_result"
        }
      ],
      "source": [
        "heroes.dtypes"
      ]
    },
    {
      "cell_type": "markdown",
      "metadata": {
        "id": "fivdZ8Qwcyyx"
      },
      "source": [
        "## Selecting Columns\n",
        "\n",
        "<img src=\"https://github.com/mclellanw00/module2_intro_to_pandas/blob/main/img/select.png?raw=1\">\n",
        "\n",
        "The first verb, `select` \n",
        "\n",
        "* filters the *columns*\n",
        "* At the core of `SQL` statements"
      ]
    },
    {
      "cell_type": "markdown",
      "metadata": {
        "id": "aTutddWCcyyx"
      },
      "source": [
        "## How to select\n",
        " pipe (`>>`) into `select` and use `X.column_name` or `X['column name']`"
      ]
    },
    {
      "cell_type": "code",
      "execution_count": 4,
      "metadata": {
        "colab": {
          "base_uri": "https://localhost:8080/",
          "height": 206
        },
        "id": "VUjDhcsVcyyx",
        "outputId": "c52cbd6b-4b17-4103-910a-94f19ae0e5b6"
      },
      "outputs": [
        {
          "data": {
            "text/html": [
              "<div>\n",
              "<style scoped>\n",
              "    .dataframe tbody tr th:only-of-type {\n",
              "        vertical-align: middle;\n",
              "    }\n",
              "\n",
              "    .dataframe tbody tr th {\n",
              "        vertical-align: top;\n",
              "    }\n",
              "\n",
              "    .dataframe thead th {\n",
              "        text-align: right;\n",
              "    }\n",
              "</style>\n",
              "<table border=\"1\" class=\"dataframe\">\n",
              "  <thead>\n",
              "    <tr style=\"text-align: right;\">\n",
              "      <th></th>\n",
              "      <th>name</th>\n",
              "      <th>Gender</th>\n",
              "      <th>Eye color</th>\n",
              "    </tr>\n",
              "  </thead>\n",
              "  <tbody>\n",
              "    <tr>\n",
              "      <th>0</th>\n",
              "      <td>A-Bomb</td>\n",
              "      <td>Male</td>\n",
              "      <td>yellow</td>\n",
              "    </tr>\n",
              "    <tr>\n",
              "      <th>1</th>\n",
              "      <td>Abe Sapien</td>\n",
              "      <td>Male</td>\n",
              "      <td>blue</td>\n",
              "    </tr>\n",
              "    <tr>\n",
              "      <th>2</th>\n",
              "      <td>Abin Sur</td>\n",
              "      <td>Male</td>\n",
              "      <td>blue</td>\n",
              "    </tr>\n",
              "    <tr>\n",
              "      <th>3</th>\n",
              "      <td>Abomination</td>\n",
              "      <td>Male</td>\n",
              "      <td>green</td>\n",
              "    </tr>\n",
              "    <tr>\n",
              "      <th>4</th>\n",
              "      <td>Abraxas</td>\n",
              "      <td>Male</td>\n",
              "      <td>blue</td>\n",
              "    </tr>\n",
              "  </tbody>\n",
              "</table>\n",
              "</div>"
            ],
            "text/plain": [
              "          name Gender Eye color\n",
              "0       A-Bomb   Male    yellow\n",
              "1   Abe Sapien   Male      blue\n",
              "2     Abin Sur   Male      blue\n",
              "3  Abomination   Male     green\n",
              "4      Abraxas   Male      blue"
            ]
          },
          "execution_count": 4,
          "metadata": {},
          "output_type": "execute_result"
        }
      ],
      "source": [
        "(heroes\n",
        " >> select(X.name, \n",
        "           X['Gender'],\n",
        "           'Eye color'\n",
        "          )\n",
        " >> head\n",
        ")"
      ]
    },
    {
      "cell_type": "markdown",
      "metadata": {
        "id": "pCbG6ve5cyyy"
      },
      "source": [
        "## Filtering Rows\n",
        "\n",
        "<img src=\"https://github.com/mclellanw00/module2_intro_to_pandas/blob/main/img/filter.png?raw=1\">\n",
        "\n",
        "The next verb, `filter` \n",
        "\n",
        "* filters the *rows*\n",
        "* is related to the `SQL` `WHERE` clause"
      ]
    },
    {
      "cell_type": "markdown",
      "metadata": {
        "id": "sMfXAkvkcyyy"
      },
      "source": [
        "## How to filter\n",
        "\n",
        "* pipe (`>>`) into `filter_by` \n",
        "* First argument is a boolean expression\n",
        "* Reference columns with `X.column_name` or `X['column name']`"
      ]
    },
    {
      "cell_type": "code",
      "execution_count": 5,
      "metadata": {
        "colab": {
          "base_uri": "https://localhost:8080/",
          "height": 206
        },
        "id": "SSNIADUicyyy",
        "outputId": "95801a85-4be9-45f5-d966-ac877c0e8729"
      },
      "outputs": [
        {
          "data": {
            "text/html": [
              "<div>\n",
              "<style scoped>\n",
              "    .dataframe tbody tr th:only-of-type {\n",
              "        vertical-align: middle;\n",
              "    }\n",
              "\n",
              "    .dataframe tbody tr th {\n",
              "        vertical-align: top;\n",
              "    }\n",
              "\n",
              "    .dataframe thead th {\n",
              "        text-align: right;\n",
              "    }\n",
              "</style>\n",
              "<table border=\"1\" class=\"dataframe\">\n",
              "  <thead>\n",
              "    <tr style=\"text-align: right;\">\n",
              "      <th></th>\n",
              "      <th>Unnamed: 0</th>\n",
              "      <th>name</th>\n",
              "      <th>Gender</th>\n",
              "      <th>Eye color</th>\n",
              "      <th>Race</th>\n",
              "      <th>Hair color</th>\n",
              "      <th>Height</th>\n",
              "      <th>Publisher</th>\n",
              "      <th>Skin color</th>\n",
              "      <th>Alignment</th>\n",
              "      <th>Weight</th>\n",
              "    </tr>\n",
              "  </thead>\n",
              "  <tbody>\n",
              "    <tr>\n",
              "      <th>0</th>\n",
              "      <td>0</td>\n",
              "      <td>A-Bomb</td>\n",
              "      <td>Male</td>\n",
              "      <td>yellow</td>\n",
              "      <td>Human</td>\n",
              "      <td>No Hair</td>\n",
              "      <td>203.0</td>\n",
              "      <td>Marvel Comics</td>\n",
              "      <td>-</td>\n",
              "      <td>good</td>\n",
              "      <td>441.0</td>\n",
              "    </tr>\n",
              "    <tr>\n",
              "      <th>1</th>\n",
              "      <td>1</td>\n",
              "      <td>Abe Sapien</td>\n",
              "      <td>Male</td>\n",
              "      <td>blue</td>\n",
              "      <td>Icthyo Sapien</td>\n",
              "      <td>No Hair</td>\n",
              "      <td>191.0</td>\n",
              "      <td>Dark Horse Comics</td>\n",
              "      <td>blue</td>\n",
              "      <td>good</td>\n",
              "      <td>65.0</td>\n",
              "    </tr>\n",
              "    <tr>\n",
              "      <th>2</th>\n",
              "      <td>2</td>\n",
              "      <td>Abin Sur</td>\n",
              "      <td>Male</td>\n",
              "      <td>blue</td>\n",
              "      <td>Ungaran</td>\n",
              "      <td>No Hair</td>\n",
              "      <td>185.0</td>\n",
              "      <td>DC Comics</td>\n",
              "      <td>red</td>\n",
              "      <td>good</td>\n",
              "      <td>90.0</td>\n",
              "    </tr>\n",
              "    <tr>\n",
              "      <th>3</th>\n",
              "      <td>3</td>\n",
              "      <td>Abomination</td>\n",
              "      <td>Male</td>\n",
              "      <td>green</td>\n",
              "      <td>Human / Radiation</td>\n",
              "      <td>No Hair</td>\n",
              "      <td>203.0</td>\n",
              "      <td>Marvel Comics</td>\n",
              "      <td>-</td>\n",
              "      <td>bad</td>\n",
              "      <td>441.0</td>\n",
              "    </tr>\n",
              "    <tr>\n",
              "      <th>4</th>\n",
              "      <td>4</td>\n",
              "      <td>Abraxas</td>\n",
              "      <td>Male</td>\n",
              "      <td>blue</td>\n",
              "      <td>Cosmic Entity</td>\n",
              "      <td>Black</td>\n",
              "      <td>-99.0</td>\n",
              "      <td>Marvel Comics</td>\n",
              "      <td>-</td>\n",
              "      <td>bad</td>\n",
              "      <td>-99.0</td>\n",
              "    </tr>\n",
              "  </tbody>\n",
              "</table>\n",
              "</div>"
            ],
            "text/plain": [
              "   Unnamed: 0         name Gender Eye color               Race Hair color  \\\n",
              "0           0       A-Bomb   Male    yellow              Human    No Hair   \n",
              "1           1   Abe Sapien   Male      blue      Icthyo Sapien    No Hair   \n",
              "2           2     Abin Sur   Male      blue            Ungaran    No Hair   \n",
              "3           3  Abomination   Male     green  Human / Radiation    No Hair   \n",
              "4           4      Abraxas   Male      blue      Cosmic Entity      Black   \n",
              "\n",
              "   Height          Publisher Skin color Alignment  Weight  \n",
              "0   203.0      Marvel Comics          -      good   441.0  \n",
              "1   191.0  Dark Horse Comics       blue      good    65.0  \n",
              "2   185.0          DC Comics        red      good    90.0  \n",
              "3   203.0      Marvel Comics          -       bad   441.0  \n",
              "4   -99.0      Marvel Comics          -       bad   -99.0  "
            ]
          },
          "execution_count": 5,
          "metadata": {},
          "output_type": "execute_result"
        }
      ],
      "source": [
        "(heroes \n",
        " >> filter_by(X.Gender == 'Male') \n",
        " >> head\n",
        ")"
      ]
    },
    {
      "cell_type": "markdown",
      "metadata": {
        "id": "2kRQQ9SAcyyy"
      },
      "source": [
        "## Chaining Data Verbs\n",
        "\n",
        "* Processing df $\\rightarrow$ chaining data verbs\n",
        "* Accomplished through pipes/dot-chains"
      ]
    },
    {
      "cell_type": "markdown",
      "metadata": {
        "id": "V1STMnQLcyyy"
      },
      "source": [
        "## Example 1 - `select` + `filter`"
      ]
    },
    {
      "cell_type": "code",
      "execution_count": 6,
      "metadata": {
        "colab": {
          "base_uri": "https://localhost:8080/",
          "height": 206
        },
        "id": "0LKIE8Gxcyyy",
        "outputId": "c71c72b9-7f39-413c-ce29-6e5f778a3789"
      },
      "outputs": [
        {
          "data": {
            "text/html": [
              "<div>\n",
              "<style scoped>\n",
              "    .dataframe tbody tr th:only-of-type {\n",
              "        vertical-align: middle;\n",
              "    }\n",
              "\n",
              "    .dataframe tbody tr th {\n",
              "        vertical-align: top;\n",
              "    }\n",
              "\n",
              "    .dataframe thead th {\n",
              "        text-align: right;\n",
              "    }\n",
              "</style>\n",
              "<table border=\"1\" class=\"dataframe\">\n",
              "  <thead>\n",
              "    <tr style=\"text-align: right;\">\n",
              "      <th></th>\n",
              "      <th>name</th>\n",
              "      <th>Gender</th>\n",
              "      <th>Weight</th>\n",
              "    </tr>\n",
              "  </thead>\n",
              "  <tbody>\n",
              "    <tr>\n",
              "      <th>0</th>\n",
              "      <td>A-Bomb</td>\n",
              "      <td>Male</td>\n",
              "      <td>441.0</td>\n",
              "    </tr>\n",
              "    <tr>\n",
              "      <th>1</th>\n",
              "      <td>Abe Sapien</td>\n",
              "      <td>Male</td>\n",
              "      <td>65.0</td>\n",
              "    </tr>\n",
              "    <tr>\n",
              "      <th>2</th>\n",
              "      <td>Abin Sur</td>\n",
              "      <td>Male</td>\n",
              "      <td>90.0</td>\n",
              "    </tr>\n",
              "    <tr>\n",
              "      <th>3</th>\n",
              "      <td>Abomination</td>\n",
              "      <td>Male</td>\n",
              "      <td>441.0</td>\n",
              "    </tr>\n",
              "    <tr>\n",
              "      <th>4</th>\n",
              "      <td>Abraxas</td>\n",
              "      <td>Male</td>\n",
              "      <td>-99.0</td>\n",
              "    </tr>\n",
              "  </tbody>\n",
              "</table>\n",
              "</div>"
            ],
            "text/plain": [
              "          name Gender  Weight\n",
              "0       A-Bomb   Male   441.0\n",
              "1   Abe Sapien   Male    65.0\n",
              "2     Abin Sur   Male    90.0\n",
              "3  Abomination   Male   441.0\n",
              "4      Abraxas   Male   -99.0"
            ]
          },
          "execution_count": 6,
          "metadata": {},
          "output_type": "execute_result"
        }
      ],
      "source": [
        "(heroes \n",
        " >> filter_by(X.Gender == 'Male') \n",
        " >> select(X.name, X.Gender, X.Weight) \n",
        " >> head\n",
        ")"
      ]
    },
    {
      "cell_type": "markdown",
      "metadata": {
        "id": "c8iAz6oJcyyz"
      },
      "source": [
        "## Example 2 - `filter` + `filter`\n",
        "\n",
        "Note that chaining `filter`s is an `and` operation."
      ]
    },
    {
      "cell_type": "markdown",
      "metadata": {
        "id": "r1Y_RxnIcyyz"
      },
      "source": [
        "####  `pandas` + `dfply`"
      ]
    },
    {
      "cell_type": "code",
      "execution_count": 7,
      "metadata": {
        "colab": {
          "base_uri": "https://localhost:8080/",
          "height": 206
        },
        "id": "gCS0663Jcyyz",
        "outputId": "2ce5922c-49bc-4c95-b839-dc30ae3016ad"
      },
      "outputs": [
        {
          "data": {
            "text/html": [
              "<div>\n",
              "<style scoped>\n",
              "    .dataframe tbody tr th:only-of-type {\n",
              "        vertical-align: middle;\n",
              "    }\n",
              "\n",
              "    .dataframe tbody tr th {\n",
              "        vertical-align: top;\n",
              "    }\n",
              "\n",
              "    .dataframe thead th {\n",
              "        text-align: right;\n",
              "    }\n",
              "</style>\n",
              "<table border=\"1\" class=\"dataframe\">\n",
              "  <thead>\n",
              "    <tr style=\"text-align: right;\">\n",
              "      <th></th>\n",
              "      <th>name</th>\n",
              "      <th>Gender</th>\n",
              "      <th>Weight</th>\n",
              "    </tr>\n",
              "  </thead>\n",
              "  <tbody>\n",
              "    <tr>\n",
              "      <th>0</th>\n",
              "      <td>A-Bomb</td>\n",
              "      <td>Male</td>\n",
              "      <td>441.0</td>\n",
              "    </tr>\n",
              "    <tr>\n",
              "      <th>1</th>\n",
              "      <td>Abe Sapien</td>\n",
              "      <td>Male</td>\n",
              "      <td>65.0</td>\n",
              "    </tr>\n",
              "    <tr>\n",
              "      <th>2</th>\n",
              "      <td>Abin Sur</td>\n",
              "      <td>Male</td>\n",
              "      <td>90.0</td>\n",
              "    </tr>\n",
              "    <tr>\n",
              "      <th>3</th>\n",
              "      <td>Abomination</td>\n",
              "      <td>Male</td>\n",
              "      <td>441.0</td>\n",
              "    </tr>\n",
              "    <tr>\n",
              "      <th>5</th>\n",
              "      <td>Absorbing Man</td>\n",
              "      <td>Male</td>\n",
              "      <td>122.0</td>\n",
              "    </tr>\n",
              "  </tbody>\n",
              "</table>\n",
              "</div>"
            ],
            "text/plain": [
              "            name Gender  Weight\n",
              "0         A-Bomb   Male   441.0\n",
              "1     Abe Sapien   Male    65.0\n",
              "2       Abin Sur   Male    90.0\n",
              "3    Abomination   Male   441.0\n",
              "5  Absorbing Man   Male   122.0"
            ]
          },
          "execution_count": 7,
          "metadata": {},
          "output_type": "execute_result"
        }
      ],
      "source": [
        "(heroes >>\n",
        "   select(X.name, X.Gender, X.Weight) >>\n",
        "   filter_by(X.Gender == 'Male') >>\n",
        "   filter_by(X.Weight > 0) >>\n",
        "   head)"
      ]
    },
    {
      "cell_type": "markdown",
      "metadata": {
        "id": "H6ZJ96kkcyyz"
      },
      "source": [
        "## <font color=\"red\"> Exercise 2.2.1: Blue-eyed Heroes </font>\n",
        "\n",
        "Create a query that\n",
        "\n",
        "1. Selects the name, Gender, and Eye Color columns\n",
        "2. Filters on eye_color == 'blue'"
      ]
    },
    {
      "cell_type": "code",
      "execution_count": 8,
      "metadata": {
        "colab": {
          "base_uri": "https://localhost:8080/",
          "height": 206
        },
        "id": "P3i_N59Wcyyz",
        "outputId": "339ac73a-2abd-4eb0-991a-9c80eb2cf320"
      },
      "outputs": [
        {
          "data": {
            "text/html": [
              "<div>\n",
              "<style scoped>\n",
              "    .dataframe tbody tr th:only-of-type {\n",
              "        vertical-align: middle;\n",
              "    }\n",
              "\n",
              "    .dataframe tbody tr th {\n",
              "        vertical-align: top;\n",
              "    }\n",
              "\n",
              "    .dataframe thead th {\n",
              "        text-align: right;\n",
              "    }\n",
              "</style>\n",
              "<table border=\"1\" class=\"dataframe\">\n",
              "  <thead>\n",
              "    <tr style=\"text-align: right;\">\n",
              "      <th></th>\n",
              "      <th>name</th>\n",
              "      <th>Gender</th>\n",
              "      <th>Eye color</th>\n",
              "    </tr>\n",
              "  </thead>\n",
              "  <tbody>\n",
              "    <tr>\n",
              "      <th>1</th>\n",
              "      <td>Abe Sapien</td>\n",
              "      <td>Male</td>\n",
              "      <td>blue</td>\n",
              "    </tr>\n",
              "    <tr>\n",
              "      <th>2</th>\n",
              "      <td>Abin Sur</td>\n",
              "      <td>Male</td>\n",
              "      <td>blue</td>\n",
              "    </tr>\n",
              "    <tr>\n",
              "      <th>4</th>\n",
              "      <td>Abraxas</td>\n",
              "      <td>Male</td>\n",
              "      <td>blue</td>\n",
              "    </tr>\n",
              "    <tr>\n",
              "      <th>5</th>\n",
              "      <td>Absorbing Man</td>\n",
              "      <td>Male</td>\n",
              "      <td>blue</td>\n",
              "    </tr>\n",
              "    <tr>\n",
              "      <th>6</th>\n",
              "      <td>Adam Monroe</td>\n",
              "      <td>Male</td>\n",
              "      <td>blue</td>\n",
              "    </tr>\n",
              "  </tbody>\n",
              "</table>\n",
              "</div>"
            ],
            "text/plain": [
              "            name Gender Eye color\n",
              "1     Abe Sapien   Male      blue\n",
              "2       Abin Sur   Male      blue\n",
              "4        Abraxas   Male      blue\n",
              "5  Absorbing Man   Male      blue\n",
              "6    Adam Monroe   Male      blue"
            ]
          },
          "execution_count": 8,
          "metadata": {},
          "output_type": "execute_result"
        }
      ],
      "source": [
        "(heroes >>\n",
        "   select(X.name, X.Gender, X['Eye color']) >>\n",
        "   filter_by(X['Eye color'] == 'blue') >>\n",
        "   head)\n"
      ]
    },
    {
      "cell_type": "markdown",
      "metadata": {
        "id": "pOrRpYJXcyyz"
      },
      "source": [
        "## Constructing New Columns\n",
        "\n",
        "The third verb, `mutate` \n",
        "\n",
        "* Creates new columns\n",
        "* Changes existing columns"
      ]
    },
    {
      "cell_type": "markdown",
      "metadata": {
        "id": "Rbb6xGRfcyy0"
      },
      "source": [
        "## How to mutate\n",
        "\n",
        "*  pipe (`>>`) into `mutate`\n",
        "* First argument is a transformational expression\n",
        "* Reference columns with `X.column_name` or `X['column name']`"
      ]
    },
    {
      "cell_type": "markdown",
      "metadata": {
        "id": "GEKEe6cPcyy0"
      },
      "source": [
        "## Example 3 - Converting Weight to kilograms\n",
        "\n",
        "Currently, the weight column is in pounds.  Let's convert to kilograms."
      ]
    },
    {
      "cell_type": "code",
      "execution_count": 9,
      "metadata": {
        "colab": {
          "base_uri": "https://localhost:8080/",
          "height": 206
        },
        "id": "3KleMu4Qcyy0",
        "outputId": "2f610fcc-0217-4161-c92a-a5df88d7afa2"
      },
      "outputs": [
        {
          "data": {
            "text/html": [
              "<div>\n",
              "<style scoped>\n",
              "    .dataframe tbody tr th:only-of-type {\n",
              "        vertical-align: middle;\n",
              "    }\n",
              "\n",
              "    .dataframe tbody tr th {\n",
              "        vertical-align: top;\n",
              "    }\n",
              "\n",
              "    .dataframe thead th {\n",
              "        text-align: right;\n",
              "    }\n",
              "</style>\n",
              "<table border=\"1\" class=\"dataframe\">\n",
              "  <thead>\n",
              "    <tr style=\"text-align: right;\">\n",
              "      <th></th>\n",
              "      <th>name</th>\n",
              "      <th>Gender</th>\n",
              "      <th>Weight</th>\n",
              "      <th>Weight_kg</th>\n",
              "    </tr>\n",
              "  </thead>\n",
              "  <tbody>\n",
              "    <tr>\n",
              "      <th>0</th>\n",
              "      <td>A-Bomb</td>\n",
              "      <td>Male</td>\n",
              "      <td>441.0</td>\n",
              "      <td>200.036288</td>\n",
              "    </tr>\n",
              "    <tr>\n",
              "      <th>1</th>\n",
              "      <td>Abe Sapien</td>\n",
              "      <td>Male</td>\n",
              "      <td>65.0</td>\n",
              "      <td>29.483807</td>\n",
              "    </tr>\n",
              "    <tr>\n",
              "      <th>2</th>\n",
              "      <td>Abin Sur</td>\n",
              "      <td>Male</td>\n",
              "      <td>90.0</td>\n",
              "      <td>40.823732</td>\n",
              "    </tr>\n",
              "    <tr>\n",
              "      <th>3</th>\n",
              "      <td>Abomination</td>\n",
              "      <td>Male</td>\n",
              "      <td>441.0</td>\n",
              "      <td>200.036288</td>\n",
              "    </tr>\n",
              "    <tr>\n",
              "      <th>4</th>\n",
              "      <td>Abraxas</td>\n",
              "      <td>Male</td>\n",
              "      <td>-99.0</td>\n",
              "      <td>-44.906105</td>\n",
              "    </tr>\n",
              "  </tbody>\n",
              "</table>\n",
              "</div>"
            ],
            "text/plain": [
              "          name Gender  Weight   Weight_kg\n",
              "0       A-Bomb   Male   441.0  200.036288\n",
              "1   Abe Sapien   Male    65.0   29.483807\n",
              "2     Abin Sur   Male    90.0   40.823732\n",
              "3  Abomination   Male   441.0  200.036288\n",
              "4      Abraxas   Male   -99.0  -44.906105"
            ]
          },
          "execution_count": 9,
          "metadata": {},
          "output_type": "execute_result"
        }
      ],
      "source": [
        "(heroes \n",
        " >> select(X.name, \n",
        "           X.Gender, \n",
        "           X.Weight) \n",
        " >> mutate(Weight_kg = X.Weight/2.2046) \n",
        " >> head\n",
        ")"
      ]
    },
    {
      "cell_type": "markdown",
      "metadata": {
        "id": "h1CcDFfDcyy0"
      },
      "source": [
        "## Referencing a new column\n",
        "\n",
        "Each framework provides a way to reference a new column.\n",
        "\n",
        "* **Create:** Use `mutate(new_col = ...)`\n",
        "* **Later reference:** Use `X.new_col` or `X['new_col']`"
      ]
    },
    {
      "cell_type": "markdown",
      "metadata": {
        "id": "YWYMyDNqcyy0"
      },
      "source": [
        "## Example 4 - Converting Weight to kilograms and filter\n",
        "\n",
        "Let's find all heroes with a weight under 100kg."
      ]
    },
    {
      "cell_type": "code",
      "execution_count": 10,
      "metadata": {
        "colab": {
          "base_uri": "https://localhost:8080/",
          "height": 206
        },
        "id": "YqIxRj-4cyy0",
        "outputId": "05a6dc55-ebf5-4c06-b6f3-126098f3fb31"
      },
      "outputs": [
        {
          "data": {
            "text/html": [
              "<div>\n",
              "<style scoped>\n",
              "    .dataframe tbody tr th:only-of-type {\n",
              "        vertical-align: middle;\n",
              "    }\n",
              "\n",
              "    .dataframe tbody tr th {\n",
              "        vertical-align: top;\n",
              "    }\n",
              "\n",
              "    .dataframe thead th {\n",
              "        text-align: right;\n",
              "    }\n",
              "</style>\n",
              "<table border=\"1\" class=\"dataframe\">\n",
              "  <thead>\n",
              "    <tr style=\"text-align: right;\">\n",
              "      <th></th>\n",
              "      <th>name</th>\n",
              "      <th>Gender</th>\n",
              "      <th>Weight</th>\n",
              "      <th>Weight_kg</th>\n",
              "    </tr>\n",
              "  </thead>\n",
              "  <tbody>\n",
              "    <tr>\n",
              "      <th>1</th>\n",
              "      <td>Abe Sapien</td>\n",
              "      <td>Male</td>\n",
              "      <td>65.0</td>\n",
              "      <td>29.483807</td>\n",
              "    </tr>\n",
              "    <tr>\n",
              "      <th>2</th>\n",
              "      <td>Abin Sur</td>\n",
              "      <td>Male</td>\n",
              "      <td>90.0</td>\n",
              "      <td>40.823732</td>\n",
              "    </tr>\n",
              "    <tr>\n",
              "      <th>4</th>\n",
              "      <td>Abraxas</td>\n",
              "      <td>Male</td>\n",
              "      <td>-99.0</td>\n",
              "      <td>-44.906105</td>\n",
              "    </tr>\n",
              "    <tr>\n",
              "      <th>5</th>\n",
              "      <td>Absorbing Man</td>\n",
              "      <td>Male</td>\n",
              "      <td>122.0</td>\n",
              "      <td>55.338837</td>\n",
              "    </tr>\n",
              "    <tr>\n",
              "      <th>6</th>\n",
              "      <td>Adam Monroe</td>\n",
              "      <td>Male</td>\n",
              "      <td>-99.0</td>\n",
              "      <td>-44.906105</td>\n",
              "    </tr>\n",
              "  </tbody>\n",
              "</table>\n",
              "</div>"
            ],
            "text/plain": [
              "            name Gender  Weight  Weight_kg\n",
              "1     Abe Sapien   Male    65.0  29.483807\n",
              "2       Abin Sur   Male    90.0  40.823732\n",
              "4        Abraxas   Male   -99.0 -44.906105\n",
              "5  Absorbing Man   Male   122.0  55.338837\n",
              "6    Adam Monroe   Male   -99.0 -44.906105"
            ]
          },
          "execution_count": 10,
          "metadata": {},
          "output_type": "execute_result"
        }
      ],
      "source": [
        "(heroes \n",
        " >> select(X.name, X.Gender, X.Weight) \n",
        " >> mutate(Weight_kg = X.Weight/2.2046) \n",
        " >> filter_by(X.Weight_kg < 100) \n",
        " >> head\n",
        ")"
      ]
    },
    {
      "cell_type": "markdown",
      "metadata": {
        "id": "X0wR7qD7cyy0"
      },
      "source": [
        "## <font color=\"red\"> Exercise 2.2.2: Tall Heroes </font>\n",
        "\n",
        "Create a query that\n",
        "\n",
        "1. Selects the name, Gender, and Height columns\n",
        "2. Compute the height in inches.\n",
        "    * Check [here](https://www.kaggle.com/claudiodavi/superhero-set) to determine the current units.\n",
        "3. Filters on height_in > 72"
      ]
    },
    {
      "cell_type": "markdown",
      "metadata": {},
      "source": [
        "changes made"
      ]
    },
    {
      "cell_type": "code",
      "execution_count": 11,
      "metadata": {
        "colab": {
          "base_uri": "https://localhost:8080/",
          "height": 424
        },
        "id": "b2pxUTbacyy1",
        "outputId": "ef935731-8d7c-45ae-b99c-742e2ff66de3"
      },
      "outputs": [
        {
          "data": {
            "text/html": [
              "<div>\n",
              "<style scoped>\n",
              "    .dataframe tbody tr th:only-of-type {\n",
              "        vertical-align: middle;\n",
              "    }\n",
              "\n",
              "    .dataframe tbody tr th {\n",
              "        vertical-align: top;\n",
              "    }\n",
              "\n",
              "    .dataframe thead th {\n",
              "        text-align: right;\n",
              "    }\n",
              "</style>\n",
              "<table border=\"1\" class=\"dataframe\">\n",
              "  <thead>\n",
              "    <tr style=\"text-align: right;\">\n",
              "      <th></th>\n",
              "      <th>name</th>\n",
              "      <th>Gender</th>\n",
              "      <th>Height</th>\n",
              "      <th>height_in</th>\n",
              "    </tr>\n",
              "  </thead>\n",
              "  <tbody>\n",
              "    <tr>\n",
              "      <th>0</th>\n",
              "      <td>A-Bomb</td>\n",
              "      <td>Male</td>\n",
              "      <td>203.0</td>\n",
              "      <td>79.921260</td>\n",
              "    </tr>\n",
              "    <tr>\n",
              "      <th>1</th>\n",
              "      <td>Abe Sapien</td>\n",
              "      <td>Male</td>\n",
              "      <td>191.0</td>\n",
              "      <td>75.196850</td>\n",
              "    </tr>\n",
              "    <tr>\n",
              "      <th>2</th>\n",
              "      <td>Abin Sur</td>\n",
              "      <td>Male</td>\n",
              "      <td>185.0</td>\n",
              "      <td>72.834646</td>\n",
              "    </tr>\n",
              "    <tr>\n",
              "      <th>3</th>\n",
              "      <td>Abomination</td>\n",
              "      <td>Male</td>\n",
              "      <td>203.0</td>\n",
              "      <td>79.921260</td>\n",
              "    </tr>\n",
              "    <tr>\n",
              "      <th>5</th>\n",
              "      <td>Absorbing Man</td>\n",
              "      <td>Male</td>\n",
              "      <td>193.0</td>\n",
              "      <td>75.984252</td>\n",
              "    </tr>\n",
              "    <tr>\n",
              "      <th>...</th>\n",
              "      <td>...</td>\n",
              "      <td>...</td>\n",
              "      <td>...</td>\n",
              "      <td>...</td>\n",
              "    </tr>\n",
              "    <tr>\n",
              "      <th>724</th>\n",
              "      <td>Wyatt Wingfoot</td>\n",
              "      <td>Male</td>\n",
              "      <td>196.0</td>\n",
              "      <td>77.165354</td>\n",
              "    </tr>\n",
              "    <tr>\n",
              "      <th>727</th>\n",
              "      <td>Yellow Claw</td>\n",
              "      <td>Male</td>\n",
              "      <td>188.0</td>\n",
              "      <td>74.015748</td>\n",
              "    </tr>\n",
              "    <tr>\n",
              "      <th>728</th>\n",
              "      <td>Yellowjacket</td>\n",
              "      <td>Male</td>\n",
              "      <td>183.0</td>\n",
              "      <td>72.047244</td>\n",
              "    </tr>\n",
              "    <tr>\n",
              "      <th>730</th>\n",
              "      <td>Ymir</td>\n",
              "      <td>Male</td>\n",
              "      <td>304.8</td>\n",
              "      <td>120.000000</td>\n",
              "    </tr>\n",
              "    <tr>\n",
              "      <th>733</th>\n",
              "      <td>Zoom</td>\n",
              "      <td>Male</td>\n",
              "      <td>185.0</td>\n",
              "      <td>72.834646</td>\n",
              "    </tr>\n",
              "  </tbody>\n",
              "</table>\n",
              "<p>275 rows × 4 columns</p>\n",
              "</div>"
            ],
            "text/plain": [
              "               name Gender  Height   height_in\n",
              "0            A-Bomb   Male   203.0   79.921260\n",
              "1        Abe Sapien   Male   191.0   75.196850\n",
              "2          Abin Sur   Male   185.0   72.834646\n",
              "3       Abomination   Male   203.0   79.921260\n",
              "5     Absorbing Man   Male   193.0   75.984252\n",
              "..              ...    ...     ...         ...\n",
              "724  Wyatt Wingfoot   Male   196.0   77.165354\n",
              "727     Yellow Claw   Male   188.0   74.015748\n",
              "728    Yellowjacket   Male   183.0   72.047244\n",
              "730            Ymir   Male   304.8  120.000000\n",
              "733            Zoom   Male   185.0   72.834646\n",
              "\n",
              "[275 rows x 4 columns]"
            ]
          },
          "execution_count": 11,
          "metadata": {},
          "output_type": "execute_result"
        }
      ],
      "source": [
        "# Your code here\n",
        "\n",
        "(heroes >>\n",
        "   select(X['name'],\n",
        "            'Gender',\n",
        "            'Height')>>\n",
        "   mutate(height_in = X['Height']/2.54)>>\n",
        "   filter_by(X['height_in'] > 72))"
      ]
    },
    {
      "cell_type": "code",
      "execution_count": 12,
      "metadata": {
        "id": "B2ZD5gCnhOAW"
      },
      "outputs": [
        {
          "data": {
            "text/html": [
              "<div>\n",
              "<style scoped>\n",
              "    .dataframe tbody tr th:only-of-type {\n",
              "        vertical-align: middle;\n",
              "    }\n",
              "\n",
              "    .dataframe tbody tr th {\n",
              "        vertical-align: top;\n",
              "    }\n",
              "\n",
              "    .dataframe thead th {\n",
              "        text-align: right;\n",
              "    }\n",
              "</style>\n",
              "<table border=\"1\" class=\"dataframe\">\n",
              "  <thead>\n",
              "    <tr style=\"text-align: right;\">\n",
              "      <th></th>\n",
              "      <th>name</th>\n",
              "      <th>Gender</th>\n",
              "      <th>Height</th>\n",
              "      <th>height_in</th>\n",
              "    </tr>\n",
              "  </thead>\n",
              "  <tbody>\n",
              "    <tr>\n",
              "      <th>0</th>\n",
              "      <td>A-Bomb</td>\n",
              "      <td>Male</td>\n",
              "      <td>203.0</td>\n",
              "      <td>79.921260</td>\n",
              "    </tr>\n",
              "    <tr>\n",
              "      <th>1</th>\n",
              "      <td>Abe Sapien</td>\n",
              "      <td>Male</td>\n",
              "      <td>191.0</td>\n",
              "      <td>75.196850</td>\n",
              "    </tr>\n",
              "    <tr>\n",
              "      <th>2</th>\n",
              "      <td>Abin Sur</td>\n",
              "      <td>Male</td>\n",
              "      <td>185.0</td>\n",
              "      <td>72.834646</td>\n",
              "    </tr>\n",
              "    <tr>\n",
              "      <th>3</th>\n",
              "      <td>Abomination</td>\n",
              "      <td>Male</td>\n",
              "      <td>203.0</td>\n",
              "      <td>79.921260</td>\n",
              "    </tr>\n",
              "    <tr>\n",
              "      <th>5</th>\n",
              "      <td>Absorbing Man</td>\n",
              "      <td>Male</td>\n",
              "      <td>193.0</td>\n",
              "      <td>75.984252</td>\n",
              "    </tr>\n",
              "    <tr>\n",
              "      <th>...</th>\n",
              "      <td>...</td>\n",
              "      <td>...</td>\n",
              "      <td>...</td>\n",
              "      <td>...</td>\n",
              "    </tr>\n",
              "    <tr>\n",
              "      <th>728</th>\n",
              "      <td>Yellowjacket</td>\n",
              "      <td>Male</td>\n",
              "      <td>183.0</td>\n",
              "      <td>72.047244</td>\n",
              "    </tr>\n",
              "    <tr>\n",
              "      <th>729</th>\n",
              "      <td>Yellowjacket II</td>\n",
              "      <td>Female</td>\n",
              "      <td>165.0</td>\n",
              "      <td>64.960630</td>\n",
              "    </tr>\n",
              "    <tr>\n",
              "      <th>730</th>\n",
              "      <td>Ymir</td>\n",
              "      <td>Male</td>\n",
              "      <td>304.8</td>\n",
              "      <td>120.000000</td>\n",
              "    </tr>\n",
              "    <tr>\n",
              "      <th>732</th>\n",
              "      <td>Zatanna</td>\n",
              "      <td>Female</td>\n",
              "      <td>170.0</td>\n",
              "      <td>66.929134</td>\n",
              "    </tr>\n",
              "    <tr>\n",
              "      <th>733</th>\n",
              "      <td>Zoom</td>\n",
              "      <td>Male</td>\n",
              "      <td>185.0</td>\n",
              "      <td>72.834646</td>\n",
              "    </tr>\n",
              "  </tbody>\n",
              "</table>\n",
              "<p>501 rows × 4 columns</p>\n",
              "</div>"
            ],
            "text/plain": [
              "                name  Gender  Height   height_in\n",
              "0             A-Bomb    Male   203.0   79.921260\n",
              "1         Abe Sapien    Male   191.0   75.196850\n",
              "2           Abin Sur    Male   185.0   72.834646\n",
              "3        Abomination    Male   203.0   79.921260\n",
              "5      Absorbing Man    Male   193.0   75.984252\n",
              "..               ...     ...     ...         ...\n",
              "728     Yellowjacket    Male   183.0   72.047244\n",
              "729  Yellowjacket II  Female   165.0   64.960630\n",
              "730             Ymir    Male   304.8  120.000000\n",
              "732          Zatanna  Female   170.0   66.929134\n",
              "733             Zoom    Male   185.0   72.834646\n",
              "\n",
              "[501 rows x 4 columns]"
            ]
          },
          "execution_count": 12,
          "metadata": {},
          "output_type": "execute_result"
        }
      ],
      "source": [
        "(heroes >>\n",
        "   select(X['name'],\n",
        "            'Gender',\n",
        "            'Height')>>\n",
        "   mutate(height_in = X['Height']/2.54)>>\n",
        "   filter_by(X['height_in'] > 60))"
      ]
    },
    {
      "cell_type": "code",
      "execution_count": 21,
      "metadata": {},
      "outputs": [
        {
          "data": {
            "text/html": [
              "<div>\n",
              "<style scoped>\n",
              "    .dataframe tbody tr th:only-of-type {\n",
              "        vertical-align: middle;\n",
              "    }\n",
              "\n",
              "    .dataframe tbody tr th {\n",
              "        vertical-align: top;\n",
              "    }\n",
              "\n",
              "    .dataframe thead th {\n",
              "        text-align: right;\n",
              "    }\n",
              "</style>\n",
              "<table border=\"1\" class=\"dataframe\">\n",
              "  <thead>\n",
              "    <tr style=\"text-align: right;\">\n",
              "      <th></th>\n",
              "      <th>name</th>\n",
              "      <th>Height</th>\n",
              "      <th>Gender</th>\n",
              "    </tr>\n",
              "  </thead>\n",
              "  <tbody>\n",
              "    <tr>\n",
              "      <th>68</th>\n",
              "      <td>Batman</td>\n",
              "      <td>188.0</td>\n",
              "      <td>Male</td>\n",
              "    </tr>\n",
              "    <tr>\n",
              "      <th>69</th>\n",
              "      <td>Batman</td>\n",
              "      <td>178.0</td>\n",
              "      <td>Male</td>\n",
              "    </tr>\n",
              "  </tbody>\n",
              "</table>\n",
              "</div>"
            ],
            "text/plain": [
              "      name  Height Gender\n",
              "68  Batman   188.0   Male\n",
              "69  Batman   178.0   Male"
            ]
          },
          "execution_count": 21,
          "metadata": {},
          "output_type": "execute_result"
        }
      ],
      "source": [
        "(heroes >>\n",
        "   select(X['name'], X['Height'], X['Gender']) >>\n",
        "   filter_by(X['name']=='Batman'))"
      ]
    },
    {
      "cell_type": "code",
      "execution_count": null,
      "metadata": {},
      "outputs": [],
      "source": []
    }
  ],
  "metadata": {
    "celltoolbar": "Slideshow",
    "colab": {
      "include_colab_link": true,
      "provenance": []
    },
    "kernelspec": {
      "display_name": "Python 3.9.12 64-bit ('base')",
      "language": "python",
      "name": "python3"
    },
    "language_info": {
      "codemirror_mode": {
        "name": "ipython",
        "version": 3
      },
      "file_extension": ".py",
      "mimetype": "text/x-python",
      "name": "python",
      "nbconvert_exporter": "python",
      "pygments_lexer": "ipython3",
      "version": "3.9.12"
    },
    "varInspector": {
      "cols": {
        "lenName": 16,
        "lenType": 16,
        "lenVar": 40
      },
      "kernels_config": {
        "python": {
          "delete_cmd_postfix": "",
          "delete_cmd_prefix": "del ",
          "library": "var_list.py",
          "varRefreshCmd": "print(var_dic_list())"
        },
        "r": {
          "delete_cmd_postfix": ") ",
          "delete_cmd_prefix": "rm(",
          "library": "var_list.r",
          "varRefreshCmd": "cat(var_dic_list()) "
        }
      },
      "types_to_exclude": [
        "module",
        "function",
        "builtin_function_or_method",
        "instance",
        "_Feature"
      ],
      "window_display": false
    },
    "vscode": {
      "interpreter": {
        "hash": "14ab39836ad45f9872a4fbaf347177c599900dde8b629b89551b87d8978983f4"
      }
    }
  },
  "nbformat": 4,
  "nbformat_minor": 0
}
