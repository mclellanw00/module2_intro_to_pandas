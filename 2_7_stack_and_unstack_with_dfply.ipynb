{
 "cells": [
  {
   "cell_type": "markdown",
   "metadata": {
    "slideshow": {
     "slide_type": "slide"
    }
   },
   "source": [
    "# Stacking and unstacking data"
   ]
  },
  {
   "cell_type": "code",
   "execution_count": 1,
   "metadata": {
    "scrolled": true,
    "slideshow": {
     "slide_type": "fragment"
    }
   },
   "outputs": [],
   "source": [
    "import pandas as pd\n",
    "from dfply import *"
   ]
  },
  {
   "cell_type": "markdown",
   "metadata": {
    "slideshow": {
     "slide_type": "slide"
    }
   },
   "source": [
    "## Reshaping data\n",
    "\n",
    "Two ways\n",
    "\n",
    "* We can **stack** data into a *tall* format.\n",
    "* We can **unstack** data into a *long* format."
   ]
  },
  {
   "cell_type": "markdown",
   "metadata": {
    "slideshow": {
     "slide_type": "slide"
    }
   },
   "source": [
    "## (totally real and not at all made-up) Example - Quarterly Auto Sales\n",
    "\n",
    "**Note** the last four columns are\n",
    "\n",
    "* same measurements\n",
    "* same units"
   ]
  },
  {
   "cell_type": "code",
   "execution_count": 2,
   "metadata": {
    "slideshow": {
     "slide_type": "fragment"
    }
   },
   "outputs": [
    {
     "data": {
      "text/html": [
       "<div>\n",
       "<style scoped>\n",
       "    .dataframe tbody tr th:only-of-type {\n",
       "        vertical-align: middle;\n",
       "    }\n",
       "\n",
       "    .dataframe tbody tr th {\n",
       "        vertical-align: top;\n",
       "    }\n",
       "\n",
       "    .dataframe thead th {\n",
       "        text-align: right;\n",
       "    }\n",
       "</style>\n",
       "<table border=\"1\" class=\"dataframe\">\n",
       "  <thead>\n",
       "    <tr style=\"text-align: right;\">\n",
       "      <th></th>\n",
       "      <th>Salesperson</th>\n",
       "      <th>Compact</th>\n",
       "      <th>Sedan</th>\n",
       "      <th>SUV</th>\n",
       "      <th>Truck</th>\n",
       "    </tr>\n",
       "  </thead>\n",
       "  <tbody>\n",
       "    <tr>\n",
       "      <th>0</th>\n",
       "      <td>Ann</td>\n",
       "      <td>22</td>\n",
       "      <td>18</td>\n",
       "      <td>15.0</td>\n",
       "      <td>12</td>\n",
       "    </tr>\n",
       "    <tr>\n",
       "      <th>1</th>\n",
       "      <td>Bob</td>\n",
       "      <td>19</td>\n",
       "      <td>12</td>\n",
       "      <td>17.0</td>\n",
       "      <td>20</td>\n",
       "    </tr>\n",
       "    <tr>\n",
       "      <th>2</th>\n",
       "      <td>Doug</td>\n",
       "      <td>20</td>\n",
       "      <td>13</td>\n",
       "      <td>NaN</td>\n",
       "      <td>20</td>\n",
       "    </tr>\n",
       "    <tr>\n",
       "      <th>3</th>\n",
       "      <td>Yolanda</td>\n",
       "      <td>19</td>\n",
       "      <td>8</td>\n",
       "      <td>32.0</td>\n",
       "      <td>15</td>\n",
       "    </tr>\n",
       "    <tr>\n",
       "      <th>4</th>\n",
       "      <td>Xerxes</td>\n",
       "      <td>12</td>\n",
       "      <td>23</td>\n",
       "      <td>18.0</td>\n",
       "      <td>9</td>\n",
       "    </tr>\n",
       "  </tbody>\n",
       "</table>\n",
       "</div>"
      ],
      "text/plain": [
       "  Salesperson  Compact  Sedan   SUV  Truck\n",
       "0         Ann       22     18  15.0     12\n",
       "1         Bob       19     12  17.0     20\n",
       "2        Doug       20     13   NaN     20\n",
       "3     Yolanda       19      8  32.0     15\n",
       "4      Xerxes       12     23  18.0      9"
      ]
     },
     "execution_count": 2,
     "metadata": {},
     "output_type": "execute_result"
    }
   ],
   "source": [
    "sales = pd.read_csv(\"./data/auto_sales.csv\")\n",
    "sales"
   ]
  },
  {
   "cell_type": "markdown",
   "metadata": {
    "slideshow": {
     "slide_type": "slide"
    }
   },
   "source": [
    "## Stacking measurements of the same type/units\n",
    "\n",
    "<img src=\"./img/stack_in_action.gif\" width=600>\n",
    "\n",
    "We can fix issues with informative column labels by stacking the data with `gather`"
   ]
  },
  {
   "cell_type": "markdown",
   "metadata": {
    "slideshow": {
     "slide_type": "slide"
    }
   },
   "source": [
    "## A Stack by any other name ...\n",
    "\n",
    "The act of stacking similar columns goes by various names.\n",
    "\n",
    "* JMP and Minitab call this *stack*\n",
    "* `pandas` calls this *melt*\n",
    "* Wickham/`tidyr`/`dfply` call this *gather*\n",
    "\n",
    "I prefer **stack**, primarily because it makes it clear we are *melting*/*gathering* data vertically."
   ]
  },
  {
   "cell_type": "markdown",
   "metadata": {
    "slideshow": {
     "slide_type": "slide"
    }
   },
   "source": [
    "## Stacking data in `pandas` with `gather`\n",
    "\n",
    "Syntax: `gather(lbl_col_name, val_col_name, cols_to_stack)`"
   ]
  },
  {
   "cell_type": "code",
   "execution_count": 3,
   "metadata": {
    "slideshow": {
     "slide_type": "fragment"
    }
   },
   "outputs": [
    {
     "data": {
      "text/html": [
       "<div>\n",
       "<style scoped>\n",
       "    .dataframe tbody tr th:only-of-type {\n",
       "        vertical-align: middle;\n",
       "    }\n",
       "\n",
       "    .dataframe tbody tr th {\n",
       "        vertical-align: top;\n",
       "    }\n",
       "\n",
       "    .dataframe thead th {\n",
       "        text-align: right;\n",
       "    }\n",
       "</style>\n",
       "<table border=\"1\" class=\"dataframe\">\n",
       "  <thead>\n",
       "    <tr style=\"text-align: right;\">\n",
       "      <th></th>\n",
       "      <th>Salesperson</th>\n",
       "      <th>CarType</th>\n",
       "      <th>QrtSales</th>\n",
       "    </tr>\n",
       "  </thead>\n",
       "  <tbody>\n",
       "    <tr>\n",
       "      <th>0</th>\n",
       "      <td>Ann</td>\n",
       "      <td>Compact</td>\n",
       "      <td>22.0</td>\n",
       "    </tr>\n",
       "    <tr>\n",
       "      <th>1</th>\n",
       "      <td>Bob</td>\n",
       "      <td>Compact</td>\n",
       "      <td>19.0</td>\n",
       "    </tr>\n",
       "    <tr>\n",
       "      <th>2</th>\n",
       "      <td>Doug</td>\n",
       "      <td>Compact</td>\n",
       "      <td>20.0</td>\n",
       "    </tr>\n",
       "    <tr>\n",
       "      <th>3</th>\n",
       "      <td>Yolanda</td>\n",
       "      <td>Compact</td>\n",
       "      <td>19.0</td>\n",
       "    </tr>\n",
       "    <tr>\n",
       "      <th>4</th>\n",
       "      <td>Xerxes</td>\n",
       "      <td>Compact</td>\n",
       "      <td>12.0</td>\n",
       "    </tr>\n",
       "  </tbody>\n",
       "</table>\n",
       "</div>"
      ],
      "text/plain": [
       "  Salesperson  CarType  QrtSales\n",
       "0         Ann  Compact      22.0\n",
       "1         Bob  Compact      19.0\n",
       "2        Doug  Compact      20.0\n",
       "3     Yolanda  Compact      19.0\n",
       "4      Xerxes  Compact      12.0"
      ]
     },
     "execution_count": 3,
     "metadata": {},
     "output_type": "execute_result"
    }
   ],
   "source": [
    "sales_cols = ['Compact', 'Sedan', 'SUV', 'Truck']\n",
    "sales_stacked = (sales \n",
    "                 >> gather(\"CarType\",\"QrtSales\", sales_cols))\n",
    "sales_stacked >> head"
   ]
  },
  {
   "cell_type": "code",
   "execution_count": 4,
   "metadata": {
    "slideshow": {
     "slide_type": "fragment"
    }
   },
   "outputs": [
    {
     "data": {
      "text/html": [
       "<div>\n",
       "<style scoped>\n",
       "    .dataframe tbody tr th:only-of-type {\n",
       "        vertical-align: middle;\n",
       "    }\n",
       "\n",
       "    .dataframe tbody tr th {\n",
       "        vertical-align: top;\n",
       "    }\n",
       "\n",
       "    .dataframe thead th {\n",
       "        text-align: right;\n",
       "    }\n",
       "</style>\n",
       "<table border=\"1\" class=\"dataframe\">\n",
       "  <thead>\n",
       "    <tr style=\"text-align: right;\">\n",
       "      <th></th>\n",
       "      <th>CarType</th>\n",
       "      <th>QrtSales</th>\n",
       "    </tr>\n",
       "  </thead>\n",
       "  <tbody>\n",
       "    <tr>\n",
       "      <th>0</th>\n",
       "      <td>Salesperson</td>\n",
       "      <td>Ann</td>\n",
       "    </tr>\n",
       "    <tr>\n",
       "      <th>1</th>\n",
       "      <td>Salesperson</td>\n",
       "      <td>Bob</td>\n",
       "    </tr>\n",
       "    <tr>\n",
       "      <th>2</th>\n",
       "      <td>Salesperson</td>\n",
       "      <td>Doug</td>\n",
       "    </tr>\n",
       "    <tr>\n",
       "      <th>3</th>\n",
       "      <td>Salesperson</td>\n",
       "      <td>Yolanda</td>\n",
       "    </tr>\n",
       "    <tr>\n",
       "      <th>4</th>\n",
       "      <td>Salesperson</td>\n",
       "      <td>Xerxes</td>\n",
       "    </tr>\n",
       "  </tbody>\n",
       "</table>\n",
       "</div>"
      ],
      "text/plain": [
       "       CarType QrtSales\n",
       "0  Salesperson      Ann\n",
       "1  Salesperson      Bob\n",
       "2  Salesperson     Doug\n",
       "3  Salesperson  Yolanda\n",
       "4  Salesperson   Xerxes"
      ]
     },
     "execution_count": 4,
     "metadata": {},
     "output_type": "execute_result"
    }
   ],
   "source": [
    "sales_cols = ['Compact', 'Sedan', 'SUV', 'Truck']\n",
    "sales_stacked = (sales \n",
    "                 >> gather(\"CarType\",\"QrtSales\", columns_from(X['Salesperson']))\n",
    "                )\n",
    "sales_stacked >> head"
   ]
  },
  {
   "cell_type": "markdown",
   "metadata": {
    "slideshow": {
     "slide_type": "slide"
    }
   },
   "source": [
    "## Unstacking Data with `spread`\n",
    "\n",
    "Syntax: `spread(split_by_col, to_split_col)`"
   ]
  },
  {
   "cell_type": "code",
   "execution_count": 5,
   "metadata": {
    "scrolled": true,
    "slideshow": {
     "slide_type": "fragment"
    }
   },
   "outputs": [
    {
     "ename": "ValueError",
     "evalue": "Duplicate identifiers",
     "output_type": "error",
     "traceback": [
      "\u001b[0;31m---------------------------------------------------------------------------\u001b[0m",
      "\u001b[0;31mValueError\u001b[0m                                Traceback (most recent call last)",
      "\u001b[1;32m/home/wil/module2_intro_to_pandas/2_7_stack_and_unstack_with_dfply.ipynb Cell 12\u001b[0m in \u001b[0;36m<cell line: 1>\u001b[0;34m()\u001b[0m\n\u001b[0;32m----> <a href='vscode-notebook-cell://wsl%2Bubuntu-20.04/home/wil/module2_intro_to_pandas/2_7_stack_and_unstack_with_dfply.ipynb#X14sdnNjb2RlLXJlbW90ZQ%3D%3D?line=0'>1</a>\u001b[0m (sales_stacked\n\u001b[1;32m      <a href='vscode-notebook-cell://wsl%2Bubuntu-20.04/home/wil/module2_intro_to_pandas/2_7_stack_and_unstack_with_dfply.ipynb#X14sdnNjb2RlLXJlbW90ZQ%3D%3D?line=1'>2</a>\u001b[0m  \u001b[39m>>\u001b[39;49m spread(X\u001b[39m.\u001b[39;49mCarType, X\u001b[39m.\u001b[39;49mQrtSales))\n",
      "File \u001b[0;32m~/.pyenv/versions/anaconda3-2022.05/lib/python3.9/site-packages/dfply/base.py:142\u001b[0m, in \u001b[0;36mpipe.__rrshift__\u001b[0;34m(self, other)\u001b[0m\n\u001b[1;32m    139\u001b[0m     warnings\u001b[39m.\u001b[39msimplefilter(\u001b[39m\"\u001b[39m\u001b[39mignore\u001b[39m\u001b[39m\"\u001b[39m)\n\u001b[1;32m    140\u001b[0m     other_copy\u001b[39m.\u001b[39m_grouped_by \u001b[39m=\u001b[39m \u001b[39mgetattr\u001b[39m(other, \u001b[39m'\u001b[39m\u001b[39m_grouped_by\u001b[39m\u001b[39m'\u001b[39m, \u001b[39mNone\u001b[39;00m)\n\u001b[0;32m--> 142\u001b[0m result \u001b[39m=\u001b[39m \u001b[39mself\u001b[39;49m\u001b[39m.\u001b[39;49mfunction(other_copy)\n\u001b[1;32m    144\u001b[0m \u001b[39mfor\u001b[39;00m p \u001b[39min\u001b[39;00m \u001b[39mself\u001b[39m\u001b[39m.\u001b[39mchained_pipes:\n\u001b[1;32m    145\u001b[0m     result \u001b[39m=\u001b[39m p\u001b[39m.\u001b[39m\u001b[39m__rrshift__\u001b[39m(result)\n",
      "File \u001b[0;32m~/.pyenv/versions/anaconda3-2022.05/lib/python3.9/site-packages/dfply/base.py:149\u001b[0m, in \u001b[0;36mpipe.__call__.<locals>.<lambda>\u001b[0;34m(x)\u001b[0m\n\u001b[1;32m    148\u001b[0m \u001b[39mdef\u001b[39;00m \u001b[39m__call__\u001b[39m(\u001b[39mself\u001b[39m, \u001b[39m*\u001b[39margs, \u001b[39m*\u001b[39m\u001b[39m*\u001b[39mkwargs):\n\u001b[0;32m--> 149\u001b[0m     \u001b[39mreturn\u001b[39;00m pipe(\u001b[39mlambda\u001b[39;00m x: \u001b[39mself\u001b[39;49m\u001b[39m.\u001b[39;49mfunction(x, \u001b[39m*\u001b[39;49margs, \u001b[39m*\u001b[39;49m\u001b[39m*\u001b[39;49mkwargs))\n",
      "File \u001b[0;32m~/.pyenv/versions/anaconda3-2022.05/lib/python3.9/site-packages/dfply/base.py:282\u001b[0m, in \u001b[0;36mIntentionEvaluator.__call__\u001b[0;34m(self, *args, **kwargs)\u001b[0m\n\u001b[1;32m    279\u001b[0m args \u001b[39m=\u001b[39m \u001b[39mself\u001b[39m\u001b[39m.\u001b[39m_recursive_arg_eval(df, args[\u001b[39m1\u001b[39m:])\n\u001b[1;32m    280\u001b[0m kwargs \u001b[39m=\u001b[39m \u001b[39mself\u001b[39m\u001b[39m.\u001b[39m_recursive_kwarg_eval(df, kwargs)\n\u001b[0;32m--> 282\u001b[0m \u001b[39mreturn\u001b[39;00m \u001b[39mself\u001b[39;49m\u001b[39m.\u001b[39;49mfunction(df, \u001b[39m*\u001b[39;49margs, \u001b[39m*\u001b[39;49m\u001b[39m*\u001b[39;49mkwargs)\n",
      "File \u001b[0;32m~/.pyenv/versions/anaconda3-2022.05/lib/python3.9/site-packages/dfply/reshape.py:188\u001b[0m, in \u001b[0;36mspread\u001b[0;34m(df, key, values, convert)\u001b[0m\n\u001b[1;32m    184\u001b[0m spread_data \u001b[39m=\u001b[39m out_df[[key, values]]\n\u001b[1;32m    186\u001b[0m \u001b[39mif\u001b[39;00m \u001b[39mnot\u001b[39;00m \u001b[39mall\u001b[39m(spread_data\u001b[39m.\u001b[39mgroupby([spread_data\u001b[39m.\u001b[39mindex, key])\u001b[39m.\u001b[39magg(\n\u001b[1;32m    187\u001b[0m         \u001b[39m'\u001b[39m\u001b[39mcount\u001b[39m\u001b[39m'\u001b[39m)\u001b[39m.\u001b[39mreset_index()[values] \u001b[39m<\u001b[39m \u001b[39m2\u001b[39m):\n\u001b[0;32m--> 188\u001b[0m     \u001b[39mraise\u001b[39;00m \u001b[39mValueError\u001b[39;00m(\u001b[39m'\u001b[39m\u001b[39mDuplicate identifiers\u001b[39m\u001b[39m'\u001b[39m)\n\u001b[1;32m    190\u001b[0m spread_data \u001b[39m=\u001b[39m spread_data\u001b[39m.\u001b[39mpivot(columns\u001b[39m=\u001b[39mkey, values\u001b[39m=\u001b[39mvalues)\n\u001b[1;32m    192\u001b[0m \u001b[39mif\u001b[39;00m convert \u001b[39mand\u001b[39;00m (out_df[values]\u001b[39m.\u001b[39mdtype\u001b[39m.\u001b[39mkind \u001b[39min\u001b[39;00m \u001b[39m'\u001b[39m\u001b[39mOSaU\u001b[39m\u001b[39m'\u001b[39m):\n",
      "\u001b[0;31mValueError\u001b[0m: Duplicate identifiers"
     ]
    }
   ],
   "source": [
    "(sales_stacked\n",
    " >> spread(X.CarType, X.QrtSales))"
   ]
  },
  {
   "cell_type": "markdown",
   "metadata": {
    "slideshow": {
     "slide_type": "slide"
    }
   },
   "source": [
    "## Safely working with `gather` and `spread`\n",
    "\n",
    "\n",
    "We were lucky the last example worked.  Note that \n",
    "\n",
    "* `spread` needs a unique column to work properly.  \n",
    "* `gather` will add a column by setting `add_id=True`"
   ]
  },
  {
   "cell_type": "code",
   "execution_count": 6,
   "metadata": {
    "slideshow": {
     "slide_type": "fragment"
    }
   },
   "outputs": [
    {
     "data": {
      "text/html": [
       "<div>\n",
       "<style scoped>\n",
       "    .dataframe tbody tr th:only-of-type {\n",
       "        vertical-align: middle;\n",
       "    }\n",
       "\n",
       "    .dataframe tbody tr th {\n",
       "        vertical-align: top;\n",
       "    }\n",
       "\n",
       "    .dataframe thead th {\n",
       "        text-align: right;\n",
       "    }\n",
       "</style>\n",
       "<table border=\"1\" class=\"dataframe\">\n",
       "  <thead>\n",
       "    <tr style=\"text-align: right;\">\n",
       "      <th></th>\n",
       "      <th>Salesperson</th>\n",
       "      <th>_ID</th>\n",
       "      <th>CarType</th>\n",
       "      <th>QrtSales</th>\n",
       "    </tr>\n",
       "  </thead>\n",
       "  <tbody>\n",
       "    <tr>\n",
       "      <th>0</th>\n",
       "      <td>Ann</td>\n",
       "      <td>0</td>\n",
       "      <td>Compact</td>\n",
       "      <td>22.0</td>\n",
       "    </tr>\n",
       "    <tr>\n",
       "      <th>1</th>\n",
       "      <td>Bob</td>\n",
       "      <td>1</td>\n",
       "      <td>Compact</td>\n",
       "      <td>19.0</td>\n",
       "    </tr>\n",
       "  </tbody>\n",
       "</table>\n",
       "</div>"
      ],
      "text/plain": [
       "  Salesperson  _ID  CarType  QrtSales\n",
       "0         Ann    0  Compact      22.0\n",
       "1         Bob    1  Compact      19.0"
      ]
     },
     "execution_count": 6,
     "metadata": {},
     "output_type": "execute_result"
    }
   ],
   "source": [
    "sales_stacked = sales >> gather(\"CarType\",\"QrtSales\", sales_cols, add_id=True)\n",
    "sales_stacked >> head(2)"
   ]
  },
  {
   "cell_type": "code",
   "execution_count": 7,
   "metadata": {
    "slideshow": {
     "slide_type": "fragment"
    }
   },
   "outputs": [
    {
     "data": {
      "text/html": [
       "<div>\n",
       "<style scoped>\n",
       "    .dataframe tbody tr th:only-of-type {\n",
       "        vertical-align: middle;\n",
       "    }\n",
       "\n",
       "    .dataframe tbody tr th {\n",
       "        vertical-align: top;\n",
       "    }\n",
       "\n",
       "    .dataframe thead th {\n",
       "        text-align: right;\n",
       "    }\n",
       "</style>\n",
       "<table border=\"1\" class=\"dataframe\">\n",
       "  <thead>\n",
       "    <tr style=\"text-align: right;\">\n",
       "      <th></th>\n",
       "      <th>Salesperson</th>\n",
       "      <th>_ID</th>\n",
       "      <th>Compact</th>\n",
       "      <th>SUV</th>\n",
       "      <th>Sedan</th>\n",
       "      <th>Truck</th>\n",
       "    </tr>\n",
       "  </thead>\n",
       "  <tbody>\n",
       "    <tr>\n",
       "      <th>0</th>\n",
       "      <td>Ann</td>\n",
       "      <td>0</td>\n",
       "      <td>22.0</td>\n",
       "      <td>15.0</td>\n",
       "      <td>18.0</td>\n",
       "      <td>12.0</td>\n",
       "    </tr>\n",
       "    <tr>\n",
       "      <th>1</th>\n",
       "      <td>Bob</td>\n",
       "      <td>1</td>\n",
       "      <td>19.0</td>\n",
       "      <td>17.0</td>\n",
       "      <td>12.0</td>\n",
       "      <td>20.0</td>\n",
       "    </tr>\n",
       "  </tbody>\n",
       "</table>\n",
       "</div>"
      ],
      "text/plain": [
       "  Salesperson  _ID  Compact   SUV  Sedan  Truck\n",
       "0         Ann    0     22.0  15.0   18.0   12.0\n",
       "1         Bob    1     19.0  17.0   12.0   20.0"
      ]
     },
     "execution_count": 7,
     "metadata": {},
     "output_type": "execute_result"
    }
   ],
   "source": [
    "sales_stacked >> spread(X.CarType, X.QrtSales) >> head(2)"
   ]
  },
  {
   "cell_type": "markdown",
   "metadata": {
    "slideshow": {
     "slide_type": "slide"
    }
   },
   "source": [
    "## Why Stack?\n",
    "\n",
    "* Perform transformations on many columns.\n",
    "* Fix problems with the Golden Rule"
   ]
  },
  {
   "cell_type": "markdown",
   "metadata": {
    "slideshow": {
     "slide_type": "slide"
    }
   },
   "source": [
    "## Example - Switching Units on All Sales\n",
    "\n",
    "Suppose your manager wants these numbers in *monthly* sales.  You could\n",
    "\n",
    "1. Adjust each column with a separate formula\n",
    "2. Stack --> Transform once --> Unstack"
   ]
  },
  {
   "cell_type": "markdown",
   "metadata": {
    "slideshow": {
     "slide_type": "slide"
    }
   },
   "source": [
    "#### Method 1 - Column Transformations"
   ]
  },
  {
   "cell_type": "code",
   "execution_count": 8,
   "metadata": {
    "slideshow": {
     "slide_type": "fragment"
    }
   },
   "outputs": [
    {
     "data": {
      "text/html": [
       "<div>\n",
       "<style scoped>\n",
       "    .dataframe tbody tr th:only-of-type {\n",
       "        vertical-align: middle;\n",
       "    }\n",
       "\n",
       "    .dataframe tbody tr th {\n",
       "        vertical-align: top;\n",
       "    }\n",
       "\n",
       "    .dataframe thead th {\n",
       "        text-align: right;\n",
       "    }\n",
       "</style>\n",
       "<table border=\"1\" class=\"dataframe\">\n",
       "  <thead>\n",
       "    <tr style=\"text-align: right;\">\n",
       "      <th></th>\n",
       "      <th>Salesperson</th>\n",
       "      <th>Compact</th>\n",
       "      <th>Sedan</th>\n",
       "      <th>SUV</th>\n",
       "      <th>Truck</th>\n",
       "    </tr>\n",
       "  </thead>\n",
       "  <tbody>\n",
       "    <tr>\n",
       "      <th>0</th>\n",
       "      <td>Ann</td>\n",
       "      <td>7.333333</td>\n",
       "      <td>6.0</td>\n",
       "      <td>5.000000</td>\n",
       "      <td>4.000000</td>\n",
       "    </tr>\n",
       "    <tr>\n",
       "      <th>1</th>\n",
       "      <td>Bob</td>\n",
       "      <td>6.333333</td>\n",
       "      <td>4.0</td>\n",
       "      <td>5.666667</td>\n",
       "      <td>6.666667</td>\n",
       "    </tr>\n",
       "  </tbody>\n",
       "</table>\n",
       "</div>"
      ],
      "text/plain": [
       "  Salesperson   Compact  Sedan       SUV     Truck\n",
       "0         Ann  7.333333    6.0  5.000000  4.000000\n",
       "1         Bob  6.333333    4.0  5.666667  6.666667"
      ]
     },
     "execution_count": 8,
     "metadata": {},
     "output_type": "execute_result"
    }
   ],
   "source": [
    "(sales\n",
    " >> mutate(Compact = X.Compact/3,\n",
    "           SUV =   X.SUV/3,\n",
    "           Sedan = X.Sedan/3,\n",
    "           Truck = X.Truck/3)\n",
    " >> head(2))"
   ]
  },
  {
   "cell_type": "markdown",
   "metadata": {
    "slideshow": {
     "slide_type": "slide"
    }
   },
   "source": [
    "#### Method 2 - Stack-Transform-Unstack"
   ]
  },
  {
   "cell_type": "code",
   "execution_count": 9,
   "metadata": {
    "slideshow": {
     "slide_type": "fragment"
    }
   },
   "outputs": [
    {
     "data": {
      "text/html": [
       "<div>\n",
       "<style scoped>\n",
       "    .dataframe tbody tr th:only-of-type {\n",
       "        vertical-align: middle;\n",
       "    }\n",
       "\n",
       "    .dataframe tbody tr th {\n",
       "        vertical-align: top;\n",
       "    }\n",
       "\n",
       "    .dataframe thead th {\n",
       "        text-align: right;\n",
       "    }\n",
       "</style>\n",
       "<table border=\"1\" class=\"dataframe\">\n",
       "  <thead>\n",
       "    <tr style=\"text-align: right;\">\n",
       "      <th></th>\n",
       "      <th>Salesperson</th>\n",
       "      <th>Compact</th>\n",
       "      <th>SUV</th>\n",
       "      <th>Sedan</th>\n",
       "      <th>Truck</th>\n",
       "    </tr>\n",
       "  </thead>\n",
       "  <tbody>\n",
       "    <tr>\n",
       "      <th>0</th>\n",
       "      <td>Ann</td>\n",
       "      <td>7.333333</td>\n",
       "      <td>5.000000</td>\n",
       "      <td>6.0</td>\n",
       "      <td>4.000000</td>\n",
       "    </tr>\n",
       "    <tr>\n",
       "      <th>1</th>\n",
       "      <td>Bob</td>\n",
       "      <td>6.333333</td>\n",
       "      <td>5.666667</td>\n",
       "      <td>4.0</td>\n",
       "      <td>6.666667</td>\n",
       "    </tr>\n",
       "  </tbody>\n",
       "</table>\n",
       "</div>"
      ],
      "text/plain": [
       "  Salesperson   Compact       SUV  Sedan     Truck\n",
       "0         Ann  7.333333  5.000000    6.0  4.000000\n",
       "1         Bob  6.333333  5.666667    4.0  6.666667"
      ]
     },
     "execution_count": 9,
     "metadata": {},
     "output_type": "execute_result"
    }
   ],
   "source": [
    "(sales \n",
    " >> gather(\"CarType\",\"QrtSales\", sales_cols)\n",
    " >> mutate(MonSales = X.QrtSales/3)\n",
    " >> drop(X.QrtSales)\n",
    " >> spread(X.CarType, X.MonSales)\n",
    " >> head(2))"
   ]
  },
  {
   "cell_type": "markdown",
   "metadata": {
    "slideshow": {
     "slide_type": "slide"
    }
   },
   "source": [
    "## Comparing the two methods\n",
    "\n",
    "**Method 1:**\n",
    "* More straight forward\n",
    "* Lots of repeated code\n",
    "* Doesn't scale ... imagine 100+ columns\n",
    "\n",
    "**Method 2:**\n",
    "* More complicated\n",
    "* Scales well\n"
   ]
  },
  {
   "cell_type": "markdown",
   "metadata": {
    "slideshow": {
     "slide_type": "slide"
    }
   },
   "source": [
    "## <font color=\"red\"> Exercise 1 </font>\n",
    "    \n",
    "**Task:** Load the `health_survey.csv` data and use the Stack-Transform-Unstack trick to transform the responses to a Lickert scale where *Strongly Agree* mapped to 5 and *Strongly Disagree* mapped to 1\n"
   ]
  },
  {
   "cell_type": "code",
   "execution_count": 10,
   "metadata": {
    "slideshow": {
     "slide_type": "fragment"
    }
   },
   "outputs": [
    {
     "data": {
      "text/html": [
       "<div>\n",
       "<style scoped>\n",
       "    .dataframe tbody tr th:only-of-type {\n",
       "        vertical-align: middle;\n",
       "    }\n",
       "\n",
       "    .dataframe tbody tr th {\n",
       "        vertical-align: top;\n",
       "    }\n",
       "\n",
       "    .dataframe thead th {\n",
       "        text-align: right;\n",
       "    }\n",
       "</style>\n",
       "<table border=\"1\" class=\"dataframe\">\n",
       "  <thead>\n",
       "    <tr style=\"text-align: right;\">\n",
       "      <th></th>\n",
       "      <th>Unnamed: 0</th>\n",
       "      <th>F1</th>\n",
       "      <th>F5</th>\n",
       "      <th>F2</th>\n",
       "      <th>F1.1</th>\n",
       "      <th>F2.1</th>\n",
       "      <th>F6</th>\n",
       "      <th>F4</th>\n",
       "      <th>F3</th>\n",
       "      <th>F5.1</th>\n",
       "      <th>...</th>\n",
       "      <th>F2.9</th>\n",
       "      <th>F3.4</th>\n",
       "      <th>F4.3</th>\n",
       "      <th>F2.10</th>\n",
       "      <th>F1.7</th>\n",
       "      <th>F6.4</th>\n",
       "      <th>F4.4</th>\n",
       "      <th>F5.7</th>\n",
       "      <th>F3.5</th>\n",
       "      <th>F2.11</th>\n",
       "    </tr>\n",
       "  </thead>\n",
       "  <tbody>\n",
       "    <tr>\n",
       "      <th>0</th>\n",
       "      <td>1</td>\n",
       "      <td>Somewhat Agree</td>\n",
       "      <td>Somewhat Disagree</td>\n",
       "      <td>Somewhat Agree</td>\n",
       "      <td>Somewhat Agree</td>\n",
       "      <td>Somewhat Agree</td>\n",
       "      <td>Somewhat Disagree</td>\n",
       "      <td>Somewhat Agree</td>\n",
       "      <td>Somewhat Agree</td>\n",
       "      <td>Somewhat Agree</td>\n",
       "      <td>...</td>\n",
       "      <td>Somewhat Agree</td>\n",
       "      <td>Somewhat Disagree</td>\n",
       "      <td>Neither Agree nor Disagree</td>\n",
       "      <td>Somewhat Agree</td>\n",
       "      <td>Somewhat Agree</td>\n",
       "      <td>Somewhat Agree</td>\n",
       "      <td>Somewhat Agree</td>\n",
       "      <td>Somewhat Agree</td>\n",
       "      <td>Somewhat Agree</td>\n",
       "      <td>Somewhat Agree</td>\n",
       "    </tr>\n",
       "    <tr>\n",
       "      <th>1</th>\n",
       "      <td>2</td>\n",
       "      <td>Somewhat Agree</td>\n",
       "      <td>Somewhat Disagree</td>\n",
       "      <td>Somewhat Agree</td>\n",
       "      <td>Somewhat Agree</td>\n",
       "      <td>Somewhat Agree</td>\n",
       "      <td>Somewhat Disagree</td>\n",
       "      <td>Somewhat Agree</td>\n",
       "      <td>Neither Agree nor Disagree</td>\n",
       "      <td>Neither Agree nor Disagree</td>\n",
       "      <td>...</td>\n",
       "      <td>Somewhat Agree</td>\n",
       "      <td>Somewhat Agree</td>\n",
       "      <td>Neither Agree nor Disagree</td>\n",
       "      <td>Somewhat Agree</td>\n",
       "      <td>Somewhat Agree</td>\n",
       "      <td>Somewhat Disagree</td>\n",
       "      <td>Neither Agree nor Disagree</td>\n",
       "      <td>Somewhat Agree</td>\n",
       "      <td>Neither Agree nor Disagree</td>\n",
       "      <td>Somewhat Agree</td>\n",
       "    </tr>\n",
       "  </tbody>\n",
       "</table>\n",
       "<p>2 rows × 45 columns</p>\n",
       "</div>"
      ],
      "text/plain": [
       "   Unnamed: 0              F1                 F5              F2  \\\n",
       "0           1  Somewhat Agree  Somewhat Disagree  Somewhat Agree   \n",
       "1           2  Somewhat Agree  Somewhat Disagree  Somewhat Agree   \n",
       "\n",
       "             F1.1            F2.1                 F6              F4  \\\n",
       "0  Somewhat Agree  Somewhat Agree  Somewhat Disagree  Somewhat Agree   \n",
       "1  Somewhat Agree  Somewhat Agree  Somewhat Disagree  Somewhat Agree   \n",
       "\n",
       "                           F3                        F5.1  ...  \\\n",
       "0              Somewhat Agree              Somewhat Agree  ...   \n",
       "1  Neither Agree nor Disagree  Neither Agree nor Disagree  ...   \n",
       "\n",
       "             F2.9               F3.4                        F4.3  \\\n",
       "0  Somewhat Agree  Somewhat Disagree  Neither Agree nor Disagree   \n",
       "1  Somewhat Agree     Somewhat Agree  Neither Agree nor Disagree   \n",
       "\n",
       "            F2.10            F1.7               F6.4  \\\n",
       "0  Somewhat Agree  Somewhat Agree     Somewhat Agree   \n",
       "1  Somewhat Agree  Somewhat Agree  Somewhat Disagree   \n",
       "\n",
       "                         F4.4            F5.7                        F3.5  \\\n",
       "0              Somewhat Agree  Somewhat Agree              Somewhat Agree   \n",
       "1  Neither Agree nor Disagree  Somewhat Agree  Neither Agree nor Disagree   \n",
       "\n",
       "            F2.11  \n",
       "0  Somewhat Agree  \n",
       "1  Somewhat Agree  \n",
       "\n",
       "[2 rows x 45 columns]"
      ]
     },
     "execution_count": 10,
     "metadata": {},
     "output_type": "execute_result"
    }
   ],
   "source": [
    "survey = pd.read_csv(\"./data/health_survey.csv\")\n",
    "survey.head(2)"
   ]
  },
  {
   "cell_type": "code",
   "execution_count": 11,
   "metadata": {},
   "outputs": [],
   "source": [
    "from more_dfply import recode"
   ]
  },
  {
   "cell_type": "code",
   "execution_count": 28,
   "metadata": {},
   "outputs": [
    {
     "ename": "TypeError",
     "evalue": "slice indices must be integers or None or have an __index__ method",
     "output_type": "error",
     "traceback": [
      "\u001b[0;31m---------------------------------------------------------------------------\u001b[0m",
      "\u001b[0;31mTypeError\u001b[0m                                 Traceback (most recent call last)",
      "\u001b[1;32m/home/wil/module2_intro_to_pandas/2_7_stack_and_unstack_with_dfply.ipynb Cell 26\u001b[0m in \u001b[0;36m<cell line: 5>\u001b[0;34m()\u001b[0m\n\u001b[1;32m      <a href='vscode-notebook-cell://wsl%2Bubuntu-20.04/home/wil/module2_intro_to_pandas/2_7_stack_and_unstack_with_dfply.ipynb#X33sdnNjb2RlLXJlbW90ZQ%3D%3D?line=1'>2</a>\u001b[0m lickertscale \u001b[39m=\u001b[39m {\u001b[39m'\u001b[39m\u001b[39mStrongly Agree\u001b[39m\u001b[39m'\u001b[39m:\u001b[39m'\u001b[39m\u001b[39m5\u001b[39m\u001b[39m'\u001b[39m, \u001b[39m'\u001b[39m\u001b[39mSomewhat Agree\u001b[39m\u001b[39m'\u001b[39m:\u001b[39m'\u001b[39m\u001b[39m4\u001b[39m\u001b[39m'\u001b[39m, \u001b[39m'\u001b[39m\u001b[39mNeither Agree nor Disagree\u001b[39m\u001b[39m'\u001b[39m:\u001b[39m'\u001b[39m\u001b[39m3\u001b[39m\u001b[39m'\u001b[39m, \u001b[39m'\u001b[39m\u001b[39mSomewhat Disagree\u001b[39m\u001b[39m'\u001b[39m:\u001b[39m'\u001b[39m\u001b[39m2\u001b[39m\u001b[39m'\u001b[39m, \u001b[39m'\u001b[39m\u001b[39mStrongly Disagree\u001b[39m\u001b[39m'\u001b[39m:\u001b[39m'\u001b[39m\u001b[39m1\u001b[39m\u001b[39m'\u001b[39m}\n\u001b[1;32m      <a href='vscode-notebook-cell://wsl%2Bubuntu-20.04/home/wil/module2_intro_to_pandas/2_7_stack_and_unstack_with_dfply.ipynb#X33sdnNjb2RlLXJlbW90ZQ%3D%3D?line=2'>3</a>\u001b[0m agreement_scale \u001b[39m=\u001b[39m [\u001b[39m'\u001b[39m\u001b[39mStrongly Agree\u001b[39m\u001b[39m'\u001b[39m, \u001b[39m'\u001b[39m\u001b[39mSomewhat Agree\u001b[39m\u001b[39m'\u001b[39m, \u001b[39m'\u001b[39m\u001b[39mNeither Agree nor Disagree\u001b[39m\u001b[39m'\u001b[39m, \u001b[39m'\u001b[39m\u001b[39mSomewhat Disagree\u001b[39m\u001b[39m'\u001b[39m, \u001b[39m'\u001b[39m\u001b[39mStrongly Disagree\u001b[39m\u001b[39m'\u001b[39m]\n\u001b[0;32m----> <a href='vscode-notebook-cell://wsl%2Bubuntu-20.04/home/wil/module2_intro_to_pandas/2_7_stack_and_unstack_with_dfply.ipynb#X33sdnNjb2RlLXJlbW90ZQ%3D%3D?line=4'>5</a>\u001b[0m (survey\n\u001b[1;32m      <a href='vscode-notebook-cell://wsl%2Bubuntu-20.04/home/wil/module2_intro_to_pandas/2_7_stack_and_unstack_with_dfply.ipynb#X33sdnNjb2RlLXJlbW90ZQ%3D%3D?line=5'>6</a>\u001b[0m \u001b[39m>>\u001b[39;49m gather (\u001b[39m\"\u001b[39;49m\u001b[39mAgreementScale\u001b[39;49m\u001b[39m\"\u001b[39;49m, \u001b[39m\"\u001b[39;49m\u001b[39mAgreementFactor\u001b[39;49m\u001b[39m\"\u001b[39;49m, columns_from(survey)))\n",
      "File \u001b[0;32m~/.pyenv/versions/anaconda3-2022.05/lib/python3.9/site-packages/dfply/base.py:142\u001b[0m, in \u001b[0;36mpipe.__rrshift__\u001b[0;34m(self, other)\u001b[0m\n\u001b[1;32m    139\u001b[0m     warnings\u001b[39m.\u001b[39msimplefilter(\u001b[39m\"\u001b[39m\u001b[39mignore\u001b[39m\u001b[39m\"\u001b[39m)\n\u001b[1;32m    140\u001b[0m     other_copy\u001b[39m.\u001b[39m_grouped_by \u001b[39m=\u001b[39m \u001b[39mgetattr\u001b[39m(other, \u001b[39m'\u001b[39m\u001b[39m_grouped_by\u001b[39m\u001b[39m'\u001b[39m, \u001b[39mNone\u001b[39;00m)\n\u001b[0;32m--> 142\u001b[0m result \u001b[39m=\u001b[39m \u001b[39mself\u001b[39;49m\u001b[39m.\u001b[39;49mfunction(other_copy)\n\u001b[1;32m    144\u001b[0m \u001b[39mfor\u001b[39;00m p \u001b[39min\u001b[39;00m \u001b[39mself\u001b[39m\u001b[39m.\u001b[39mchained_pipes:\n\u001b[1;32m    145\u001b[0m     result \u001b[39m=\u001b[39m p\u001b[39m.\u001b[39m\u001b[39m__rrshift__\u001b[39m(result)\n",
      "File \u001b[0;32m~/.pyenv/versions/anaconda3-2022.05/lib/python3.9/site-packages/dfply/base.py:149\u001b[0m, in \u001b[0;36mpipe.__call__.<locals>.<lambda>\u001b[0;34m(x)\u001b[0m\n\u001b[1;32m    148\u001b[0m \u001b[39mdef\u001b[39;00m \u001b[39m__call__\u001b[39m(\u001b[39mself\u001b[39m, \u001b[39m*\u001b[39margs, \u001b[39m*\u001b[39m\u001b[39m*\u001b[39mkwargs):\n\u001b[0;32m--> 149\u001b[0m     \u001b[39mreturn\u001b[39;00m pipe(\u001b[39mlambda\u001b[39;00m x: \u001b[39mself\u001b[39;49m\u001b[39m.\u001b[39;49mfunction(x, \u001b[39m*\u001b[39;49margs, \u001b[39m*\u001b[39;49m\u001b[39m*\u001b[39;49mkwargs))\n",
      "File \u001b[0;32m~/.pyenv/versions/anaconda3-2022.05/lib/python3.9/site-packages/dfply/base.py:279\u001b[0m, in \u001b[0;36mIntentionEvaluator.__call__\u001b[0;34m(self, *args, **kwargs)\u001b[0m\n\u001b[1;32m    276\u001b[0m \u001b[39mdef\u001b[39;00m \u001b[39m__call__\u001b[39m(\u001b[39mself\u001b[39m, \u001b[39m*\u001b[39margs, \u001b[39m*\u001b[39m\u001b[39m*\u001b[39mkwargs):\n\u001b[1;32m    277\u001b[0m     df \u001b[39m=\u001b[39m args[\u001b[39m0\u001b[39m]\n\u001b[0;32m--> 279\u001b[0m     args \u001b[39m=\u001b[39m \u001b[39mself\u001b[39;49m\u001b[39m.\u001b[39;49m_recursive_arg_eval(df, args[\u001b[39m1\u001b[39;49m:])\n\u001b[1;32m    280\u001b[0m     kwargs \u001b[39m=\u001b[39m \u001b[39mself\u001b[39m\u001b[39m.\u001b[39m_recursive_kwarg_eval(df, kwargs)\n\u001b[1;32m    282\u001b[0m     \u001b[39mreturn\u001b[39;00m \u001b[39mself\u001b[39m\u001b[39m.\u001b[39mfunction(df, \u001b[39m*\u001b[39margs, \u001b[39m*\u001b[39m\u001b[39m*\u001b[39mkwargs)\n",
      "File \u001b[0;32m~/.pyenv/versions/anaconda3-2022.05/lib/python3.9/site-packages/dfply/base.py:241\u001b[0m, in \u001b[0;36mIntentionEvaluator._recursive_arg_eval\u001b[0;34m(self, df, args)\u001b[0m\n\u001b[1;32m    238\u001b[0m eval_as_label \u001b[39m=\u001b[39m \u001b[39mself\u001b[39m\u001b[39m.\u001b[39m_find_eval_args(\u001b[39mself\u001b[39m\u001b[39m.\u001b[39meval_as_label, args)\n\u001b[1;32m    239\u001b[0m eval_as_selector \u001b[39m=\u001b[39m \u001b[39mself\u001b[39m\u001b[39m.\u001b[39m_find_eval_args(\u001b[39mself\u001b[39m\u001b[39m.\u001b[39meval_as_selector, args)\n\u001b[0;32m--> 241\u001b[0m \u001b[39mreturn\u001b[39;00m [\n\u001b[1;32m    242\u001b[0m     \u001b[39mself\u001b[39m\u001b[39m.\u001b[39m_symbolic_to_label(df, a) \u001b[39mif\u001b[39;00m i \u001b[39min\u001b[39;00m eval_as_label\n\u001b[1;32m    243\u001b[0m     \u001b[39melse\u001b[39;00m \u001b[39mself\u001b[39m\u001b[39m.\u001b[39m_symbolic_to_selector(df, a) \u001b[39mif\u001b[39;00m i \u001b[39min\u001b[39;00m eval_as_selector\n\u001b[1;32m    244\u001b[0m     \u001b[39melse\u001b[39;00m \u001b[39mself\u001b[39m\u001b[39m.\u001b[39m_symbolic_eval(df, a) \u001b[39mif\u001b[39;00m i \u001b[39min\u001b[39;00m eval_symbols\n\u001b[1;32m    245\u001b[0m     \u001b[39melse\u001b[39;00m a\n\u001b[1;32m    246\u001b[0m     \u001b[39mfor\u001b[39;00m i, a \u001b[39min\u001b[39;00m \u001b[39menumerate\u001b[39m(args)\n\u001b[1;32m    247\u001b[0m ]\n",
      "File \u001b[0;32m~/.pyenv/versions/anaconda3-2022.05/lib/python3.9/site-packages/dfply/base.py:242\u001b[0m, in \u001b[0;36m<listcomp>\u001b[0;34m(.0)\u001b[0m\n\u001b[1;32m    238\u001b[0m eval_as_label \u001b[39m=\u001b[39m \u001b[39mself\u001b[39m\u001b[39m.\u001b[39m_find_eval_args(\u001b[39mself\u001b[39m\u001b[39m.\u001b[39meval_as_label, args)\n\u001b[1;32m    239\u001b[0m eval_as_selector \u001b[39m=\u001b[39m \u001b[39mself\u001b[39m\u001b[39m.\u001b[39m_find_eval_args(\u001b[39mself\u001b[39m\u001b[39m.\u001b[39meval_as_selector, args)\n\u001b[1;32m    241\u001b[0m \u001b[39mreturn\u001b[39;00m [\n\u001b[0;32m--> 242\u001b[0m     \u001b[39mself\u001b[39;49m\u001b[39m.\u001b[39;49m_symbolic_to_label(df, a) \u001b[39mif\u001b[39;00m i \u001b[39min\u001b[39;00m eval_as_label\n\u001b[1;32m    243\u001b[0m     \u001b[39melse\u001b[39;00m \u001b[39mself\u001b[39m\u001b[39m.\u001b[39m_symbolic_to_selector(df, a) \u001b[39mif\u001b[39;00m i \u001b[39min\u001b[39;00m eval_as_selector\n\u001b[1;32m    244\u001b[0m     \u001b[39melse\u001b[39;00m \u001b[39mself\u001b[39m\u001b[39m.\u001b[39m_symbolic_eval(df, a) \u001b[39mif\u001b[39;00m i \u001b[39min\u001b[39;00m eval_symbols\n\u001b[1;32m    245\u001b[0m     \u001b[39melse\u001b[39;00m a\n\u001b[1;32m    246\u001b[0m     \u001b[39mfor\u001b[39;00m i, a \u001b[39min\u001b[39;00m \u001b[39menumerate\u001b[39m(args)\n\u001b[1;32m    247\u001b[0m ]\n",
      "File \u001b[0;32m~/.pyenv/versions/anaconda3-2022.05/lib/python3.9/site-packages/dfply/base.py:231\u001b[0m, in \u001b[0;36mIntentionEvaluator._symbolic_to_label\u001b[0;34m(self, df, arg)\u001b[0m\n\u001b[1;32m    230\u001b[0m \u001b[39mdef\u001b[39;00m \u001b[39m_symbolic_to_label\u001b[39m(\u001b[39mself\u001b[39m, df, arg):\n\u001b[0;32m--> 231\u001b[0m     \u001b[39mreturn\u001b[39;00m \u001b[39mself\u001b[39;49m\u001b[39m.\u001b[39;49m_evaluator_loop(df, arg, \u001b[39mself\u001b[39;49m\u001b[39m.\u001b[39;49m_evaluate_label)\n",
      "File \u001b[0;32m~/.pyenv/versions/anaconda3-2022.05/lib/python3.9/site-packages/dfply/base.py:225\u001b[0m, in \u001b[0;36mIntentionEvaluator._evaluator_loop\u001b[0;34m(self, df, arg, eval_func)\u001b[0m\n\u001b[1;32m    223\u001b[0m     \u001b[39mreturn\u001b[39;00m [\u001b[39mself\u001b[39m\u001b[39m.\u001b[39m_evaluator_loop(df, a_, eval_func) \u001b[39mfor\u001b[39;00m a_ \u001b[39min\u001b[39;00m arg]\n\u001b[1;32m    224\u001b[0m \u001b[39melse\u001b[39;00m:\n\u001b[0;32m--> 225\u001b[0m     \u001b[39mreturn\u001b[39;00m eval_func(df, arg)\n",
      "File \u001b[0;32m~/.pyenv/versions/anaconda3-2022.05/lib/python3.9/site-packages/dfply/base.py:181\u001b[0m, in \u001b[0;36mIntentionEvaluator._evaluate_label\u001b[0;34m(self, df, arg)\u001b[0m\n\u001b[1;32m    180\u001b[0m \u001b[39mdef\u001b[39;00m \u001b[39m_evaluate_label\u001b[39m(\u001b[39mself\u001b[39m, df, arg):\n\u001b[0;32m--> 181\u001b[0m     arg \u001b[39m=\u001b[39m \u001b[39mself\u001b[39;49m\u001b[39m.\u001b[39;49m_evaluate(df, arg)\n\u001b[1;32m    183\u001b[0m     cols \u001b[39m=\u001b[39m \u001b[39mlist\u001b[39m(df\u001b[39m.\u001b[39mcolumns)\n\u001b[1;32m    184\u001b[0m     \u001b[39mif\u001b[39;00m \u001b[39misinstance\u001b[39m(arg, pd\u001b[39m.\u001b[39mSeries):\n",
      "File \u001b[0;32m~/.pyenv/versions/anaconda3-2022.05/lib/python3.9/site-packages/dfply/base.py:175\u001b[0m, in \u001b[0;36mIntentionEvaluator._evaluate\u001b[0;34m(self, df, arg)\u001b[0m\n\u001b[1;32m    173\u001b[0m \u001b[39mif\u001b[39;00m \u001b[39misinstance\u001b[39m(arg, Intention):\n\u001b[1;32m    174\u001b[0m     negate \u001b[39m=\u001b[39m arg\u001b[39m.\u001b[39minverted\n\u001b[0;32m--> 175\u001b[0m     arg \u001b[39m=\u001b[39m arg\u001b[39m.\u001b[39;49mevaluate(df)\n\u001b[1;32m    176\u001b[0m     \u001b[39mif\u001b[39;00m negate:\n\u001b[1;32m    177\u001b[0m         arg \u001b[39m=\u001b[39m \u001b[39m~\u001b[39marg\n",
      "File \u001b[0;32m~/.pyenv/versions/anaconda3-2022.05/lib/python3.9/site-packages/dfply/base.py:71\u001b[0m, in \u001b[0;36mIntention.evaluate\u001b[0;34m(self, context)\u001b[0m\n\u001b[1;32m     70\u001b[0m \u001b[39mdef\u001b[39;00m \u001b[39mevaluate\u001b[39m(\u001b[39mself\u001b[39m, context):\n\u001b[0;32m---> 71\u001b[0m     \u001b[39mreturn\u001b[39;00m \u001b[39mself\u001b[39;49m\u001b[39m.\u001b[39;49mfunction(context)\n",
      "File \u001b[0;32m~/.pyenv/versions/anaconda3-2022.05/lib/python3.9/site-packages/dfply/select.py:22\u001b[0m, in \u001b[0;36mselection_filter.<locals>.wrapper.<locals>.<lambda>\u001b[0;34m(x)\u001b[0m\n\u001b[1;32m     21\u001b[0m \u001b[39mdef\u001b[39;00m \u001b[39mwrapper\u001b[39m(\u001b[39m*\u001b[39margs, \u001b[39m*\u001b[39m\u001b[39m*\u001b[39mkwargs):\n\u001b[0;32m---> 22\u001b[0m     \u001b[39mreturn\u001b[39;00m Intention(\u001b[39mlambda\u001b[39;00m x: f(\u001b[39mlist\u001b[39;49m(x\u001b[39m.\u001b[39;49mcolumns),\n\u001b[1;32m     23\u001b[0m                                  \u001b[39m*\u001b[39;49m(selection_context(a, x) \u001b[39mfor\u001b[39;49;00m a \u001b[39min\u001b[39;49;00m args),\n\u001b[1;32m     24\u001b[0m                                  \u001b[39m*\u001b[39;49m\u001b[39m*\u001b[39;49m{k: selection_context(v, x) \u001b[39mfor\u001b[39;49;00m k, v \u001b[39min\u001b[39;49;00m kwargs\u001b[39m.\u001b[39;49mitems()}))\n",
      "File \u001b[0;32m~/.pyenv/versions/anaconda3-2022.05/lib/python3.9/site-packages/dfply/select.py:161\u001b[0m, in \u001b[0;36mcolumns_from\u001b[0;34m(columns, start_col)\u001b[0m\n\u001b[1;32m    159\u001b[0m \u001b[39mif\u001b[39;00m \u001b[39misinstance\u001b[39m(start_col, \u001b[39mstr\u001b[39m):\n\u001b[1;32m    160\u001b[0m     start_col \u001b[39m=\u001b[39m columns\u001b[39m.\u001b[39mindex(start_col)\n\u001b[0;32m--> 161\u001b[0m \u001b[39mreturn\u001b[39;00m columns[start_col:]\n",
      "\u001b[0;31mTypeError\u001b[0m: slice indices must be integers or None or have an __index__ method"
     ]
    }
   ],
   "source": [
    "# Your code here\n",
    "lickertscale = {'Strongly Agree':'5', 'Somewhat Agree':'4', 'Neither Agree nor Disagree':'3', 'Somewhat Disagree':'2', 'Strongly Disagree':'1'}\n",
    "agreement_scale = ['Strongly Agree', 'Somewhat Agree', 'Neither Agree nor Disagree', 'Somewhat Disagree', 'Strongly Disagree']\n",
    "\n",
    "(survey\n",
    ">> gather (\"AgreementScale\", \"AgreementFactor\", columns_from(survey)))"
   ]
  },
  {
   "cell_type": "code",
   "execution_count": null,
   "metadata": {},
   "outputs": [],
   "source": []
  }
 ],
 "metadata": {
  "celltoolbar": "Slideshow",
  "kernelspec": {
   "display_name": "Python 3.9.12 64-bit ('base': pyenv)",
   "language": "python",
   "name": "python3"
  },
  "language_info": {
   "codemirror_mode": {
    "name": "ipython",
    "version": 3
   },
   "file_extension": ".py",
   "mimetype": "text/x-python",
   "name": "python",
   "nbconvert_exporter": "python",
   "pygments_lexer": "ipython3",
   "version": "3.9.12"
  },
  "varInspector": {
   "cols": {
    "lenName": 16,
    "lenType": 16,
    "lenVar": 40
   },
   "kernels_config": {
    "python": {
     "delete_cmd_postfix": "",
     "delete_cmd_prefix": "del ",
     "library": "var_list.py",
     "varRefreshCmd": "print(var_dic_list())"
    },
    "r": {
     "delete_cmd_postfix": ") ",
     "delete_cmd_prefix": "rm(",
     "library": "var_list.r",
     "varRefreshCmd": "cat(var_dic_list()) "
    }
   },
   "types_to_exclude": [
    "module",
    "function",
    "builtin_function_or_method",
    "instance",
    "_Feature"
   ],
   "window_display": false
  },
  "vscode": {
   "interpreter": {
    "hash": "14ab39836ad45f9872a4fbaf347177c599900dde8b629b89551b87d8978983f4"
   }
  }
 },
 "nbformat": 4,
 "nbformat_minor": 2
}
